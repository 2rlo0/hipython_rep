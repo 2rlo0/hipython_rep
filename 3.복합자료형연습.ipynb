{
 "cells": [
  {
   "cell_type": "markdown",
   "id": "3763cbaf-aeca-4520-9feb-ef160c20aa5d",
   "metadata": {},
   "source": [
    "# 자료형 비교"
   ]
  },
  {
   "cell_type": "markdown",
   "id": "d7879c70-44aa-4edc-93b0-d01fe915828c",
   "metadata": {},
   "source": [
    "| 항목       | 리스트 `[]`  | 딕셔너리 `{}`      | 튜플 `()`     | 세트 `set()`         \n",
    "| -------- | --------- | -------------- | ----------- | ------------------- |\n",
    "| 변경 가능성   | ✅ mutable | ✅ mutable      | ❌ immutable | ✅ mutable (내용)   |\n",
    "| 구분 기호    | `[]`      | `{key: value}` | `()`        | `{값, 값}` 또는 `set()` |\n",
    "| 순서       | ✅ 있음      | ✅ 있음 (3.7 이후)  | ✅ 있음        | ❌ 없음 (정렬 안 됨)       |\n",
    "| 중복 허용    | ✅ 허용      | ❌ 키 중복 불가      | ✅ 허용        | ❌ 허용 안 함            |\n",
    "| 인덱싱/슬라이싱 | ✅ 가능      | ❌ 키로 접근        | ✅ 가능        | ❌ 불가능               |\n",
    "| 주요 용도    | 순차적 자료 보관 | 키-값 쌍 저장       | 고정된 값 묶음    | 집합 연산, 중복 제거        |"
   ]
  },
  {
   "cell_type": "markdown",
   "id": "00a27fa1-f1fb-4ad3-ae2f-2ded3f97e713",
   "metadata": {},
   "source": [
    "1. 리스트 numbers가 다음과 같을 때, 첫 번째 원소와 마지막 원소의 합을 구하는 코드를 작성하세요."
   ]
  },
  {
   "cell_type": "code",
   "execution_count": 1,
   "id": "417de10d-c2c8-40f9-af15-066860d6210b",
   "metadata": {},
   "outputs": [
    {
     "data": {
      "text/plain": [
       "110"
      ]
     },
     "execution_count": 1,
     "metadata": {},
     "output_type": "execute_result"
    }
   ],
   "source": [
    "numbers = [10, 20,  30,  40,  50,  60, 70, 80, 90, 100]\n",
    "numbers[0] + numbers[-1]"
   ]
  },
  {
   "cell_type": "markdown",
   "id": "dbf7df7c-1a5d-4e15-83bb-2e9bf23fca44",
   "metadata": {},
   "source": [
    "2. 리스트 colors가 다음과 같을 때, 첫 3개 원소와 마지막 2개 원소를 슬라이싱을 사용하여 출력하는 코드를 작성하세요."
   ]
  },
  {
   "cell_type": "code",
   "execution_count": 2,
   "id": "c242d6bc-b0b3-4e7a-a11d-05ab6b8ba0ba",
   "metadata": {},
   "outputs": [
    {
     "data": {
      "text/plain": [
       "(['red', 'green', 'blue'], ['orange', 'black'])"
      ]
     },
     "execution_count": 2,
     "metadata": {},
     "output_type": "execute_result"
    }
   ],
   "source": [
    "colors = [\"red\", \"green\", \"blue\", \"yellow\", \"purple\", \"orange\", \"black\"]\n",
    "colors[:3], colors[-2:]"
   ]
  },
  {
   "cell_type": "markdown",
   "id": "818ec0fa-a0d4-4f92-8aa7-1a7b7eca2084",
   "metadata": {},
   "source": [
    "3. 다음 리스트에서 \"korean\"이라는 문자열을 찾아 출력하는 코드를 작성하세요. - indexing"
   ]
  },
  {
   "cell_type": "code",
   "execution_count": 3,
   "id": "3bc73f95-8fe6-44e0-8c9e-e59630e4e86b",
   "metadata": {},
   "outputs": [
    {
     "data": {
      "text/plain": [
       "'korean'"
      ]
     },
     "execution_count": 3,
     "metadata": {},
     "output_type": "execute_result"
    }
   ],
   "source": [
    "list_a = [\n",
    "    [1, 2, 3],\n",
    "    [\"red\", \"green\", \"blue\"],\n",
    "    [False, \"korean\", True]\n",
    "]\n",
    "\n",
    "list_a[2][1]"
   ]
  },
  {
   "cell_type": "code",
   "execution_count": 4,
   "id": "81d5ceeb-d1fe-4e7d-a4a6-0d8e792e0eef",
   "metadata": {},
   "outputs": [
    {
     "name": "stdout",
     "output_type": "stream",
     "text": [
      "korean\n"
     ]
    }
   ],
   "source": [
    "for sub in list_a:\n",
    "    for item in sub:\n",
    "        # print(item)\n",
    "        if item == 'korean':\n",
    "            print(item)"
   ]
  },
  {
   "cell_type": "markdown",
   "id": "bef9a938-bf5f-4ae3-84c8-e39edb1f394d",
   "metadata": {},
   "source": [
    "4. 리스트 list_a과 list_b가 다음과 같을 때, 두 리스트를 합쳐서 새로운 리스트 list_c를 만드는 코드를 작성하세요"
   ]
  },
  {
   "cell_type": "code",
   "execution_count": 5,
   "id": "e1f5a238-ec45-4ba0-b183-2c87c138da45",
   "metadata": {},
   "outputs": [
    {
     "data": {
      "text/plain": [
       "[1, 2, 3, 4, 5, 6]"
      ]
     },
     "execution_count": 5,
     "metadata": {},
     "output_type": "execute_result"
    }
   ],
   "source": [
    "list_a = [1, 2, 3]\n",
    "list_b = [4, 5, 6]\n",
    "list_c = list_a + list_b\n",
    "list_c"
   ]
  },
  {
   "cell_type": "markdown",
   "id": "a5c34f74-ee1f-4a0b-baaa-956073908b70",
   "metadata": {},
   "source": [
    "5. 아래의 튜플 tuple_a에서 \"banana\"를 \"blueberry\"로 변경하는 코드를 작성하세요."
   ]
  },
  {
   "cell_type": "code",
   "execution_count": 6,
   "id": "76ad5d4f-90ed-4757-b546-9d9f4349138e",
   "metadata": {},
   "outputs": [
    {
     "data": {
      "text/plain": [
       "('apple', 'blueberry', 'cherry')"
      ]
     },
     "execution_count": 6,
     "metadata": {},
     "output_type": "execute_result"
    }
   ],
   "source": [
    "tuple_a = (\"apple\", \"banana\", \"cherry\")\n",
    "list_a = list(tuple_a)\n",
    "list_a[1] = \"blueberry\"\n",
    "tuple(list_a)"
   ]
  },
  {
   "cell_type": "markdown",
   "id": "f1ee7d7a-4d71-41da-8f2a-43b0a7446741",
   "metadata": {},
   "source": [
    "6. 변수 a, b, c의 값을 사용하여 튜플 tuple_a를 생성하고 출력하는 코드를 작성하세요."
   ]
  },
  {
   "cell_type": "code",
   "execution_count": 7,
   "id": "ac08d5e4-002e-4eb1-bef9-9565c1d68eb9",
   "metadata": {},
   "outputs": [
    {
     "data": {
      "text/plain": [
       "(5, 10, 15)"
      ]
     },
     "execution_count": 7,
     "metadata": {},
     "output_type": "execute_result"
    }
   ],
   "source": [
    "a = 5\n",
    "b = 10\n",
    "c = 15\n",
    "tuple_a = a,b,c\n",
    "tuple_a"
   ]
  },
  {
   "cell_type": "markdown",
   "id": "32cd4dde-5c98-4cdf-af85-bd8c27150792",
   "metadata": {},
   "source": [
    "7. 튜플 numbers가 주어졌을 때, 튜플의 최대값과 최소값을 출력하는 코드를 작성하세요."
   ]
  },
  {
   "cell_type": "code",
   "execution_count": 8,
   "id": "ac9326b7-87a5-435c-b0a9-94b386822971",
   "metadata": {},
   "outputs": [
    {
     "data": {
      "text/plain": [
       "(92, 19)"
      ]
     },
     "execution_count": 8,
     "metadata": {},
     "output_type": "execute_result"
    }
   ],
   "source": [
    "numbers = (92, 89, 72, 31, 71, 33, 19)\n",
    "max(numbers), min(numbers)"
   ]
  },
  {
   "cell_type": "markdown",
   "id": "3760bba4-e985-401c-8648-1d4d2289feb3",
   "metadata": {},
   "source": [
    "8. dict 타입의 student(변수명)를 생성하고, 아래의 키-값 쌍을 추가하는 코드를 작성하세요.\n",
    "name: \"Alice\"\n",
    "age: 24\n",
    "major: \"Computer Science\""
   ]
  },
  {
   "cell_type": "code",
   "execution_count": 9,
   "id": "9a21c3b2-437e-4b54-a04b-28179669cfe0",
   "metadata": {},
   "outputs": [
    {
     "data": {
      "text/plain": [
       "{'name': 'Alice', 'age': 24, 'major': 'Computer Science'}"
      ]
     },
     "execution_count": 9,
     "metadata": {},
     "output_type": "execute_result"
    }
   ],
   "source": [
    "student = {}\n",
    "student[\"name\"] = \"Alice\"\n",
    "student[\"age\"] = 24\n",
    "student[\"major\"] = \"Computer Science\"\n",
    "student"
   ]
  },
  {
   "cell_type": "markdown",
   "id": "01f7db14-1096-4d15-8a74-fb4d752da827",
   "metadata": {},
   "source": [
    "9. 위에서 생성한 student에서, 모든 키와 값을 출력하는 코드를 작성하세요"
   ]
  },
  {
   "cell_type": "code",
   "execution_count": 10,
   "id": "5261ac2c-7184-4f6d-9209-1fd30808bb40",
   "metadata": {
    "collapsed": true,
    "jupyter": {
     "outputs_hidden": true
    },
    "scrolled": true
   },
   "outputs": [
    {
     "data": {
      "text/plain": [
       "['__class__',\n",
       " '__class_getitem__',\n",
       " '__contains__',\n",
       " '__delattr__',\n",
       " '__delitem__',\n",
       " '__dir__',\n",
       " '__doc__',\n",
       " '__eq__',\n",
       " '__format__',\n",
       " '__ge__',\n",
       " '__getattribute__',\n",
       " '__getitem__',\n",
       " '__getstate__',\n",
       " '__gt__',\n",
       " '__hash__',\n",
       " '__init__',\n",
       " '__init_subclass__',\n",
       " '__ior__',\n",
       " '__iter__',\n",
       " '__le__',\n",
       " '__len__',\n",
       " '__lt__',\n",
       " '__ne__',\n",
       " '__new__',\n",
       " '__or__',\n",
       " '__reduce__',\n",
       " '__reduce_ex__',\n",
       " '__repr__',\n",
       " '__reversed__',\n",
       " '__ror__',\n",
       " '__setattr__',\n",
       " '__setitem__',\n",
       " '__sizeof__',\n",
       " '__str__',\n",
       " '__subclasshook__',\n",
       " 'clear',\n",
       " 'copy',\n",
       " 'fromkeys',\n",
       " 'get',\n",
       " 'items',\n",
       " 'keys',\n",
       " 'pop',\n",
       " 'popitem',\n",
       " 'setdefault',\n",
       " 'update',\n",
       " 'values']"
      ]
     },
     "execution_count": 10,
     "metadata": {},
     "output_type": "execute_result"
    }
   ],
   "source": [
    "dir(student)"
   ]
  },
  {
   "cell_type": "code",
   "execution_count": 11,
   "id": "8fb2ba3e-58a8-4bbf-a6ab-1f7b35b30185",
   "metadata": {},
   "outputs": [
    {
     "data": {
      "text/plain": [
       "dict_items([('name', 'Alice'), ('age', 24), ('major', 'Computer Science')])"
      ]
     },
     "execution_count": 11,
     "metadata": {},
     "output_type": "execute_result"
    }
   ],
   "source": [
    "student.items()"
   ]
  },
  {
   "cell_type": "code",
   "execution_count": 12,
   "id": "8ebaa3c7-b53c-4751-89a4-f0fd750e53ea",
   "metadata": {},
   "outputs": [
    {
     "name": "stdout",
     "output_type": "stream",
     "text": [
      "name:Alice\n",
      "age:24\n",
      "major:Computer Science\n"
     ]
    }
   ],
   "source": [
    "for k,v in student.items():\n",
    "    print(f'{k}:{v}')"
   ]
  },
  {
   "cell_type": "markdown",
   "id": "bc17f51e-57ec-4211-9582-fefc54aa3149",
   "metadata": {},
   "source": [
    "10. 위에서 생성한 student에서, age(나이)를 26으로 변경하세요."
   ]
  },
  {
   "cell_type": "code",
   "execution_count": 13,
   "id": "39d33358-c3a3-4994-a5b6-0d5c2df50a5c",
   "metadata": {},
   "outputs": [
    {
     "data": {
      "text/plain": [
       "{'name': 'Alice', 'age': 26, 'major': 'Computer Science'}"
      ]
     },
     "execution_count": 13,
     "metadata": {},
     "output_type": "execute_result"
    }
   ],
   "source": [
    "student['age'] = 26\n",
    "student"
   ]
  },
  {
   "cell_type": "markdown",
   "id": "6b556969-6c29-4594-a82b-be71ebbc0054",
   "metadata": {},
   "source": [
    "11. 다음 딕셔너리 students에서 name의 값을 리스트(name_list)로, age의 값을 튜플(age_tuple) 만드는 코드를 작성하세요"
   ]
  },
  {
   "cell_type": "code",
   "execution_count": 14,
   "id": "a0beb164-cf37-43fb-b432-7a53e158c004",
   "metadata": {},
   "outputs": [
    {
     "data": {
      "text/plain": [
       "['Alice', 'Bob', 'Charlie']"
      ]
     },
     "execution_count": 14,
     "metadata": {},
     "output_type": "execute_result"
    }
   ],
   "source": [
    "students = {\n",
    "    \"student1\": {\"name\": \"Alice\", \"age\": 24},\n",
    "    \"student2\": {\"name\": \"Bob\", \"age\": 22},\n",
    "    \"student3\": {\"name\": \"Charlie\", \"age\": 23}\n",
    "}\n",
    "name_list = []\n",
    "name_list\n",
    "for student in students.values():\n",
    "    name_list.append(student['name'])\n",
    "name_list"
   ]
  },
  {
   "cell_type": "code",
   "execution_count": 15,
   "id": "1a798fce-82d9-4b4c-9d27-216f06249076",
   "metadata": {},
   "outputs": [
    {
     "data": {
      "text/plain": [
       "(24, 22, 23)"
      ]
     },
     "execution_count": 15,
     "metadata": {},
     "output_type": "execute_result"
    }
   ],
   "source": [
    "age_list = []\n",
    "age_list\n",
    "for student in students.values():\n",
    "    age_list.append(student['age'])\n",
    "tuple(age_list)"
   ]
  },
  {
   "cell_type": "code",
   "execution_count": 16,
   "id": "8391f4b9-89a6-4ea6-ba2f-2895fc67bcc9",
   "metadata": {},
   "outputs": [
    {
     "data": {
      "text/plain": [
       "(['Alice', 'Bob', 'Charlie'], (24, 22, 23))"
      ]
     },
     "execution_count": 16,
     "metadata": {},
     "output_type": "execute_result"
    }
   ],
   "source": [
    "students = {\n",
    "    \"student1\": {\"name\": \"Alice\", \"age\": 24},\n",
    "    \"student2\": {\"name\": \"Bob\", \"age\": 22},\n",
    "    \"student3\": {\"name\": \"Charlie\", \"age\": 23}\n",
    "}\n",
    "name_list = []\n",
    "age_list = []\n",
    "for key in students.keys():\n",
    "    stu = students[key]\n",
    "    name_list.append(stu['name'])\n",
    "    age_list.append(stu['age'])\n",
    "age_tuple = tuple(age_list)\n",
    "name_list, age_tuple"
   ]
  },
  {
   "cell_type": "code",
   "execution_count": 17,
   "id": "fe0cb4ac-599f-4f6a-9a4d-a9f6aa96bb78",
   "metadata": {},
   "outputs": [
    {
     "data": {
      "text/plain": [
       "(['Alice', 'Bob', 'Charlie'], (24, 22, 23))"
      ]
     },
     "execution_count": 17,
     "metadata": {},
     "output_type": "execute_result"
    }
   ],
   "source": [
    "students = {\n",
    "    \"student1\": {\"name\": \"Alice\", \"age\": 24},\n",
    "    \"student2\": {\"name\": \"Bob\", \"age\": 22},\n",
    "    \"student3\": {\"name\": \"Charlie\", \"age\": 23}\n",
    "}\n",
    "name_list = []\n",
    "age_list = []\n",
    "for stu in students.values():\n",
    "    name_list.append(stu['name'])\n",
    "    age_list.append(stu['age'])\n",
    "age_tuple = tuple(age_list)\n",
    "name_list, age_tuple"
   ]
  }
 ],
 "metadata": {
  "kernelspec": {
   "display_name": "Python 3 (ipykernel)",
   "language": "python",
   "name": "python3"
  },
  "language_info": {
   "codemirror_mode": {
    "name": "ipython",
    "version": 3
   },
   "file_extension": ".py",
   "mimetype": "text/x-python",
   "name": "python",
   "nbconvert_exporter": "python",
   "pygments_lexer": "ipython3",
   "version": "3.12.9"
  }
 },
 "nbformat": 4,
 "nbformat_minor": 5
}
