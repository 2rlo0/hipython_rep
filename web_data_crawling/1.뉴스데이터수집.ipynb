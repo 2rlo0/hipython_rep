{
 "cells": [
  {
   "cell_type": "markdown",
   "id": "fe695698",
   "metadata": {},
   "source": [
    "# 실습1\n",
    "## SBS 뉴스데이터 수집하기"
   ]
  },
  {
   "cell_type": "code",
   "execution_count": 1,
   "id": "ce1155ab",
   "metadata": {},
   "outputs": [
    {
     "name": "stdout",
     "output_type": "stream",
     "text": [
      "Requirement already satisfied: lxml in c:\\users\\admin\\miniconda3\\envs\\webcrawl_env\\lib\\site-packages (6.0.0)\n",
      "Note: you may need to restart the kernel to use updated packages.\n"
     ]
    }
   ],
   "source": [
    "pip install lxml"
   ]
  },
  {
   "cell_type": "code",
   "execution_count": 2,
   "id": "6c35361a",
   "metadata": {},
   "outputs": [
    {
     "name": "stdout",
     "output_type": "stream",
     "text": [
      "기사 개수:  8\n"
     ]
    }
   ],
   "source": [
    "import requests\n",
    "from bs4 import BeautifulSoup\n",
    "news_rss = requests.get('https://news.sbs.co.kr/news/TopicRssFeed.do?plink=RSSREADER')\n",
    "news_rss_soup = BeautifulSoup(news_rss.content, 'xml')\n",
    "link_list = news_rss_soup.select('item > link')\n",
    "print(\"기사 개수: \", len(link_list))"
   ]
  },
  {
   "cell_type": "code",
   "execution_count": 3,
   "id": "7117b420",
   "metadata": {},
   "outputs": [
    {
     "name": "stdout",
     "output_type": "stream",
     "text": [
      "Save complete\n"
     ]
    }
   ],
   "source": [
    "title_list = news_rss_soup.select('item > title')\n",
    "title_list = [title.text for title in title_list]\n",
    "\n",
    "news_data = []\n",
    "\n",
    "# 기사 본문 수집\n",
    "for link in link_list:\n",
    "    news_response = requests.get(link.text)\n",
    "    news_content_soup = BeautifulSoup(news_response.content, 'html.parser')\n",
    "    news_content = news_content_soup.select_one(\"div[itemprop=articleBody]\")\n",
    "\n",
    "    if news_content:\n",
    "        # 텍스트만 추출하고 특수기호 디코딩\n",
    "        clean_text = news_content.get_text(separator=' ', strip=True)\n",
    "        clean_text = clean_text.replace('▲', '').strip() # 특수기호 제거\n",
    "    else:\n",
    "        clean_text = \"\"\n",
    "        \n",
    "    news_data.append(clean_text)\n",
    "    \n",
    "import pandas as pd\n",
    "news_df = pd.DataFrame(data={'title': title_list, 'content': news_data})\n",
    "news_df.to_csv(\"news.csv\", encoding=\"utf-8-sig\", index=False)\n",
    "print(\"Save complete\")"
   ]
  },
  {
   "cell_type": "markdown",
   "id": "629ab371",
   "metadata": {},
   "source": [
    "## db에 연결하기"
   ]
  },
  {
   "cell_type": "code",
   "execution_count": 4,
   "id": "2b4ac9e4",
   "metadata": {},
   "outputs": [],
   "source": [
    "import pymysql\n",
    "\n",
    "# DB 연결\n",
    "conn = pymysql.connect(host='localhost', user='root', password='1234', db='web_data', charset='utf8')\n",
    "cursor = conn.cursor()\n",
    "\n",
    "# 테이블 생성\n",
    "create_table_sql = '''\n",
    "CREATE TABLE IF NOT EXISTS news (\n",
    "    id INT AUTO_INCREMENT PRIMARY KEY,\n",
    "    title TEXT,\n",
    "    content TEXT\n",
    ")\n",
    "'''\n",
    "cursor.execute(create_table_sql)\n",
    "conn.commit()"
   ]
  },
  {
   "cell_type": "code",
   "execution_count": 5,
   "id": "efa7cd15",
   "metadata": {},
   "outputs": [
    {
     "name": "stdout",
     "output_type": "stream",
     "text": [
      "✔ DB 저장 완료\n"
     ]
    }
   ],
   "source": [
    "import pandas as pd\n",
    "\n",
    "# CSV 파일 불러오기\n",
    "df = pd.read_csv('news.csv')\n",
    "\n",
    "# INSERT 쿼리 정의\n",
    "insert_sql = '''\n",
    "INSERT INTO news (title, content)\n",
    "VALUES (%s, %s)\n",
    "'''\n",
    "\n",
    "# 행 단위 삽입\n",
    "for _, row in df.iterrows():\n",
    "    cursor.execute(insert_sql, (row['title'], row['content']))\n",
    "\n",
    "conn.commit()\n",
    "print(\"✔ DB 저장 완료\")\n",
    "\n",
    "# 연결 종료\n",
    "cursor.close()\n",
    "conn.close()"
   ]
  }
 ],
 "metadata": {
  "kernelspec": {
   "display_name": "webcrawl_env",
   "language": "python",
   "name": "python3"
  },
  "language_info": {
   "codemirror_mode": {
    "name": "ipython",
    "version": 3
   },
   "file_extension": ".py",
   "mimetype": "text/x-python",
   "name": "python",
   "nbconvert_exporter": "python",
   "pygments_lexer": "ipython3",
   "version": "3.10.18"
  }
 },
 "nbformat": 4,
 "nbformat_minor": 5
}
