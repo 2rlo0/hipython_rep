{
 "cells": [
  {
   "cell_type": "markdown",
   "id": "5dd83c4e",
   "metadata": {},
   "source": [
    "# 실습2\n",
    "## 무치차트 데이터 수집하기"
   ]
  },
  {
   "cell_type": "code",
   "execution_count": 1,
   "id": "07c07918",
   "metadata": {},
   "outputs": [
    {
     "name": "stdout",
     "output_type": "stream",
     "text": [
      "Requirement already satisfied: pillow in c:\\users\\admin\\miniconda3\\envs\\webcrawl_env\\lib\\site-packages (11.3.0)\n",
      "Note: you may need to restart the kernel to use updated packages.\n"
     ]
    }
   ],
   "source": [
    "pip install pillow"
   ]
  },
  {
   "cell_type": "code",
   "execution_count": 2,
   "id": "0018c512",
   "metadata": {},
   "outputs": [],
   "source": [
    "#content > div.wArea.space > div.movieBox > ul > li:nth-child(1) > div > div.movie-title > h3 > a\n",
    "#content > div.wArea.space > div.movieBox > ul > li:nth-child(1) > a > img"
   ]
  },
  {
   "cell_type": "code",
   "execution_count": 3,
   "id": "bd95dc5c",
   "metadata": {},
   "outputs": [
    {
     "name": "stdout",
     "output_type": "stream",
     "text": [
      "영화 정보를 출력합니다.\n",
      "수집한 영화 수: 20\n",
      "좀비딸\n",
      "F1 더 무비\n",
      "전지적 독자 시점\n",
      "킹 오브 킹스\n",
      "판타스틱 4: 새로운 출발\n",
      "악마가 이사왔다\n",
      "명탐정 코난: 척안의 잔상\n",
      "발레리나\n",
      "배드 가이즈 2\n",
      "베베핀 극장판: 사라진 베베핀과 핑크퐁 대모험\n",
      "쥬라기 월드: 새로운 시작\n",
      "노이즈\n",
      "콘스탄틴\n",
      "극장판 도라에몽: 진구의 그림이야기\n",
      "꼬마마법사 주니토니\n",
      "고고다이노 극장판: 게코도마뱀의 꿈\n",
      "슈퍼맨\n",
      "미세리코르디아\n",
      "강령: 귀신놀이\n",
      "추적\n",
      "✔ CSV 저장 완료: movie_list.csv\n"
     ]
    }
   ],
   "source": [
    "import requests\n",
    "from bs4 import BeautifulSoup\n",
    "from io import BytesIO\n",
    "from PIL import Image\n",
    "import re\n",
    "import os\n",
    "\n",
    "movie_ranking = requests.get(\"https://www.moviechart.co.kr/rank/realtime/index/image\")\n",
    "\n",
    "image_dir = 'images'\n",
    "if not os.path.exists(image_dir):\n",
    "    os.makedirs(image_dir)\n",
    "    \n",
    "pattern = r'[\\\\/:\"*?<>|]'\n",
    "movie_data = []\n",
    "\n",
    "if movie_ranking.status_code == 200:\n",
    "    print(\"영화 정보를 출력합니다.\")\n",
    "    soup = BeautifulSoup(movie_ranking.content, 'html.parser')\n",
    "    title_list = soup.select(\".movieBox-list .movie-title a\")\n",
    "    image_list = soup.select(\".movieBox-list .movieBox-item img\")\n",
    "    print(f\"수집한 영화 수: {len(title_list)}\")\n",
    "    \n",
    "    for title, image in zip(title_list, image_list):\n",
    "        image_src = image.get('src')\n",
    "        \n",
    "         # ✅ 'source=' 뒤의 실제 이미지 URL만 추출\n",
    "        source_match = re.search(r'source=(https?://.+)', image_src)\n",
    "        if source_match:\n",
    "            full_image_url = source_match.group(1)\n",
    "        else:\n",
    "            full_image_url = \"https://www.moviechart.co.kr\" + image_src  # fallback\n",
    "        \n",
    "        image_response = requests.get(\"https://www.moviechart.co.kr\" + image_src)\n",
    "        img = Image.open(BytesIO(image_response.content))\n",
    "        image_filename = re.sub(pattern, '', title.text)\n",
    "        img.save(os.path.join(image_dir, image_filename + \".png\"))\n",
    "        print(title.text)\n",
    "\n",
    "        # 데이터 수집\n",
    "        movie_data.append({'title': title.text, 'image_url': full_image_url})\n",
    "else:\n",
    "    print(\"페이지에 연결할 수 없습니다.\")\n",
    "\n",
    "import pandas as pd \n",
    "df = pd.DataFrame(movie_data)\n",
    "df.to_csv(\"movie_list.csv\", encoding=\"utf-8-sig\", index=False)\n",
    "print(\"✔ CSV 저장 완료: movie_list.csv\")    "
   ]
  },
  {
   "cell_type": "markdown",
   "id": "052b4769",
   "metadata": {},
   "source": [
    "## db에 연결하기"
   ]
  },
  {
   "cell_type": "code",
   "execution_count": 4,
   "id": "4599adb9",
   "metadata": {},
   "outputs": [],
   "source": [
    "import pymysql\n",
    "\n",
    "# MySQL 연결\n",
    "conn = pymysql.connect(\n",
    "    host='localhost',      \n",
    "    user='root',          \n",
    "    password='1234',   \n",
    "    db='web_data',           \n",
    "    charset='utf8mb4'\n",
    ")\n",
    "cursor = conn.cursor()\n",
    "\n",
    "# 테이블 생성\n",
    "create_table_sql = '''\n",
    "CREATE TABLE IF NOT EXISTS movies (\n",
    "    id INT AUTO_INCREMENT PRIMARY KEY,\n",
    "    title VARCHAR(255),\n",
    "    image_url TEXT\n",
    ")\n",
    "'''\n",
    "cursor.execute(create_table_sql)\n",
    "conn.commit()"
   ]
  },
  {
   "cell_type": "code",
   "execution_count": 5,
   "id": "03baa62f",
   "metadata": {},
   "outputs": [
    {
     "name": "stdout",
     "output_type": "stream",
     "text": [
      "✔ DB 저장 완료\n"
     ]
    }
   ],
   "source": [
    "import pandas as pd\n",
    "\n",
    "# CSV 불러오기\n",
    "df = pd.read_csv(\"movie_list.csv\")\n",
    "\n",
    "# INSERT 쿼리 준비\n",
    "insert_sql = '''\n",
    "INSERT INTO movies (title, image_url)\n",
    "VALUES (%s, %s)\n",
    "'''\n",
    "\n",
    "# 데이터 삽입\n",
    "for _, row in df.iterrows():\n",
    "    cursor.execute(insert_sql, (row['title'], row['image_url']))\n",
    "\n",
    "conn.commit()\n",
    "print(\"✔ DB 저장 완료\")\n",
    "\n",
    "# 연결 종료\n",
    "cursor.close()\n",
    "conn.close()"
   ]
  }
 ],
 "metadata": {
  "kernelspec": {
   "display_name": "webcrawl_env",
   "language": "python",
   "name": "python3"
  },
  "language_info": {
   "codemirror_mode": {
    "name": "ipython",
    "version": 3
   },
   "file_extension": ".py",
   "mimetype": "text/x-python",
   "name": "python",
   "nbconvert_exporter": "python",
   "pygments_lexer": "ipython3",
   "version": "3.10.18"
  }
 },
 "nbformat": 4,
 "nbformat_minor": 5
}
