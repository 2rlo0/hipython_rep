{
 "cells": [
  {
   "cell_type": "markdown",
   "id": "2a67a1d8",
   "metadata": {},
   "source": [
    "# 뮤지컬 데이터 수집\n",
    "## 뮤지컬 50위 랭킹 데이터\n",
    "# 랭킹, 뮤지컬명, 장소, 예매율 데이터 추출"
   ]
  },
  {
   "cell_type": "code",
   "execution_count": 1,
   "id": "4b3b868f",
   "metadata": {},
   "outputs": [],
   "source": [
    "import requests\n",
    "from bs4 import BeautifulSoup\n",
    "import pandas as pd\n",
    "import re\n",
    "\n",
    "url = \"https://tickets.interpark.com/contents/ranking?genre=MUSICAL\"\n",
    "res = requests.get(url)\n",
    "soup = BeautifulSoup(res.content, 'html.parser')"
   ]
  },
  {
   "cell_type": "code",
   "execution_count": 74,
   "id": "91e44ce6",
   "metadata": {},
   "outputs": [],
   "source": [
    "#contents > article:nth-child(3) > section > div > div > div.responsive-ranking-list_rankingListWrap__GM0yK.responsive-ranking-list_topRated__axfTY > div:nth-child(2) > div.responsive-ranking-list_rankingItemInner__mMLxe > ul > div.responsive-ranking-list_rankingContentsInner__8FuZE > li\n",
    "#contents > article:nth-child(3) > section > div > div > div.responsive-ranking-list_rankingListWrap__GM0yK.responsive-ranking-list_topRated__axfTY > div:nth-child(3) > div.responsive-ranking-list_rankingItemInner__mMLxe > ul > div.responsive-ranking-list_rankingContentsInner__8FuZE > li\n",
    "#contents > article:nth-child(3) > section > div > div > div:nth-child(2) > div:nth-child(2) > div.responsive-ranking-list_rankingItemInner__mMLxe > ul > div.responsive-ranking-list_rankingContentsInner__8FuZE > li"
   ]
  },
  {
   "cell_type": "code",
   "execution_count": 2,
   "id": "011edefd",
   "metadata": {},
   "outputs": [
    {
     "data": {
      "text/plain": [
       "50"
      ]
     },
     "execution_count": 2,
     "metadata": {},
     "output_type": "execute_result"
    }
   ],
   "source": [
    "# .responsive-ranking-list_rankingContentsInner__8FuZE > li\n",
    "data = []\n",
    "items = soup.select('section > div > div .responsive-ranking-list_rankingItem__PuQPJ')\n",
    "len(items)"
   ]
  },
  {
   "cell_type": "code",
   "execution_count": 76,
   "id": "00f16cc5",
   "metadata": {},
   "outputs": [],
   "source": [
    "#contents > article:nth-child(3) > section > div > div > div:nth-child(2) > div:nth-child(1) > div.responsive-ranking-list_rankingItemInner__mMLxe > ul > div.responsive-ranking-list_rankingContentsInner__8FuZE > li"
   ]
  },
  {
   "cell_type": "code",
   "execution_count": 3,
   "id": "8aaaac3f",
   "metadata": {},
   "outputs": [],
   "source": [
    "def clean_title(title):\n",
    "    match = re.search(r'〈(.*?)〉', title)\n",
    "    if match:\n",
    "        return match.group(1).strip()\n",
    "    else:\n",
    "        return title.replace('뮤지컬', '').strip()"
   ]
  },
  {
   "cell_type": "code",
   "execution_count": 4,
   "id": "f72e12d1",
   "metadata": {},
   "outputs": [],
   "source": [
    "for idx, item in enumerate(items, start=1):\n",
    "    raw_title = item.select_one(\".responsive-ranking-list_goodsName__aHHGY\").text.strip()\n",
    "    title = clean_title(raw_title)\n",
    "    place = item.select_one(\".responsive-ranking-list_placeName__9HN2O\").text.strip()\n",
    "    rate = item.select_one(\".responsive-ranking-list_bookingPercent__7ppKT\").text.strip().replace(\"예매율\", \"\").strip()\n",
    "\n",
    "    data.append({\n",
    "        \"rank\": idx,\n",
    "        \"title\": title,\n",
    "        \"place\": place,\n",
    "        \"booking_rate\": rate\n",
    "    })"
   ]
  },
  {
   "cell_type": "code",
   "execution_count": 5,
   "id": "3fe60d08",
   "metadata": {},
   "outputs": [
    {
     "data": {
      "text/plain": [
       "[{'rank': 1, 'title': '위키드', 'place': '블루스퀘어 신한카드홀', 'booking_rate': '33.5%'},\n",
       " {'rank': 2, 'title': '브로드웨이 42번가', 'place': '샤롯데씨어터', 'booking_rate': '7.8%'},\n",
       " {'rank': 3, 'title': '팬텀', 'place': '세종문화회관 대극장', 'booking_rate': '7.3%'},\n",
       " {'rank': 4,\n",
       "  'title': '맘마미아!',\n",
       "  'place': 'LG아트센터 서울 LG SIGNATURE 홀',\n",
       "  'booking_rate': '5%'},\n",
       " {'rank': 5, 'title': '멤피스', 'place': '충무아트센터 대극장', 'booking_rate': '3.8%'},\n",
       " {'rank': 6, 'title': '알라딘', 'place': '부산 드림씨어터', 'booking_rate': '3.4%'},\n",
       " {'rank': 7, 'title': '마하고니', 'place': '링크아트센터 페이코홀', 'booking_rate': '3.2%'},\n",
       " {'rank': 8, 'title': '등등곡', 'place': '예스24스테이지 1관', 'booking_rate': '2.1%'},\n",
       " {'rank': 9, 'title': '빨래', 'place': 'NOL 유니플렉스 2관', 'booking_rate': '1.6%'},\n",
       " {'rank': 10,\n",
       "  'title': '스웨그에이지 외쳐,조선!',\n",
       "  'place': '홍익대 대학로 아트센터 대극장',\n",
       "  'booking_rate': '1.6%'},\n",
       " {'rank': 11,\n",
       "  'title': '쇼맨_어느 독재자의 네 번째 대역배우',\n",
       "  'place': '국립정동극장',\n",
       "  'booking_rate': '1.6%'},\n",
       " {'rank': 12,\n",
       "  'title': '프리다',\n",
       "  'place': 'NOL 유니플렉스 1관(구 인터파크 유니플렉스)',\n",
       "  'booking_rate': '1.3%'},\n",
       " {'rank': 13,\n",
       "  'title': '차미',\n",
       "  'place': '대학로 TOM(티오엠) 1관',\n",
       "  'booking_rate': '1.3%'},\n",
       " {'rank': 14,\n",
       "  'title': '노트르담 드 파리',\n",
       "  'place': '세종문화회관 대극장',\n",
       "  'booking_rate': '1.2%'},\n",
       " {'rank': 15,\n",
       "  'title': '스트라빈스키',\n",
       "  'place': '대학로 TOM(티오엠) 2관',\n",
       "  'booking_rate': '1.2%'},\n",
       " {'rank': 16, 'title': '쉐도우', 'place': '백암아트홀', 'booking_rate': '1%'},\n",
       " {'rank': 17, 'title': '쿠자', 'place': '신세계 센텀시티 내 빅탑', 'booking_rate': '0.9%'},\n",
       " {'rank': 18,\n",
       "  'title': '마리 퀴리',\n",
       "  'place': '광림아트센터 BBCH홀',\n",
       "  'booking_rate': '0.9%'},\n",
       " {'rank': 19,\n",
       "  'title': '위대한개츠비(The Great Gatsby) - 서울 오리지널 프로덕션',\n",
       "  'place': 'GS아트센터',\n",
       "  'booking_rate': '0.9%'},\n",
       " {'rank': 20,\n",
       "  'title': '다시, 동물원',\n",
       "  'place': '동덕여자대학교 공연예술센터 코튼홀',\n",
       "  'booking_rate': '0.8%'},\n",
       " {'rank': 21,\n",
       "  'title': '르 마스크',\n",
       "  'place': 'et theatre 1 (이티 씨어터 원)',\n",
       "  'booking_rate': '0.8%'},\n",
       " {'rank': 22,\n",
       "  'title': '슬립노모어 서울',\n",
       "  'place': '매키탄 호텔 (The McKithan Hotel)',\n",
       "  'booking_rate': '0.8%'},\n",
       " {'rank': 23,\n",
       "  'title': '오늘 밤, 세계에서 이 사랑이 사라진다 해도',\n",
       "  'place': '코엑스 신한카드 아티움',\n",
       "  'booking_rate': '0.8%'},\n",
       " {'rank': 24,\n",
       "  'title': '베어 더  (bare the musical)',\n",
       "  'place': '두산아트센터 연강홀',\n",
       "  'booking_rate': '0.7%'},\n",
       " {'rank': 25,\n",
       "  'title': '난타(NANTA) - 명동공연',\n",
       "  'place': '명동난타극장',\n",
       "  'booking_rate': '0.6%'},\n",
       " {'rank': 26, 'title': '리틀잭', 'place': '예스24아트원 2관', 'booking_rate': '0.6%'},\n",
       " {'rank': 27, 'title': '쿠자', 'place': '잠실종합운동장 내 빅탑', 'booking_rate': '0.6%'},\n",
       " {'rank': 28, 'title': '머피', 'place': '예그린씨어터', 'booking_rate': '0.6%'},\n",
       " {'rank': 29, 'title': '위키드', 'place': '블루스퀘어 신한카드홀', 'booking_rate': '0.5%'},\n",
       " {'rank': 30,\n",
       "  'title': '브로드웨이 42번가',\n",
       "  'place': '부산 드림씨어터',\n",
       "  'booking_rate': '0.5%'},\n",
       " {'rank': 31,\n",
       "  'title': '지킬앤하이드 (Jekyll ＆ Hyde) - 20주년 _ 고양',\n",
       "  'place': '고양아람누리 아람극장',\n",
       "  'booking_rate': '0.5%'},\n",
       " {'rank': 32,\n",
       "  'title': '지킬앤하이드 (Jekyll ＆ Hyde) - 20주년 _ 전주',\n",
       "  'place': '한국소리문화의전당 모악당',\n",
       "  'booking_rate': '0.5%'},\n",
       " {'rank': 33, 'title': '더 크리처', 'place': '대학로 자유극장', 'booking_rate': '0.5%'},\n",
       " {'rank': 34,\n",
       "  'title': '맘마미아!',\n",
       "  'place': 'LG아트센터 서울 LG SIGNATURE 홀',\n",
       "  'booking_rate': '0.5%'},\n",
       " {'rank': 35,\n",
       "  'title': '지킬앤하이드 (Jekyll ＆ Hyde) - 20주년 _ 울산',\n",
       "  'place': '울산문화예술회관 대공연장',\n",
       "  'booking_rate': '0.5%'},\n",
       " {'rank': 36, 'title': '알라딘', 'place': '부산 드림씨어터', 'booking_rate': '0.4%'},\n",
       " {'rank': 37, 'title': '써니텐', 'place': 'JTN 아트홀 1관', 'booking_rate': '0.4%'},\n",
       " {'rank': 38, 'title': '썸데이', 'place': '무하아트센터', 'booking_rate': '0.4%'},\n",
       " {'rank': 39,\n",
       "  'title': '관부연락선',\n",
       "  'place': '링크아트센터드림 드림2관',\n",
       "  'booking_rate': '0.4%'},\n",
       " {'rank': 40,\n",
       "  'title': '민들레피리',\n",
       "  'place': '예스24스테이지 2관',\n",
       "  'booking_rate': '0.4%'},\n",
       " {'rank': 41,\n",
       "  'title': '지킬앤하이드 (Jekyll ＆ Hyde) - 20주년 _ 진주',\n",
       "  'place': '경남문화예술회관 대공연장',\n",
       "  'booking_rate': '0.4%'},\n",
       " {'rank': 42,\n",
       "  'title': '지킬앤하이드 (Jekyll ＆ Hyde) - 20주년 _ 천안',\n",
       "  'place': '천안예술의전당 대공연장',\n",
       "  'booking_rate': '0.4%'},\n",
       " {'rank': 43,\n",
       "  'title': '개와 고양이의 시간',\n",
       "  'place': '대학로 더굿씨어터',\n",
       "  'booking_rate': '0.4%'},\n",
       " {'rank': 44, 'title': '웨이스티드', 'place': '플러스씨어터', 'booking_rate': '0.3%'},\n",
       " {'rank': 45,\n",
       "  'title': '번 더 위치',\n",
       "  'place': '홍익대 대학로 아트센터 소극장',\n",
       "  'booking_rate': '0.3%'},\n",
       " {'rank': 46,\n",
       "  'title': '점프 JUMP',\n",
       "  'place': '명보아트홀 지하3층 점프 전용극장',\n",
       "  'booking_rate': '0.3%'},\n",
       " {'rank': 47,\n",
       "  'title': 'TOUCH FIVE',\n",
       "  'place': '터치파이브 전용관',\n",
       "  'booking_rate': '0.3%'},\n",
       " {'rank': 48, 'title': '플레임즈', 'place': 'SH아트홀', 'booking_rate': '0.3%'},\n",
       " {'rank': 49,\n",
       "  'title': '어서 오세요, 휴남동 서점입니다',\n",
       "  'place': '루미나아트홀',\n",
       "  'booking_rate': '0.3%'},\n",
       " {'rank': 50,\n",
       "  'title': '갈라 콘서트 ［Beyond the Stage］- 대전',\n",
       "  'place': '대전예술의전당 아트홀',\n",
       "  'booking_rate': '0.3%'}]"
      ]
     },
     "execution_count": 5,
     "metadata": {},
     "output_type": "execute_result"
    }
   ],
   "source": [
    "data"
   ]
  },
  {
   "cell_type": "code",
   "execution_count": 6,
   "id": "b4a57c53",
   "metadata": {},
   "outputs": [
    {
     "name": "stdout",
     "output_type": "stream",
     "text": [
      "✔ CSV 저장 완료: musical_ranking.csv\n"
     ]
    }
   ],
   "source": [
    "df = pd.DataFrame(data)\n",
    "df.to_csv(\"musical_ranking.csv\", encoding=\"utf-8-sig\", index=False)\n",
    "print(\"✔ CSV 저장 완료: musical_ranking.csv\")"
   ]
  },
  {
   "cell_type": "code",
   "execution_count": null,
   "id": "25b7e548",
   "metadata": {},
   "outputs": [],
   "source": [
    "import pymysql\n",
    "\n",
    "# DB 연결 설정\n",
    "conn = pymysql.connect(\n",
    "    host='localhost',   \n",
    "    user='root',\n",
    "    password='1234',\n",
    "    db='web_data',\n",
    "    charset='utf8mb4'\n",
    ")\n",
    "cursor = conn.cursor()\n",
    "\n",
    "# 테이블 생성\n",
    "create_table_sql = '''\n",
    "CREATE TABLE IF NOT EXISTS musicals (\n",
    "    `rank` INT AUTO_INCREMENT PRIMARY KEY,\n",
    "    title VARCHAR(255),\n",
    "    place VARCHAR(255),\n",
    "    booking_rate FLOAT\n",
    ")\n",
    "'''\n",
    "cursor.execute(create_table_sql)\n",
    "conn.commit()"
   ]
  },
  {
   "cell_type": "code",
   "execution_count": null,
   "id": "3adf6e6f",
   "metadata": {},
   "outputs": [
    {
     "name": "stdout",
     "output_type": "stream",
     "text": [
      "✔ DB 저장 완료\n"
     ]
    }
   ],
   "source": [
    "# INSERT 쿼리\n",
    "insert_sql = '''\n",
    "INSERT INTO musicals (`rank`, title, place, booking_rate)\n",
    "VALUES (%s, %s, %s, %s)\n",
    "'''\n",
    "\n",
    "for row in data:\n",
    "    cursor.execute(insert_sql, (\n",
    "        row['rank'],\n",
    "        row['title'],\n",
    "        row['place'],\n",
    "        row['booking_rate']\n",
    "    ))\n",
    "\n",
    "conn.commit()\n",
    "print(\"✔ DB 저장 완료\")\n",
    "\n",
    "# 연결 종료\n",
    "cursor.close()\n",
    "conn.close()"
   ]
  }
 ],
 "metadata": {
  "kernelspec": {
   "display_name": "webcrawl_env",
   "language": "python",
   "name": "python3"
  },
  "language_info": {
   "codemirror_mode": {
    "name": "ipython",
    "version": 3
   },
   "file_extension": ".py",
   "mimetype": "text/x-python",
   "name": "python",
   "nbconvert_exporter": "python",
   "pygments_lexer": "ipython3",
   "version": "3.10.18"
  }
 },
 "nbformat": 4,
 "nbformat_minor": 5
}
