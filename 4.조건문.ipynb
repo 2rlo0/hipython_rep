{
 "cells": [
  {
   "cell_type": "code",
   "execution_count": 4,
   "id": "101644d3-30c5-41ae-a5be-fbd32971d903",
   "metadata": {},
   "outputs": [
    {
     "data": {
      "text/plain": [
       "False"
      ]
     },
     "execution_count": 4,
     "metadata": {},
     "output_type": "execute_result"
    }
   ],
   "source": [
    "# 연산자\n",
    "2+3 #산술연산자\n",
    "a=2 #대입연산자\n",
    "a>2 #비교연산자"
   ]
  },
  {
   "cell_type": "code",
   "execution_count": 5,
   "id": "1414a1c0-ca97-440b-afdb-1bbf923e9615",
   "metadata": {},
   "outputs": [
    {
     "data": {
      "text/plain": [
       "(2, 2, 2, 2)"
      ]
     },
     "execution_count": 5,
     "metadata": {},
     "output_type": "execute_result"
    }
   ],
   "source": [
    "b=c=d=a\n",
    "b,c,d,a"
   ]
  },
  {
   "cell_type": "code",
   "execution_count": 6,
   "id": "4abb74b9-bd00-4011-aeda-5a7eae2112db",
   "metadata": {},
   "outputs": [
    {
     "data": {
      "text/plain": [
       "True"
      ]
     },
     "execution_count": 6,
     "metadata": {},
     "output_type": "execute_result"
    }
   ],
   "source": [
    "id(b) == id(c) #비교연산자"
   ]
  },
  {
   "cell_type": "markdown",
   "id": "cffef141-579e-490c-b714-57cf58bf6867",
   "metadata": {},
   "source": [
    "# 조건문: \n",
    "- 비교연산자를 이용한 부울값이 출력되어야 한다.\n",
    "- : 이후 영역표시는 들여쓰기로 맞추어야 한다."
   ]
  },
  {
   "cell_type": "code",
   "execution_count": 10,
   "id": "d0ffc3b9-e02d-4da1-9e37-f943ed587c5e",
   "metadata": {},
   "outputs": [],
   "source": [
    "kor_score = 80\n",
    "# 단독if\n",
    "if kor_score > 90: # True일때만 실행\n",
    "    print('pass')\n",
    "    "
   ]
  },
  {
   "cell_type": "code",
   "execution_count": 11,
   "id": "10066b37-335e-48ac-994e-eebef4525620",
   "metadata": {},
   "outputs": [],
   "source": [
    "# 한 줄 작성\n",
    "if kor_score > 90: print('pass')"
   ]
  },
  {
   "cell_type": "code",
   "execution_count": 12,
   "id": "8af84592-b0b0-4f66-b24d-7d52e400256c",
   "metadata": {},
   "outputs": [
    {
     "name": "stdout",
     "output_type": "stream",
     "text": [
      "fail\n"
     ]
    }
   ],
   "source": [
    "if kor_score > 90 : \n",
    "    print('pass')\n",
    "else: \n",
    "    print('fail')"
   ]
  },
  {
   "cell_type": "code",
   "execution_count": 15,
   "id": "f6a6130b-244b-4e03-808f-2c3c45bbb335",
   "metadata": {},
   "outputs": [
    {
     "name": "stdout",
     "output_type": "stream",
     "text": [
      "fail\n"
     ]
    }
   ],
   "source": [
    "# 한줄로 작성\n",
    "# if kor_score > 90: print('pass') else : print('fail')\n",
    "# 'True일 때 실행문' if 조건식 else 'False일 때 실행문'\n",
    "# 비교연산자, 논리연산자 > 조건식\n",
    "print('pass') if kor_score > 90 else print('fail')"
   ]
  },
  {
   "cell_type": "code",
   "execution_count": null,
   "id": "4bbd2d5c-6e43-485c-a4ad-bb3ef3d8cbff",
   "metadata": {},
   "outputs": [],
   "source": [
    "# 수우미양가\n",
    ">= 90"
   ]
  },
  {
   "cell_type": "code",
   "execution_count": 24,
   "id": "e021371b-7d29-4a13-9a09-93925a1015ad",
   "metadata": {},
   "outputs": [
    {
     "name": "stdin",
     "output_type": "stream",
     "text": [
      "정수를 입력하세요. 숫자로요..  95\n"
     ]
    },
    {
     "name": "stdout",
     "output_type": "stream",
     "text": [
      "수\n"
     ]
    }
   ],
   "source": [
    "score = int(input('정수를 입력하세요. 숫자로요.. '))\n",
    "\n",
    "# 중첩if (nested if)\n",
    "if score >= 90:\n",
    "    print('수')\n",
    "else: #89 ~\n",
    "    if score >= 80:\n",
    "        print('우')\n",
    "    else:\n",
    "        if score >= 70:\n",
    "            print('미')\n",
    "        else:\n",
    "            if score >= 60:\n",
    "                print('양')\n",
    "            else:\n",
    "                print('가')"
   ]
  },
  {
   "cell_type": "code",
   "execution_count": 23,
   "id": "65e098a8-6254-4c21-9882-77523218b6b4",
   "metadata": {},
   "outputs": [
    {
     "name": "stdin",
     "output_type": "stream",
     "text": [
      "정수를 입력하세요. 숫자로요..  95\n"
     ]
    },
    {
     "name": "stdout",
     "output_type": "stream",
     "text": [
      "수\n",
      "우\n",
      "미\n",
      "양\n"
     ]
    }
   ],
   "source": [
    "score = int(input('정수를 입력하세요. 숫자로요.. '))\n",
    "\n",
    "if score >= 90:\n",
    "    print('수')\n",
    "\n",
    "if score >= 80:\n",
    "    print('우')\n",
    "\n",
    "if score >= 70:\n",
    "    print('미')\n",
    "    \n",
    "if score >= 60:\n",
    "     print('양')\n"
   ]
  },
  {
   "cell_type": "code",
   "execution_count": 25,
   "id": "5090a854-3033-4c45-8127-42e75e949f2f",
   "metadata": {},
   "outputs": [
    {
     "name": "stdin",
     "output_type": "stream",
     "text": [
      "정수를 입력하세요. 숫자로요..  95\n"
     ]
    },
    {
     "name": "stdout",
     "output_type": "stream",
     "text": [
      "수\n"
     ]
    }
   ],
   "source": [
    "score = int(input('정수를 입력하세요. 숫자로요.. '))\n",
    "\n",
    "if score >= 90:\n",
    "    print('수')\n",
    "elif score >= 80:\n",
    "    print('우')\n",
    "elif score >= 70:\n",
    "    print('미')\n",
    "else:\n",
    "    print('양')"
   ]
  },
  {
   "cell_type": "code",
   "execution_count": 51,
   "id": "34ff1269-5a6a-4fb9-9d3e-a956fb7e7765",
   "metadata": {},
   "outputs": [
    {
     "name": "stdin",
     "output_type": "stream",
     "text": [
      "수식을 입력하세요. (예. 20 * 40)  40 . 3\n"
     ]
    },
    {
     "data": {
      "text/plain": [
       "('40', '.', '3')"
      ]
     },
     "execution_count": 51,
     "metadata": {},
     "output_type": "execute_result"
    }
   ],
   "source": [
    "formula = input('수식을 입력하세요. (예. 20 * 40) ')\n",
    "num1, opr, num2 = formula.split()\n",
    "num1, opr, num2"
   ]
  },
  {
   "cell_type": "code",
   "execution_count": 60,
   "id": "ac3ed909-597d-44a5-a1dd-2ed2bcf6deba",
   "metadata": {},
   "outputs": [
    {
     "name": "stdout",
     "output_type": "stream",
     "text": [
      "20.0 . 4.0 = \".\"은 지원하지 않는 연산자입니다. \n"
     ]
    }
   ],
   "source": [
    "num1 = float(num1)\n",
    "num2 = float(num2)\n",
    "\n",
    "opr_list = ['+', '-', '*', '/', '//', '%'] # 연산자\n",
    "if opr == '+':\n",
    "    result = num1 + num2\n",
    "elif opr == '-':\n",
    "    result = num1 - num2\n",
    "elif opr == '*':\n",
    "    result = num1 * num2\n",
    "elif opr == '/':\n",
    "    result = num1 / num2\n",
    "elif opr == '//':\n",
    "    result = num1 // num2\n",
    "elif opr == '%':\n",
    "    result = num1 % num2\n",
    "else:\n",
    "    result = f'\"{opr}\"은 지원하지 않는 연산자입니다.'\n",
    "\n",
    "print(f'{num1} {opr} {num2} = {result} ')\n",
    "    "
   ]
  },
  {
   "cell_type": "code",
   "execution_count": 59,
   "id": "d83639cb-3f8e-4249-8a32-5f7033ff2f12",
   "metadata": {},
   "outputs": [
    {
     "name": "stdin",
     "output_type": "stream",
     "text": [
      "수식을 입력하세요. (예. 20 * 40)  20 . 4\n"
     ]
    },
    {
     "name": "stdout",
     "output_type": "stream",
     "text": [
      "지원하지 않는 연산자입니다.\n"
     ]
    }
   ],
   "source": [
    "formula = input('수식을 입력하세요. (예. 20 * 40) ')\n",
    "num1, opr, num2 = formula.split()\n",
    "num1, opr, num2\n",
    "\n",
    "opr_list = ['+', '-', '*', '/', '//', '%'] # 연산자\n",
    "\n",
    "if opr not in opr_list:\n",
    "    print('지원하지 않는 연산자입니다.')\n",
    "    \n",
    "else:\n",
    "    if opr == '+':\n",
    "        result = num1 + num2\n",
    "    elif opr == '-':\n",
    "        result = num1 - num2\n",
    "    elif opr == '*':\n",
    "        result = num1 * num2\n",
    "    elif opr == '/':\n",
    "        result = num1 / num2\n",
    "    elif opr == '//':\n",
    "        result = num1 // num2\n",
    "    elif opr == '%':\n",
    "        result = num1 % num2\n",
    "    print(f'{num1} {opr} {num2} = {result} ')"
   ]
  },
  {
   "cell_type": "markdown",
   "id": "e1ce4652-3d23-49e4-8eb4-f66a490396c9",
   "metadata": {},
   "source": [
    "# 1줄로 쓰기"
   ]
  },
  {
   "cell_type": "code",
   "execution_count": 61,
   "id": "9eb938ee-87e2-472f-8ba5-0c378d262f97",
   "metadata": {},
   "outputs": [
    {
     "name": "stdout",
     "output_type": "stream",
     "text": [
      "홀수\n"
     ]
    }
   ],
   "source": [
    "num = 7\n",
    "# if num % 2 : print('짝수') else print('홀수')\n",
    "print('짝수' if num % 2 == 0 else '홀수')"
   ]
  },
  {
   "cell_type": "code",
   "execution_count": 64,
   "id": "67c30aab-f57f-4621-ba5f-c2c5cbe9e5eb",
   "metadata": {},
   "outputs": [
    {
     "name": "stdout",
     "output_type": "stream",
     "text": [
      "쉽시다\n"
     ]
    }
   ],
   "source": [
    "# 졸려 = True - 쉽시다, False - 화이팅\n",
    "졸려 = True\n",
    "# action = '쉽시다' if 졸려 == True else '화이팅'\n",
    "action = '쉽시다' if 졸려 else '화이팅'\n",
    "print(action)"
   ]
  },
  {
   "cell_type": "code",
   "execution_count": 66,
   "id": "ffd55c40-ed42-4549-bf0f-1abaad262324",
   "metadata": {},
   "outputs": [
    {
     "data": {
      "text/plain": [
       "'패'"
      ]
     },
     "execution_count": 66,
     "metadata": {},
     "output_type": "execute_result"
    }
   ],
   "source": [
    "player = '가위'\n",
    "computer = '바위'\n",
    "#result = '승','패','무승부'\n",
    "result = '승' if (player == '가위' and computer == '보') else \\\n",
    "        '무승부' if player == computer else '패'\n",
    "result"
   ]
  },
  {
   "cell_type": "code",
   "execution_count": 73,
   "id": "b7ef5874-fe01-4df4-ab63-37a35eb2ead0",
   "metadata": {},
   "outputs": [
    {
     "data": {
      "text/plain": [
       "'D'"
      ]
     },
     "execution_count": 73,
     "metadata": {},
     "output_type": "execute_result"
    }
   ],
   "source": [
    "# 학점 A, B, C, D 출력하는 1줄 조건식\n",
    "score = 65\n",
    "result = 'A' if score > 90 else 'B' if score > 80 else 'C' if score > 70 else 'D'\n",
    "result"
   ]
  },
  {
   "cell_type": "markdown",
   "id": "55045a2f-931e-47f3-86fa-4e42cb62cf76",
   "metadata": {},
   "source": [
    "# break, continue, pass"
   ]
  },
  {
   "cell_type": "code",
   "execution_count": 77,
   "id": "7d9fa439-b7a7-4d16-a531-6dbb8752c45f",
   "metadata": {},
   "outputs": [
    {
     "name": "stdout",
     "output_type": "stream",
     "text": [
      "현재 검사 중인 숫자: 1\n",
      "현재 검사 중인 숫자: 3\n",
      "현재 검사 중인 숫자: 5\n",
      "현재 검사 중인 숫자: 7\n",
      "9를 찾았습니다!\n"
     ]
    }
   ],
   "source": [
    "numbers = [1, 3, 5, 7, 9, 11, 13, 15]\n",
    "search_number = 9\n",
    "\n",
    "for num in numbers:\n",
    "    if num == search_number:\n",
    "        print(f\"{search_number}를 찾았습니다!\")\n",
    "        break\n",
    "    print(f\"현재 검사 중인 숫자: {num}\")\n"
   ]
  },
  {
   "cell_type": "code",
   "execution_count": 78,
   "id": "38c0c75c-cbf2-4d59-8f28-5a26a1cda76f",
   "metadata": {},
   "outputs": [
    {
     "name": "stdout",
     "output_type": "stream",
     "text": [
      "2\n",
      "4\n",
      "6\n",
      "8\n",
      "10\n"
     ]
    }
   ],
   "source": [
    "for i in range(1, 11):\n",
    "    if i % 2 != 0:  # 홀수인 경우\n",
    "        continue\n",
    "    print(i)  # 짝수만 출력"
   ]
  },
  {
   "cell_type": "code",
   "execution_count": 81,
   "id": "8e9a81ec-71dc-4a86-a423-11c98f661395",
   "metadata": {},
   "outputs": [],
   "source": [
    "condition = True #False\n",
    "\n",
    "if condition:\n",
    "    pass  # 나중에 구현할 예정\n",
    "else:\n",
    "    print(\"else 구문 실행\")"
   ]
  }
 ],
 "metadata": {
  "kernelspec": {
   "display_name": "Python 3 (ipykernel)",
   "language": "python",
   "name": "python3"
  },
  "language_info": {
   "codemirror_mode": {
    "name": "ipython",
    "version": 3
   },
   "file_extension": ".py",
   "mimetype": "text/x-python",
   "name": "python",
   "nbconvert_exporter": "python",
   "pygments_lexer": "ipython3",
   "version": "3.12.9"
  }
 },
 "nbformat": 4,
 "nbformat_minor": 5
}
