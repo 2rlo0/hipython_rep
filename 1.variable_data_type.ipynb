{
 "cells": [
  {
   "cell_type": "code",
   "execution_count": null,
   "id": "73c6f505-2ee1-42d1-ab63-53d4a4631d31",
   "metadata": {},
   "outputs": [],
   "source": [
    "# 이 코드는 사용자의 나이를 입력받아 출력하는 코드이다.\n",
    "# age = input()\n",
    "# age"
   ]
  },
  {
   "cell_type": "markdown",
   "id": "f7ff5866-f96b-4666-9c6d-b4d10d3534fc",
   "metadata": {},
   "source": [
    "# 표준 입력과 표준 출력"
   ]
  },
  {
   "cell_type": "code",
   "execution_count": 5,
   "id": "a7d28b09-299f-4466-8e94-86d3642c72dd",
   "metadata": {},
   "outputs": [
    {
     "data": {
      "text/plain": [
       "10"
      ]
     },
     "execution_count": 5,
     "metadata": {},
     "output_type": "execute_result"
    }
   ],
   "source": [
    "12345\n",
    "10\n",
    "# iptyhon 라이브러리 기본 기능\n",
    "# print(12345) 표준출력 기능을 내장하고 있다."
   ]
  },
  {
   "cell_type": "code",
   "execution_count": 6,
   "id": "2121c8df-4f5b-497d-b340-47c119acedb0",
   "metadata": {},
   "outputs": [
    {
     "name": "stdout",
     "output_type": "stream",
     "text": [
      "12345\n"
     ]
    },
    {
     "data": {
      "text/plain": [
       "10"
      ]
     },
     "execution_count": 6,
     "metadata": {},
     "output_type": "execute_result"
    }
   ],
   "source": [
    "print(12345)\n",
    "10"
   ]
  },
  {
   "cell_type": "code",
   "execution_count": 16,
   "id": "1071e223-f69b-40aa-a134-e979f7edc843",
   "metadata": {},
   "outputs": [
    {
     "data": {
      "text/plain": [
       "str"
      ]
     },
     "execution_count": 16,
     "metadata": {},
     "output_type": "execute_result"
    }
   ],
   "source": [
    "type('12345') # 문자열str"
   ]
  },
  {
   "cell_type": "code",
   "execution_count": 17,
   "id": "38456767-d677-4d2b-9a04-3988a4a79c94",
   "metadata": {},
   "outputs": [
    {
     "data": {
      "text/plain": [
       "int"
      ]
     },
     "execution_count": 17,
     "metadata": {},
     "output_type": "execute_result"
    }
   ],
   "source": [
    "type(12345) # 숫자"
   ]
  },
  {
   "cell_type": "code",
   "execution_count": 18,
   "id": "fdc271f7-995f-43f3-9aad-0604134935f2",
   "metadata": {},
   "outputs": [
    {
     "data": {
      "text/plain": [
       "12355"
      ]
     },
     "execution_count": 18,
     "metadata": {},
     "output_type": "execute_result"
    }
   ],
   "source": [
    "12345 + 10"
   ]
  },
  {
   "cell_type": "code",
   "execution_count": 19,
   "id": "397ca586-fc71-49dc-a8b4-29a1ead34acd",
   "metadata": {},
   "outputs": [],
   "source": [
    "#'12345' + 10 # typeerror"
   ]
  },
  {
   "cell_type": "code",
   "execution_count": 21,
   "id": "02b81a96-3e06-4d1e-b9b5-a5cd2ad73b3e",
   "metadata": {},
   "outputs": [
    {
     "data": {
      "text/plain": [
       "str"
      ]
     },
     "execution_count": 21,
     "metadata": {},
     "output_type": "execute_result"
    }
   ],
   "source": [
    "type(\"12345\")"
   ]
  },
  {
   "cell_type": "code",
   "execution_count": 22,
   "id": "59b4c42a-dcbf-4b58-82de-4bc9c0a8f5f7",
   "metadata": {},
   "outputs": [
    {
     "data": {
      "text/plain": [
       "'123451234512345'"
      ]
     },
     "execution_count": 22,
     "metadata": {},
     "output_type": "execute_result"
    }
   ],
   "source": [
    "\"12345\"*3"
   ]
  },
  {
   "cell_type": "code",
   "execution_count": 28,
   "id": "a1e25ccd-59ef-4e84-b057-9a39152d0d26",
   "metadata": {},
   "outputs": [
    {
     "name": "stdin",
     "output_type": "stream",
     "text": [
      "당신의 이름을 입력하세요 이은영\n"
     ]
    },
    {
     "data": {
      "text/plain": [
       "'이은영'"
      ]
     },
     "execution_count": 28,
     "metadata": {},
     "output_type": "execute_result"
    }
   ],
   "source": [
    "name = input('당신의 이름을 입력하세요')\n",
    "name"
   ]
  },
  {
   "cell_type": "code",
   "execution_count": 26,
   "id": "3cd32010-3510-41c4-9a35-8d7db62ef2b9",
   "metadata": {},
   "outputs": [
    {
     "name": "stdin",
     "output_type": "stream",
     "text": [
      "당신의 나이를 입력하세요 24\n"
     ]
    },
    {
     "data": {
      "text/plain": [
       "'24'"
      ]
     },
     "execution_count": 26,
     "metadata": {},
     "output_type": "execute_result"
    }
   ],
   "source": [
    "age = input('당신의 나이를 입력하세요')\n",
    "age"
   ]
  },
  {
   "cell_type": "code",
   "execution_count": 27,
   "id": "f6a8b0bb-4f1d-4d0d-9de8-338ff43b305d",
   "metadata": {},
   "outputs": [
    {
     "data": {
      "text/plain": [
       "'24'"
      ]
     },
     "execution_count": 27,
     "metadata": {},
     "output_type": "execute_result"
    }
   ],
   "source": [
    "age"
   ]
  },
  {
   "cell_type": "code",
   "execution_count": 29,
   "id": "60f3a056-46f7-4bcd-9f78-779bd18c5067",
   "metadata": {},
   "outputs": [
    {
     "name": "stdout",
     "output_type": "stream",
     "text": [
      "이은영\n"
     ]
    }
   ],
   "source": [
    "# 입력받은 name을 출력\n",
    "print(name)"
   ]
  },
  {
   "cell_type": "code",
   "execution_count": 32,
   "id": "30212006-bd88-4e1d-b20e-87a56fa9a3fe",
   "metadata": {},
   "outputs": [
    {
     "data": {
      "text/plain": [
       "('24', '이은영')"
      ]
     },
     "execution_count": 32,
     "metadata": {},
     "output_type": "execute_result"
    }
   ],
   "source": [
    "age, name"
   ]
  },
  {
   "cell_type": "code",
   "execution_count": 31,
   "id": "f689230f-41a8-4e20-81f7-8bac5daf2279",
   "metadata": {},
   "outputs": [
    {
     "name": "stdout",
     "output_type": "stream",
     "text": [
      "24 이은영\n"
     ]
    }
   ],
   "source": [
    "print(age, name)"
   ]
  },
  {
   "cell_type": "code",
   "execution_count": 33,
   "id": "3b25411e-e9c4-497c-88e9-d8d6aa2feed7",
   "metadata": {},
   "outputs": [
    {
     "name": "stdout",
     "output_type": "stream",
     "text": [
      "나는  이은영 이고 나이는  24 입니다.\n"
     ]
    }
   ],
   "source": [
    "print('나는 ', name, '이고 나이는 ', age, '입니다.')"
   ]
  },
  {
   "cell_type": "code",
   "execution_count": 36,
   "id": "612cada7-0364-423c-8e5c-69ffa9e10791",
   "metadata": {},
   "outputs": [
    {
     "name": "stdout",
     "output_type": "stream",
     "text": [
      "나는 이은영이고 나이는 24입니다.\n"
     ]
    }
   ],
   "source": [
    "print('나는 '+ name + '이고 나이는 ' + age + '입니다.')"
   ]
  },
  {
   "cell_type": "code",
   "execution_count": 38,
   "id": "c8243a1c-ad4e-430a-9dcf-4975e5f96fb3",
   "metadata": {},
   "outputs": [
    {
     "ename": "TypeError",
     "evalue": "can only concatenate str (not \"int\") to str",
     "output_type": "error",
     "traceback": [
      "\u001b[31m---------------------------------------------------------------------------\u001b[39m",
      "\u001b[31mTypeError\u001b[39m                                 Traceback (most recent call last)",
      "\u001b[36mCell\u001b[39m\u001b[36m \u001b[39m\u001b[32mIn[38]\u001b[39m\u001b[32m, line 1\u001b[39m\n\u001b[32m----> \u001b[39m\u001b[32m1\u001b[39m age + \u001b[32m10\u001b[39m\n",
      "\u001b[31mTypeError\u001b[39m: can only concatenate str (not \"int\") to str"
     ]
    }
   ],
   "source": [
    "age + 10 #typeerror input으로 받으면 문자열"
   ]
  },
  {
   "cell_type": "code",
   "execution_count": 44,
   "id": "3ab99e74-7a22-4091-9bac-b039b95b9aac",
   "metadata": {},
   "outputs": [],
   "source": [
    "age = int(age) # age에 int(age)를 대입해야함"
   ]
  },
  {
   "cell_type": "code",
   "execution_count": 45,
   "id": "40984f7a-213d-4230-919b-ab3129099343",
   "metadata": {},
   "outputs": [
    {
     "data": {
      "text/plain": [
       "34"
      ]
     },
     "execution_count": 45,
     "metadata": {},
     "output_type": "execute_result"
    }
   ],
   "source": [
    "age + 10"
   ]
  },
  {
   "cell_type": "code",
   "execution_count": null,
   "id": "4ee2705c-ff0c-4aa3-ae48-9f1598873bc1",
   "metadata": {},
   "outputs": [],
   "source": []
  },
  {
   "cell_type": "markdown",
   "id": "256e210e-ad26-4d39-b28d-c33a9cf74621",
   "metadata": {},
   "source": [
    "# 연습"
   ]
  },
  {
   "cell_type": "code",
   "execution_count": 47,
   "id": "778c228e-188f-409e-85b4-8ae1c9ab966e",
   "metadata": {},
   "outputs": [
    {
     "name": "stdout",
     "output_type": "stream",
     "text": [
      "바: 바밤바는 \n",
      "밤: 밤이 들어 있는 \n",
      "바: 바이다\n"
     ]
    }
   ],
   "source": [
    "# 자기 이름으로 삼행시 짓기\n",
    "\n",
    "print('바: 바밤바는 ')\n",
    "print('밤: 밤이 들어 있는 ')\n",
    "print('바: 바이다')"
   ]
  },
  {
   "cell_type": "code",
   "execution_count": 48,
   "id": "f6f0779b-1dd8-4151-b13f-f5f0db776bd2",
   "metadata": {},
   "outputs": [
    {
     "name": "stdout",
     "output_type": "stream",
     "text": [
      "이: 이대로도 충분해 \n",
      "은: 은근히 멋지잖아\n",
      "영: 영원히 빛날 너니까\n"
     ]
    }
   ],
   "source": [
    "print('이: 이대로도 충분해 ')\n",
    "print('은: 은근히 멋지잖아')\n",
    "print('영: 영원히 빛날 너니까')"
   ]
  },
  {
   "cell_type": "code",
   "execution_count": 57,
   "id": "d4a230e9-8b17-4522-a6cb-cef47f691f33",
   "metadata": {},
   "outputs": [
    {
     "name": "stdin",
     "output_type": "stream",
     "text": [
      "이:  이대로도 충분해\n",
      "은:  은근히 멋지잖아\n",
      "영:  영원히 빛날 너니까\n"
     ]
    }
   ],
   "source": [
    "name1 = input(\"이: \")\n",
    "name2 = input(\"은: \")\n",
    "name3 = input(\"영: \")"
   ]
  },
  {
   "cell_type": "code",
   "execution_count": 58,
   "id": "03d7147e-6cea-4e6d-a4bf-bb01ff84c244",
   "metadata": {},
   "outputs": [
    {
     "name": "stdout",
     "output_type": "stream",
     "text": [
      "이대로도 충분해\n",
      " 은근히 멋지잖아\n",
      " 영원히 빛날 너니까\n"
     ]
    }
   ],
   "source": [
    "print(name1, name2, name3, sep='\\n ') # sep 옵션 매개변수 사이에 들어갈 것을 지정가능 "
   ]
  },
  {
   "cell_type": "markdown",
   "id": "07344457-319c-4718-9f50-cab3d8ab0616",
   "metadata": {},
   "source": [
    "문자열의 시작이 \\(역슬래시) -> 이스케이프 문자, 특수 문자: 줄바꿈 기호\n",
    "\\n\n",
    "\\t\n",
    "\\\\"
   ]
  },
  {
   "cell_type": "code",
   "execution_count": 62,
   "id": "7fdee217-b6c4-4e1d-8903-f35784e2a63c",
   "metadata": {},
   "outputs": [
    {
     "name": "stdout",
     "output_type": "stream",
     "text": [
      "이대로도 충분해\n",
      "은근히 멋지잖아\n",
      "영원히 빛날 너니까\n"
     ]
    }
   ],
   "source": [
    "삼행시 = name1 + '\\n' + name2 + '\\n' + name3\n",
    "print(삼행시)"
   ]
  },
  {
   "cell_type": "code",
   "execution_count": null,
   "id": "07389df6-16c3-4ac4-ba2a-4127e68ec063",
   "metadata": {},
   "outputs": [],
   "source": []
  },
  {
   "cell_type": "markdown",
   "id": "ff866312-339e-4573-a3e4-f0b698d2a931",
   "metadata": {},
   "source": [
    "# 변수"
   ]
  },
  {
   "cell_type": "markdown",
   "id": "85b439a2-9870-4610-af1c-3a82ea7e9ebc",
   "metadata": {},
   "source": [
    "변수 type safe: 변수를 선언할 대 타입(유형)을 지정하지 않아도 되는 특성\n",
    "변수명 = 값"
   ]
  },
  {
   "cell_type": "markdown",
   "id": "19b7ad25-fd2f-4fd9-b975-46c87cdba234",
   "metadata": {},
   "source": [
    "## 변수의 명명규칙\n",
    "1. 문자 숫자, 밑줄(_ 언더바)을 가지고 만든다.\n",
    "2. 숫자로 시작하면 X\n",
    "3. 대소문자를 구분\n",
    "4. 예약어, 특수기호,공백 X"
   ]
  },
  {
   "cell_type": "code",
   "execution_count": 64,
   "id": "e4bdd022-1bed-4385-babb-5a538aebc826",
   "metadata": {},
   "outputs": [
    {
     "data": {
      "text/plain": [
       "(10, 'hello', 3.141592)"
      ]
     },
     "execution_count": 64,
     "metadata": {},
     "output_type": "execute_result"
    }
   ],
   "source": [
    "x = 10 # 정수\n",
    "y = 'hello' # 문자열\n",
    "z = 3.141592 # 실수\n",
    "x, y, z"
   ]
  },
  {
   "cell_type": "code",
   "execution_count": 65,
   "id": "baa972be-f1e6-4a53-a092-f7f84bb9761f",
   "metadata": {},
   "outputs": [
    {
     "data": {
      "text/plain": [
       "(int, str, float)"
      ]
     },
     "execution_count": 65,
     "metadata": {},
     "output_type": "execute_result"
    }
   ],
   "source": [
    "type(x), type(y), type(z)"
   ]
  },
  {
   "cell_type": "code",
   "execution_count": 66,
   "id": "7c1206d6-27a1-4c4d-ae1b-174ca699bed4",
   "metadata": {},
   "outputs": [
    {
     "name": "stdout",
     "output_type": "stream",
     "text": [
      "<class 'int'> <class 'str'> <class 'float'>\n"
     ]
    }
   ],
   "source": [
    "print(type(x), type(y), type(z))"
   ]
  },
  {
   "cell_type": "markdown",
   "id": "dafd300e-8bfc-4b77-ad7b-d23e77cc77fd",
   "metadata": {},
   "source": [
    "변수는 클래스의 주소를 담는다."
   ]
  },
  {
   "cell_type": "code",
   "execution_count": 68,
   "id": "43ba729f-6923-428a-8f9a-33830f661086",
   "metadata": {},
   "outputs": [
    {
     "data": {
      "text/plain": [
       "(10, 20, 30)"
      ]
     },
     "execution_count": 68,
     "metadata": {},
     "output_type": "execute_result"
    }
   ],
   "source": [
    "a,b,c = 10,20,30 # 매핑. 언패킹\n",
    "a,b,c"
   ]
  },
  {
   "cell_type": "code",
   "execution_count": 70,
   "id": "7a5a24e2-f574-46d9-88a9-725d2a52f920",
   "metadata": {},
   "outputs": [
    {
     "data": {
      "text/plain": [
       "(10, 20, 30)"
      ]
     },
     "execution_count": 70,
     "metadata": {},
     "output_type": "execute_result"
    }
   ],
   "source": [
    "a=10; b=20; c=30\n",
    "a,b,c"
   ]
  },
  {
   "cell_type": "code",
   "execution_count": 71,
   "id": "36329cd0-7b3d-4d35-afcb-ec29fcd97461",
   "metadata": {},
   "outputs": [
    {
     "data": {
      "text/plain": [
       "(40, 40, 40)"
      ]
     },
     "execution_count": 71,
     "metadata": {},
     "output_type": "execute_result"
    }
   ],
   "source": [
    "a = b = c = 40\n",
    "a,b,c"
   ]
  },
  {
   "cell_type": "code",
   "execution_count": 73,
   "id": "0ef0e0d9-a93a-462a-b8c3-469a90abd849",
   "metadata": {},
   "outputs": [
    {
     "data": {
      "text/plain": [
       "(True, None)"
      ]
     },
     "execution_count": 73,
     "metadata": {},
     "output_type": "execute_result"
    }
   ],
   "source": [
    "d = True # bool형\n",
    "e = None # type이 없음 NonType 최초에 코드가 없었음을 알려줌\n",
    "d,e"
   ]
  },
  {
   "cell_type": "code",
   "execution_count": 6,
   "id": "49e38d36-7a12-498b-b670-d2c0bc6df09c",
   "metadata": {},
   "outputs": [
    {
     "name": "stdout",
     "output_type": "stream",
     "text": [
      "10 10\n"
     ]
    },
    {
     "data": {
      "text/plain": [
       "(140711829973720, 140711829973720)"
      ]
     },
     "execution_count": 6,
     "metadata": {},
     "output_type": "execute_result"
    }
   ],
   "source": [
    "a = 10\n",
    "b = a\n",
    "print(a,b)\n",
    "id(a), id(b) # 주소값 확인 id()"
   ]
  },
  {
   "cell_type": "code",
   "execution_count": 75,
   "id": "79190f38-d0d4-4aa7-bcef-97958743857b",
   "metadata": {},
   "outputs": [
    {
     "name": "stdout",
     "output_type": "stream",
     "text": [
      "20 10\n"
     ]
    }
   ],
   "source": [
    "a = 20\n",
    "print(a,b)"
   ]
  },
  {
   "cell_type": "code",
   "execution_count": 5,
   "id": "d647037d-13c2-4a03-8259-66d54199790d",
   "metadata": {},
   "outputs": [
    {
     "name": "stdout",
     "output_type": "stream",
     "text": [
      "10 10\n"
     ]
    },
    {
     "data": {
      "text/plain": [
       "(140711829973720, 140711829973720)"
      ]
     },
     "execution_count": 5,
     "metadata": {},
     "output_type": "execute_result"
    }
   ],
   "source": [
    "aa = 10\n",
    "bb = 10\n",
    "print(aa,bb)\n",
    "id(aa), id(bb)"
   ]
  },
  {
   "cell_type": "code",
   "execution_count": null,
   "id": "5e2e1e2e-f0f5-4c1f-b7b8-0c3629ca3e6b",
   "metadata": {},
   "outputs": [],
   "source": [
    "# 의미 부여 하기 어려운 변수명 > 수식이 아닌 경우는 사용하지 않음\n",
    "x = 100\n",
    "y = 100\n",
    "\n",
    "# 의미 있는 변수명\n",
    "age = 20\n",
    "name = '이은영'\n",
    "user_name = 'Alic'\n",
    "admin_name = 'Bob'\n",
    "\n",
    "# 대문자 Upper-cass 상수에만 사용\n",
    "PI = 3.141592\n",
    "MAX_CONNECTIONS = 10 # 최대 연결 수\n",
    "MIN_VALUE = 0 # 최소값\n",
    "\n"
   ]
  },
  {
   "cell_type": "markdown",
   "id": "fca9eaec-e403-4004-ab1c-661d7507804a",
   "metadata": {},
   "source": [
    "## NAME_SPACE\n",
    "\n",
    "변수가 최초로 정의된 영역에 다라 유효범위가 결정됩니다.\n",
    "\n",
    "- 지역변수: 함수 영역 내에서 선언한 변수\n",
    "- 전역변수: 함수 영역 밖에서 선언한 변수, global 키워드\n",
    "- 정적변수: 클래스에서 사용하는 변수"
   ]
  },
  {
   "cell_type": "code",
   "execution_count": 10,
   "id": "2fcd570b-d2a4-4f0d-af06-ac8f434cf7c4",
   "metadata": {},
   "outputs": [
    {
     "name": "stdout",
     "output_type": "stream",
     "text": [
      "여기는 함수의 영역입니다.  100\n"
     ]
    }
   ],
   "source": [
    "# 지역변수 local variable\n",
    "def local_example():\n",
    "    local_var = 100\n",
    "    print('여기는 함수의 영역입니다. ', local_var)\n",
    "\n",
    "# local_var NameError: name 'local_var' is not defined\n",
    "local_example()"
   ]
  },
  {
   "cell_type": "code",
   "execution_count": 17,
   "id": "45a124de-d3a4-4bff-ac38-3d7c514410d1",
   "metadata": {},
   "outputs": [
    {
     "name": "stdout",
     "output_type": "stream",
     "text": [
      "나는 전역이다\n",
      "여기는 함수의 영역입니다.  100 나는 전역이다\n"
     ]
    }
   ],
   "source": [
    "# 전역변수 global variable\n",
    "global_var = '나는 전역이다'\n",
    "print(global_var)\n",
    "\n",
    "def global_example():\n",
    "    local_var = 100\n",
    "    print('여기는 함수의 영역입니다. ', local_var, global_var)\n",
    "    \n",
    "global_example()\n",
    "# 지역변수와 전역변수가 생기는 공간은 다름"
   ]
  },
  {
   "cell_type": "code",
   "execution_count": 21,
   "id": "cd7b81fb-82af-4060-b703-d4ce7c3c9151",
   "metadata": {},
   "outputs": [
    {
     "name": "stdout",
     "output_type": "stream",
     "text": [
      "나는 전역이다\n",
      "여기는 함수의 영역입니다.  100\n",
      "나는 전역이다\n"
     ]
    }
   ],
   "source": [
    "# 전역변수 global variable\n",
    "var_test = '나는 전역이다'\n",
    "print(global_var)\n",
    "\n",
    "def global_example():\n",
    "    var_test = 100\n",
    "    print('여기는 함수의 영역입니다. ', var_test)\n",
    "    \n",
    "global_example()\n",
    "print(var_test)\n",
    "\n",
    "# 이름이 같은 전역변수와 지역변수 구분"
   ]
  },
  {
   "cell_type": "code",
   "execution_count": 24,
   "id": "1dcb1e40-a394-4629-9a8b-05f3ce86f359",
   "metadata": {},
   "outputs": [
    {
     "name": "stdout",
     "output_type": "stream",
     "text": [
      "나는 전역이다\n",
      "여기는 함수의 영역입니다.  100\n",
      "100\n"
     ]
    }
   ],
   "source": [
    "# 전역변수 global variable\n",
    "var_test = '나는 전역이다'\n",
    "print(global_var)\n",
    "\n",
    "def global_example():\n",
    "    global var_test # global var_test = 100 (x) -> 선언과 할당 동시 x\n",
    "    var_test = 100\n",
    "    print('여기는 함수의 영역입니다. ', var_test)\n",
    "    \n",
    "global_example()\n",
    "print(var_test)\n",
    "\n",
    "# 이름이 같은 전역변수와 지역변수 영역이 다름. local에서는 local변수가 우선. global에서는 global변수가 우선"
   ]
  },
  {
   "cell_type": "code",
   "execution_count": 34,
   "id": "a695291f-19a3-4d71-a3db-392635f362fe",
   "metadata": {},
   "outputs": [
    {
     "name": "stdout",
     "output_type": "stream",
     "text": [
      "카운터 :  1\n",
      "카운터 :  2\n",
      "카운터 :  3\n"
     ]
    }
   ],
   "source": [
    "# 변수 영역 연습\n",
    "\n",
    "counter = 0 # global\n",
    "def increment_counter():\n",
    "    #counter = counter + 1 # 누적\n",
    "    global counter \n",
    "    counter += 1 # 증가연산자\n",
    "    print('카운터 : ', counter)\n",
    "\n",
    "increment_counter()\n",
    "increment_counter()\n",
    "increment_counter()"
   ]
  },
  {
   "cell_type": "code",
   "execution_count": 38,
   "id": "256bc722-2158-4cc2-a1e0-78092ae1aa95",
   "metadata": {},
   "outputs": [
    {
     "name": "stdout",
     "output_type": "stream",
     "text": [
      "카운터 :  1\n",
      "카운터 :  2\n",
      "카운터 :  3\n"
     ]
    }
   ],
   "source": [
    "counter = 0\n",
    "def increment_counter():\n",
    "    global counter\n",
    "    counter  = counter + 1\n",
    "    print('카운터 : ', counter)\n",
    "increment_counter()\n",
    "increment_counter()\n",
    "increment_counter()"
   ]
  },
  {
   "cell_type": "markdown",
   "id": "3cb60096-635d-495b-b91b-e89d8ca085c5",
   "metadata": {},
   "source": [
    "# 교재 변수 연습"
   ]
  },
  {
   "cell_type": "code",
   "execution_count": 39,
   "id": "aab4dec6-a93c-438d-85c9-9f4efcd1144a",
   "metadata": {},
   "outputs": [],
   "source": [
    "a = 1\n",
    "b = \"python\"\n",
    "c = [1, 2, 3]"
   ]
  },
  {
   "cell_type": "code",
   "execution_count": 40,
   "id": "89db1319-1296-4aa7-baa5-4de9fe8b1516",
   "metadata": {},
   "outputs": [],
   "source": [
    "a = [1, 2, 3]"
   ]
  },
  {
   "cell_type": "code",
   "execution_count": 41,
   "id": "d17c018a-c5a9-434b-a828-d1559f4adafc",
   "metadata": {},
   "outputs": [
    {
     "data": {
      "text/plain": [
       "1360440869440"
      ]
     },
     "execution_count": 41,
     "metadata": {},
     "output_type": "execute_result"
    }
   ],
   "source": [
    "a = [1, 2, 3]\n",
    "id(a)"
   ]
  },
  {
   "cell_type": "code",
   "execution_count": 42,
   "id": "273ae3c2-8047-4431-85dc-d3b8c343d0a7",
   "metadata": {},
   "outputs": [],
   "source": [
    "a = [1, 2, 3]\n",
    "b = a"
   ]
  },
  {
   "cell_type": "code",
   "execution_count": 43,
   "id": "6a41f4e3-4c74-4a14-a9a4-7cc274afcb83",
   "metadata": {},
   "outputs": [
    {
     "data": {
      "text/plain": [
       "1360418299520"
      ]
     },
     "execution_count": 43,
     "metadata": {},
     "output_type": "execute_result"
    }
   ],
   "source": [
    "id(a)"
   ]
  },
  {
   "cell_type": "code",
   "execution_count": 44,
   "id": "3ec5d659-0e61-47bb-bb17-b27c41dbbc9c",
   "metadata": {},
   "outputs": [
    {
     "data": {
      "text/plain": [
       "1360418299520"
      ]
     },
     "execution_count": 44,
     "metadata": {},
     "output_type": "execute_result"
    }
   ],
   "source": [
    "id(b)"
   ]
  },
  {
   "cell_type": "code",
   "execution_count": 45,
   "id": "152d4d5d-4019-42cd-a50e-24e613bfe507",
   "metadata": {},
   "outputs": [
    {
     "data": {
      "text/plain": [
       "True"
      ]
     },
     "execution_count": 45,
     "metadata": {},
     "output_type": "execute_result"
    }
   ],
   "source": [
    "a is b"
   ]
  },
  {
   "cell_type": "code",
   "execution_count": 48,
   "id": "c3f1b2d5-7757-497a-8e5e-0e181454d704",
   "metadata": {},
   "outputs": [],
   "source": [
    "a[1] = 4"
   ]
  },
  {
   "cell_type": "code",
   "execution_count": 49,
   "id": "31c17cc9-a59a-48e3-8284-4031e4e2e6b7",
   "metadata": {},
   "outputs": [
    {
     "data": {
      "text/plain": [
       "[1, 4, 3]"
      ]
     },
     "execution_count": 49,
     "metadata": {},
     "output_type": "execute_result"
    }
   ],
   "source": [
    "a"
   ]
  },
  {
   "cell_type": "code",
   "execution_count": 50,
   "id": "70326eab-c046-4e53-902b-278f614c598b",
   "metadata": {},
   "outputs": [
    {
     "data": {
      "text/plain": [
       "[1, 4, 3]"
      ]
     },
     "execution_count": 50,
     "metadata": {},
     "output_type": "execute_result"
    }
   ],
   "source": [
    "b"
   ]
  },
  {
   "cell_type": "code",
   "execution_count": 52,
   "id": "b09daf0b-0b13-46aa-8c5f-1b2cd777ea99",
   "metadata": {},
   "outputs": [],
   "source": [
    "a = [1, 2, 3]\n",
    "b = a[:]\n",
    "a[1] = 4"
   ]
  },
  {
   "cell_type": "code",
   "execution_count": 53,
   "id": "a20fcb1d-37d2-4e0b-9d4d-6a04e0653121",
   "metadata": {},
   "outputs": [
    {
     "data": {
      "text/plain": [
       "[1, 4, 3]"
      ]
     },
     "execution_count": 53,
     "metadata": {},
     "output_type": "execute_result"
    }
   ],
   "source": [
    "a"
   ]
  },
  {
   "cell_type": "code",
   "execution_count": 54,
   "id": "9da56651-87bf-426a-97eb-928f788673b8",
   "metadata": {},
   "outputs": [
    {
     "data": {
      "text/plain": [
       "[1, 2, 3]"
      ]
     },
     "execution_count": 54,
     "metadata": {},
     "output_type": "execute_result"
    }
   ],
   "source": [
    "b"
   ]
  },
  {
   "cell_type": "code",
   "execution_count": 56,
   "id": "7a088eb0-fdc1-46f8-894a-40ada3192d5e",
   "metadata": {},
   "outputs": [
    {
     "data": {
      "text/plain": [
       "False"
      ]
     },
     "execution_count": 56,
     "metadata": {},
     "output_type": "execute_result"
    }
   ],
   "source": [
    "from copy import copy\n",
    "a = [1, 2, 3]\n",
    "b = copy(a)\n",
    "b is a"
   ]
  },
  {
   "cell_type": "code",
   "execution_count": 57,
   "id": "012a43c4-edf4-46dd-9c82-4a6d90c52f7e",
   "metadata": {},
   "outputs": [
    {
     "data": {
      "text/plain": [
       "False"
      ]
     },
     "execution_count": 57,
     "metadata": {},
     "output_type": "execute_result"
    }
   ],
   "source": [
    "a = [ 1, 2, 3]\n",
    "b = a.copy()\n",
    "b is a"
   ]
  },
  {
   "cell_type": "code",
   "execution_count": 64,
   "id": "2710e3da-3bb3-4d80-901f-cbe1b9913e85",
   "metadata": {},
   "outputs": [
    {
     "data": {
      "text/plain": [
       "('python', 'life')"
      ]
     },
     "execution_count": 64,
     "metadata": {},
     "output_type": "execute_result"
    }
   ],
   "source": [
    "a, b = ('python', 'life')\n",
    "a,b"
   ]
  },
  {
   "cell_type": "code",
   "execution_count": 67,
   "id": "bc09b6e4-5e0e-41e2-8e26-4ea97eb9dbb3",
   "metadata": {},
   "outputs": [
    {
     "data": {
      "text/plain": [
       "('python', 'life')"
      ]
     },
     "execution_count": 67,
     "metadata": {},
     "output_type": "execute_result"
    }
   ],
   "source": [
    "(a, b) = 'python', 'life'\n",
    "(a,b)"
   ]
  },
  {
   "cell_type": "code",
   "execution_count": 70,
   "id": "29366240-013c-4c3f-98e8-38a16cbfbbd0",
   "metadata": {},
   "outputs": [
    {
     "data": {
      "text/plain": [
       "['python', 'life']"
      ]
     },
     "execution_count": 70,
     "metadata": {},
     "output_type": "execute_result"
    }
   ],
   "source": [
    "[a, b] = ['python', 'life']\n",
    "[a,b]"
   ]
  },
  {
   "cell_type": "code",
   "execution_count": 73,
   "id": "842559b1-2b16-4ef3-b967-042ef0a40f5b",
   "metadata": {},
   "outputs": [
    {
     "data": {
      "text/plain": [
       "'python'"
      ]
     },
     "execution_count": 73,
     "metadata": {},
     "output_type": "execute_result"
    }
   ],
   "source": [
    "a = b = 'python'\n",
    "b"
   ]
  },
  {
   "cell_type": "code",
   "execution_count": 79,
   "id": "79fb1e3e-515e-4b6f-9d78-25957fd4855e",
   "metadata": {},
   "outputs": [],
   "source": [
    "a = 3\n",
    "b = 5\n",
    "a, b = b,a"
   ]
  },
  {
   "cell_type": "code",
   "execution_count": 80,
   "id": "d8a581ca-bc19-4fe5-ac6c-da71e565d128",
   "metadata": {},
   "outputs": [
    {
     "data": {
      "text/plain": [
       "5"
      ]
     },
     "execution_count": 80,
     "metadata": {},
     "output_type": "execute_result"
    }
   ],
   "source": [
    "a"
   ]
  },
  {
   "cell_type": "code",
   "execution_count": 81,
   "id": "910cc998-597e-4c13-8cb2-f6ce209cfdc3",
   "metadata": {},
   "outputs": [
    {
     "data": {
      "text/plain": [
       "3"
      ]
     },
     "execution_count": 81,
     "metadata": {},
     "output_type": "execute_result"
    }
   ],
   "source": [
    "b"
   ]
  },
  {
   "cell_type": "code",
   "execution_count": null,
   "id": "21d8b3b2-e4f5-47ce-9f17-fa8a3052190b",
   "metadata": {},
   "outputs": [],
   "source": []
  },
  {
   "cell_type": "markdown",
   "id": "5714b49e-b86e-47fb-afcb-7ab81c455676",
   "metadata": {},
   "source": [
    "## 초보자를 위한 파이썬 300제 (001~020)"
   ]
  },
  {
   "cell_type": "code",
   "execution_count": 82,
   "id": "27646e96-1e11-47b9-ac0b-e08663e69d81",
   "metadata": {},
   "outputs": [
    {
     "name": "stdout",
     "output_type": "stream",
     "text": [
      "Hello World\n"
     ]
    }
   ],
   "source": [
    "# 001\n",
    "print('Hello World')"
   ]
  },
  {
   "cell_type": "code",
   "execution_count": 97,
   "id": "43b4ff00-b832-4b43-8b3a-0b15d43d0fc6",
   "metadata": {},
   "outputs": [
    {
     "name": "stdout",
     "output_type": "stream",
     "text": [
      "Mary's cosmetics\n"
     ]
    }
   ],
   "source": [
    "# 002\n",
    "print(\"Mary's cosmetics\")"
   ]
  },
  {
   "cell_type": "code",
   "execution_count": 98,
   "id": "96902b30-d58a-4ba4-acb7-0fbcbf307299",
   "metadata": {},
   "outputs": [
    {
     "name": "stdout",
     "output_type": "stream",
     "text": [
      "신씨가 소리질렀다. \"도둑이야\".\n"
     ]
    }
   ],
   "source": [
    "# 003\n",
    "print('신씨가 소리질렀다. \"도둑이야\".')"
   ]
  },
  {
   "cell_type": "code",
   "execution_count": 99,
   "id": "be2a852f-698e-4a1f-b1d1-f5cc7554b5c2",
   "metadata": {},
   "outputs": [
    {
     "name": "stdout",
     "output_type": "stream",
     "text": [
      "C:\\Windows\n"
     ]
    }
   ],
   "source": [
    "# 004\n",
    "print(\"C:\\\\Windows\")"
   ]
  },
  {
   "cell_type": "code",
   "execution_count": 100,
   "id": "c773118a-5ed1-4ff9-9735-9e6b6d08b57a",
   "metadata": {},
   "outputs": [
    {
     "name": "stdout",
     "output_type": "stream",
     "text": [
      "안녕하세요. \n",
      "만나서\t\t반갑습니다.\n"
     ]
    }
   ],
   "source": [
    "# 005\n",
    "print(\"안녕하세요. \\n만나서\\t\\t반갑습니다.\")"
   ]
  },
  {
   "cell_type": "code",
   "execution_count": 101,
   "id": "d1bee27b-2636-4863-85ec-6b1805232982",
   "metadata": {},
   "outputs": [
    {
     "name": "stdout",
     "output_type": "stream",
     "text": [
      "오늘은 일요일\n"
     ]
    }
   ],
   "source": [
    "# 006\n",
    "print(\"오늘은\", \"일요일\")"
   ]
  },
  {
   "cell_type": "code",
   "execution_count": 103,
   "id": "4ef01f8a-6a64-4881-bca4-9622b24f5c4a",
   "metadata": {},
   "outputs": [
    {
     "name": "stdout",
     "output_type": "stream",
     "text": [
      "naver;kakao;sk;samsung\n",
      "naver;kakao;sk;samsung\n"
     ]
    }
   ],
   "source": [
    "# 007\n",
    "print(\"naver;kakao;sk;samsung\")\n",
    "print(\"naver\", \"kakao\", \"sk\", \"samsung\", sep = \";\")"
   ]
  },
  {
   "cell_type": "code",
   "execution_count": 104,
   "id": "4d87bc83-aa08-49ce-ba5c-532622d60787",
   "metadata": {},
   "outputs": [
    {
     "name": "stdout",
     "output_type": "stream",
     "text": [
      "naver/kakao/sk/samsung\n"
     ]
    }
   ],
   "source": [
    "# 008\n",
    "print(\"naver\", \"kakao\", \"sk\", \"samsung\", sep = \"/\")"
   ]
  },
  {
   "cell_type": "code",
   "execution_count": 108,
   "id": "bc79a25e-0dd7-46e8-b720-3c48f9bb1911",
   "metadata": {},
   "outputs": [
    {
     "name": "stdout",
     "output_type": "stream",
     "text": [
      "firstsecond\n"
     ]
    }
   ],
   "source": [
    "# 009\n",
    "print(\"first\", end=\"\");print(\"second\")"
   ]
  },
  {
   "cell_type": "code",
   "execution_count": 109,
   "id": "aa2c2c7f-5947-459f-a93c-b49e2a118d2e",
   "metadata": {},
   "outputs": [
    {
     "name": "stdout",
     "output_type": "stream",
     "text": [
      "1.6666666666666667\n"
     ]
    }
   ],
   "source": [
    "# 010\n",
    "print(5/3)"
   ]
  },
  {
   "cell_type": "code",
   "execution_count": 110,
   "id": "e6604587-6e2c-4a52-9aa6-4feb746b5c4c",
   "metadata": {},
   "outputs": [
    {
     "name": "stdout",
     "output_type": "stream",
     "text": [
      "500000\n"
     ]
    }
   ],
   "source": [
    "# 011\n",
    "삼성전자 = 50000\n",
    "총평가금액 = 삼성전자 * 10\n",
    "print(총평가금액)"
   ]
  },
  {
   "cell_type": "code",
   "execution_count": 111,
   "id": "e706441f-0c9d-480d-af9a-668451aa2cc6",
   "metadata": {},
   "outputs": [
    {
     "name": "stdout",
     "output_type": "stream",
     "text": [
      "2980000000000 <class 'int'>\n",
      "50000 <class 'int'>\n",
      "15.79 <class 'float'>\n"
     ]
    }
   ],
   "source": [
    "# 012\n",
    "시가총액 = 2980000000000\n",
    "현재가 =  50000\n",
    "PER = 15.79\n",
    "print(시가총액, type(시가총액))\n",
    "print(현재가, type(현재가))\n",
    "print(PER, type(PER))"
   ]
  },
  {
   "cell_type": "code",
   "execution_count": 116,
   "id": "3e8d76ab-6b92-43a9-9f18-732cc9708a5e",
   "metadata": {},
   "outputs": [
    {
     "name": "stdout",
     "output_type": "stream",
     "text": [
      "hello! python\n"
     ]
    }
   ],
   "source": [
    "# 013\n",
    "s = \"hello\"\n",
    "t = \"python\"\n",
    "\n",
    "print(s + \"!\" ,t)"
   ]
  },
  {
   "cell_type": "code",
   "execution_count": 117,
   "id": "5dcdfeb5-859d-42c8-8e0c-dc7e9fa2f367",
   "metadata": {},
   "outputs": [
    {
     "data": {
      "text/plain": [
       "8"
      ]
     },
     "execution_count": 117,
     "metadata": {},
     "output_type": "execute_result"
    }
   ],
   "source": [
    "# 014\n",
    "2 + 2 * 3 # 8?"
   ]
  },
  {
   "cell_type": "code",
   "execution_count": 119,
   "id": "3513fac6-7bc9-4bc7-8ee1-058261fd12ed",
   "metadata": {},
   "outputs": [
    {
     "name": "stdout",
     "output_type": "stream",
     "text": [
      "<class 'int'>\n"
     ]
    }
   ],
   "source": [
    "# 015\n",
    "a = 128\n",
    "print(type(a))"
   ]
  },
  {
   "cell_type": "code",
   "execution_count": 120,
   "id": "70e42c79-3af4-4496-a418-8372f65199b9",
   "metadata": {},
   "outputs": [
    {
     "name": "stdout",
     "output_type": "stream",
     "text": [
      "<class 'str'>\n"
     ]
    }
   ],
   "source": [
    "a = \"132\"\n",
    "print(type(a))"
   ]
  },
  {
   "cell_type": "code",
   "execution_count": 123,
   "id": "70d1d413-ed4c-4b0d-8b21-18fe20193cc6",
   "metadata": {},
   "outputs": [
    {
     "name": "stdout",
     "output_type": "stream",
     "text": [
      "<class 'int'>\n"
     ]
    }
   ],
   "source": [
    "# 016\n",
    "num_str = \"720\"\n",
    "num_int = int(num_str)\n",
    "print(type(num_int))"
   ]
  },
  {
   "cell_type": "code",
   "execution_count": 125,
   "id": "4182e4d1-8156-4eb7-94b4-66e198024d49",
   "metadata": {},
   "outputs": [
    {
     "name": "stdout",
     "output_type": "stream",
     "text": [
      "<class 'str'>\n"
     ]
    }
   ],
   "source": [
    "# 017\n",
    "num = 100\n",
    "num_str = str(num)\n",
    "print(type(num_str))"
   ]
  },
  {
   "cell_type": "code",
   "execution_count": 126,
   "id": "ab3ec337-e5cd-41ac-947f-42a712ea3d35",
   "metadata": {},
   "outputs": [
    {
     "name": "stdout",
     "output_type": "stream",
     "text": [
      "<class 'float'>\n"
     ]
    }
   ],
   "source": [
    "# 018\n",
    "num = \"15.79\"\n",
    "num_float = float(num)\n",
    "print(type(num_float))"
   ]
  },
  {
   "cell_type": "code",
   "execution_count": 134,
   "id": "3943fbbf-02cc-42ab-9957-970e12a91914",
   "metadata": {},
   "outputs": [
    {
     "name": "stdout",
     "output_type": "stream",
     "text": [
      "2020\n",
      "2017\n",
      "2018\n",
      "2019\n"
     ]
    }
   ],
   "source": [
    "# 019\n",
    "year = \"2020\"\n",
    "year_num = int(year)\n",
    "print(year_num)\n",
    "print(year_num - 3)\n",
    "print(year_num - 2)\n",
    "print(year_num - 1)"
   ]
  },
  {
   "cell_type": "code",
   "execution_count": 135,
   "id": "dfdefe4a-4574-4b39-b2c6-09bd8ef6813b",
   "metadata": {},
   "outputs": [
    {
     "name": "stdout",
     "output_type": "stream",
     "text": [
      "1749024\n"
     ]
    }
   ],
   "source": [
    "# 020\n",
    "month = 48584\n",
    "value = month  * 36\n",
    "print(value)"
   ]
  },
  {
   "cell_type": "code",
   "execution_count": null,
   "id": "1ff3c624-f3e3-41e2-a80a-a95a37fa0f0a",
   "metadata": {},
   "outputs": [],
   "source": []
  },
  {
   "cell_type": "markdown",
   "id": "8f314dca-91ba-482d-b6cf-33d81671aa7a",
   "metadata": {},
   "source": [
    "# 자료형\n",
    "\n",
    "- 기본 자료형: 숫자형, 문자열형 str, 부울형\n",
    "- 복합 자료형: 리스트, 셋, 튜플, 딕셔너리"
   ]
  },
  {
   "cell_type": "markdown",
   "id": "fe5ed1ca-b56b-4364-acff-b9f78feedccc",
   "metadata": {},
   "source": [
    "| type | 설명 | 예 |\n",
    "| --- | --- | --- |\n",
    "| 정수형 (int) | 정수를 저장하는 자료형 | 1, -5, 100 |\n",
    "| 실수형 (float) | 소수점이 있는 숫자를 저장하는 자료형 | 3.14, -0.001, 2.0 |\n",
    "| 문자열 (str) | 텍스트를 저장하는 자료형 | \"Hello\", '파이썬' |\n",
    "| 논리형 (bool) | 참/거짓 값을 저장하는 자료형 | True, False |"
   ]
  },
  {
   "cell_type": "markdown",
   "id": "5ec709c4-7183-4637-a9ba-3eaa94184778",
   "metadata": {},
   "source": [
    "- 수정 불가능한 데이터 타입: 수치형, 부울형, 문자열, 튜플\n",
    "- 수정 가능한 데이터 타입: 리스트, 딕셔너리, 셋"
   ]
  },
  {
   "cell_type": "code",
   "execution_count": 136,
   "id": "187db263-1e5b-48cb-a079-2b85057f90e3",
   "metadata": {},
   "outputs": [
    {
     "data": {
      "text/plain": [
       "(20, int)"
      ]
     },
     "execution_count": 136,
     "metadata": {},
     "output_type": "execute_result"
    }
   ],
   "source": [
    "# 수치형 - int\n",
    "20, type(20)"
   ]
  },
  {
   "cell_type": "code",
   "execution_count": 138,
   "id": "32b0ca52-bf39-4ac1-a80f-4e3e0c5457ec",
   "metadata": {},
   "outputs": [
    {
     "data": {
      "text/plain": [
       "int"
      ]
     },
     "execution_count": 138,
     "metadata": {},
     "output_type": "execute_result"
    }
   ],
   "source": [
    "age = 20\n",
    "type(age)"
   ]
  },
  {
   "cell_type": "markdown",
   "id": "fe2073ab-6698-4e91-8711-1336e48d5304",
   "metadata": {},
   "source": [
    "1. 진법: 10진수, 2진수, 8진수, 16진수\n",
    "2. 입력하는 방법은 다르지만, print() 결과는 동일하다."
   ]
  },
  {
   "cell_type": "code",
   "execution_count": 141,
   "id": "a69bbc61-53a9-4a3d-a14f-72eeceb734ae",
   "metadata": {},
   "outputs": [
    {
     "data": {
      "text/plain": [
       "(10, 5)"
      ]
     },
     "execution_count": 141,
     "metadata": {},
     "output_type": "execute_result"
    }
   ],
   "source": [
    "a = 10\n",
    "b = 0b0101 # 2진수 - 0/1로 표현하는 방법 -> 0101 = 2^2 + 2^0 = 5\n",
    "a,b"
   ]
  },
  {
   "cell_type": "code",
   "execution_count": 149,
   "id": "0fc40962-e3ef-44fe-b4a5-0293158583ea",
   "metadata": {},
   "outputs": [
    {
     "data": {
      "text/plain": [
       "8"
      ]
     },
     "execution_count": 149,
     "metadata": {},
     "output_type": "execute_result"
    }
   ],
   "source": [
    "c = 0o10 # 8진수 10 -> 8*1 + 8^0 = 8*1 + 0*0 = 8\n",
    "c"
   ]
  },
  {
   "cell_type": "code",
   "execution_count": 147,
   "id": "99f53cee-b6ee-490f-be2d-c71a4196e792",
   "metadata": {},
   "outputs": [
    {
     "data": {
      "text/plain": [
       "8"
      ]
     },
     "execution_count": 147,
     "metadata": {},
     "output_type": "execute_result"
    }
   ],
   "source": [
    "d = 0b1000\n",
    "d"
   ]
  },
  {
   "cell_type": "code",
   "execution_count": 156,
   "id": "dcfd38a4-0f0a-4a45-93ed-947e2aee0e50",
   "metadata": {},
   "outputs": [
    {
     "data": {
      "text/plain": [
       "(256, 96, 365)"
      ]
     },
     "execution_count": 156,
     "metadata": {},
     "output_type": "execute_result"
    }
   ],
   "source": [
    "e = 0x16d #> 1*16^2 + 6*16^1 + d(13)*16^0(1) = 256 + 96 + 16\n",
    "16**2, 16*6, e"
   ]
  },
  {
   "cell_type": "code",
   "execution_count": 157,
   "id": "775e1f80-6456-4b35-b7c9-7b6ec3fb7995",
   "metadata": {},
   "outputs": [
    {
     "data": {
      "text/plain": [
       "(3.14, float)"
      ]
     },
     "execution_count": 157,
     "metadata": {},
     "output_type": "execute_result"
    }
   ],
   "source": [
    "# float\n",
    "b = 3.14\n",
    "b, type(b)"
   ]
  },
  {
   "cell_type": "markdown",
   "id": "158229e8-2704-4d5d-a41c-915d38e74891",
   "metadata": {},
   "source": [
    "지수의 표기\n",
    "\n",
    "숫자 e2 -> 10^2의 곱 = 10**2\n",
    "숫자 e-2 -> 10^2의 곱 = 10**-2"
   ]
  },
  {
   "cell_type": "code",
   "execution_count": 163,
   "id": "e6f0c175-792a-4bb1-af22-49ed1ae61479",
   "metadata": {},
   "outputs": [
    {
     "data": {
      "text/plain": [
       "(1000.0, 1000)"
      ]
     },
     "execution_count": 163,
     "metadata": {},
     "output_type": "execute_result"
    }
   ],
   "source": [
    "fa = 10e2\n",
    "fa, 10**3"
   ]
  },
  {
   "cell_type": "code",
   "execution_count": 162,
   "id": "59d462d8-1075-4706-aa76-8152c7ba6792",
   "metadata": {},
   "outputs": [
    {
     "data": {
      "text/plain": [
       "0.1"
      ]
     },
     "execution_count": 162,
     "metadata": {},
     "output_type": "execute_result"
    }
   ],
   "source": [
    "fb = 10e-2\n",
    "fb"
   ]
  },
  {
   "cell_type": "code",
   "execution_count": 165,
   "id": "2195e643-ac4b-4551-af11-c4a0f35498a1",
   "metadata": {},
   "outputs": [
    {
     "data": {
      "text/plain": [
       "3141500000.0"
      ]
     },
     "execution_count": 165,
     "metadata": {},
     "output_type": "execute_result"
    }
   ],
   "source": [
    "fc = 3.1415e9 # e가 있으면 float타입 .0 붙음\n",
    "fc"
   ]
  },
  {
   "cell_type": "markdown",
   "id": "19000678-5467-4e50-8fc4-510f9dc51734",
   "metadata": {},
   "source": [
    "# BOOLEAN값- True, False\n",
    "논리연산, 비교연산"
   ]
  },
  {
   "cell_type": "code",
   "execution_count": 170,
   "id": "6e57416a-bbf6-4826-b770-afd9f6c40fb8",
   "metadata": {},
   "outputs": [],
   "source": [
    "ba = True # 리터럴\n",
    "# bb = true # true는 변수\n",
    "# type(ba), type(bb) # 없는 변수의 타입을 물어봐서 오류"
   ]
  },
  {
   "cell_type": "code",
   "execution_count": 174,
   "id": "afa3b570-b47f-4690-9e10-7b7e8e516a04",
   "metadata": {},
   "outputs": [
    {
     "data": {
      "text/plain": [
       "False"
      ]
     },
     "execution_count": 174,
     "metadata": {},
     "output_type": "execute_result"
    }
   ],
   "source": [
    "ba == 0 # True = 1, False = 0"
   ]
  },
  {
   "cell_type": "code",
   "execution_count": 175,
   "id": "78c1b41c-e06c-476c-8c18-9700ea2d22b3",
   "metadata": {},
   "outputs": [
    {
     "data": {
      "text/plain": [
       "False"
      ]
     },
     "execution_count": 175,
     "metadata": {},
     "output_type": "execute_result"
    }
   ],
   "source": [
    "ba == \"True\" # ==비교연산"
   ]
  },
  {
   "cell_type": "code",
   "execution_count": 177,
   "id": "27f1e7c1-a509-462b-b132-5f03f29bc3ca",
   "metadata": {},
   "outputs": [
    {
     "data": {
      "text/plain": [
       "1"
      ]
     },
     "execution_count": 177,
     "metadata": {},
     "output_type": "execute_result"
    }
   ],
   "source": [
    "# 논리 연산자 - and or not\n",
    "\n",
    "bc = 1\n",
    "ba and bc # true일 때 1 나옴"
   ]
  },
  {
   "cell_type": "code",
   "execution_count": 178,
   "id": "9ee32299-b692-4c31-b46d-d2344a605db2",
   "metadata": {},
   "outputs": [],
   "source": [
    "# 사칙연산 + - * / // %\n",
    "a = 2\n",
    "b = 3"
   ]
  },
  {
   "cell_type": "code",
   "execution_count": 185,
   "id": "b8e1ab4c-4643-4b5b-aa5d-ce0dfb5ce8fe",
   "metadata": {},
   "outputs": [
    {
     "data": {
      "text/plain": [
       "(0.6666666666666666, 0, 2)"
      ]
     },
     "execution_count": 185,
     "metadata": {},
     "output_type": "execute_result"
    }
   ],
   "source": [
    "a + b\n",
    "a - b\n",
    "a * b\n",
    "a / b, a // b,  a % b  #몫, 나머지"
   ]
  },
  {
   "cell_type": "code",
   "execution_count": 191,
   "id": "9ea2be35-a3dc-4801-863a-076ad194bfc8",
   "metadata": {},
   "outputs": [
    {
     "data": {
      "text/plain": [
       "True"
      ]
     },
     "execution_count": 191,
     "metadata": {},
     "output_type": "execute_result"
    }
   ],
   "source": [
    "# 비교 연산자\n",
    "1+2 == 3\n",
    "1+2 != 3\n",
    "1+3 > 3\n",
    "1+3 <= 4"
   ]
  },
  {
   "cell_type": "code",
   "execution_count": 194,
   "id": "64ea75a1-9aea-4815-a3d8-42706e9d286a",
   "metadata": {},
   "outputs": [
    {
     "data": {
      "text/plain": [
       "True"
      ]
     },
     "execution_count": 194,
     "metadata": {},
     "output_type": "execute_result"
    }
   ],
   "source": [
    "# 비교연산자와 논리연산자의 결합\n",
    "10%2 == 0 and 12%3 == 0 # True and True => True"
   ]
  },
  {
   "cell_type": "code",
   "execution_count": 195,
   "id": "8ff45277-2a77-43aa-87aa-55d8f41e7d92",
   "metadata": {},
   "outputs": [
    {
     "data": {
      "text/plain": [
       "('1234', '5678', 1360395557104, 1360448508560)"
      ]
     },
     "execution_count": 195,
     "metadata": {},
     "output_type": "execute_result"
    }
   ],
   "source": [
    "a = '1234'\n",
    "b = '5678'\n",
    "a,b, id(a), id(b)"
   ]
  },
  {
   "cell_type": "code",
   "execution_count": 196,
   "id": "b32131ac-072b-499b-997d-702343248b3f",
   "metadata": {},
   "outputs": [
    {
     "data": {
      "text/plain": [
       "False"
      ]
     },
     "execution_count": 196,
     "metadata": {},
     "output_type": "execute_result"
    }
   ],
   "source": [
    "id(a) == id(b)"
   ]
  },
  {
   "cell_type": "code",
   "execution_count": 197,
   "id": "17c5358a-0041-4fc7-bb8a-ae8bd5358e47",
   "metadata": {},
   "outputs": [
    {
     "data": {
      "text/plain": [
       "(10, 12)"
      ]
     },
     "execution_count": 197,
     "metadata": {},
     "output_type": "execute_result"
    }
   ],
   "source": [
    "# 대입연산자\n",
    "\n",
    "a = 10\n",
    "b = a + 2\n",
    "a, b"
   ]
  },
  {
   "cell_type": "code",
   "execution_count": 198,
   "id": "7a1cf534-0c45-42d8-b364-ee825c742de0",
   "metadata": {},
   "outputs": [
    {
     "data": {
      "text/plain": [
       "21"
      ]
     },
     "execution_count": 198,
     "metadata": {},
     "output_type": "execute_result"
    }
   ],
   "source": [
    "a = 20\n",
    "a += 1 # a = a + 1\n",
    "a"
   ]
  },
  {
   "cell_type": "code",
   "execution_count": 199,
   "id": "953703dd-3442-4652-bbac-38ed481f28ac",
   "metadata": {},
   "outputs": [
    {
     "data": {
      "text/plain": [
       "20"
      ]
     },
     "execution_count": 199,
     "metadata": {},
     "output_type": "execute_result"
    }
   ],
   "source": [
    "a -= 1 # a = a - 1\n",
    "a"
   ]
  },
  {
   "cell_type": "code",
   "execution_count": 200,
   "id": "f086278b-29dd-47f7-9f56-4e41f7a4f538",
   "metadata": {},
   "outputs": [
    {
     "data": {
      "text/plain": [
       "102"
      ]
     },
     "execution_count": 200,
     "metadata": {},
     "output_type": "execute_result"
    }
   ],
   "source": [
    "k = 100\n",
    "k += 2\n",
    "k"
   ]
  },
  {
   "cell_type": "code",
   "execution_count": 202,
   "id": "466b56cd-1580-4836-84f1-637399d56414",
   "metadata": {},
   "outputs": [
    {
     "data": {
      "text/plain": [
       "1275.0"
      ]
     },
     "execution_count": 202,
     "metadata": {},
     "output_type": "execute_result"
    }
   ],
   "source": [
    "k *= 5\n",
    "k\n",
    "k /= 2\n",
    "k"
   ]
  },
  {
   "cell_type": "code",
   "execution_count": 203,
   "id": "de0544ff-edb8-43f5-9ecf-59c372a138e1",
   "metadata": {},
   "outputs": [
    {
     "data": {
      "text/plain": [
       "7"
      ]
     },
     "execution_count": 203,
     "metadata": {},
     "output_type": "execute_result"
    }
   ],
   "source": [
    "a = 3\n",
    "b = 2\n",
    "a += b + 2\n",
    "a"
   ]
  },
  {
   "cell_type": "markdown",
   "id": "3762b798-2385-442b-a116-50477b4ca29d",
   "metadata": {},
   "source": [
    "# 문자열 str\n",
    "' ', \" \", \"\"\" \"\"\", ''' ''' docstring\n",
    "\n",
    "인코딩 > 코드 > 숫자값 정해져 있어요 \"코드표\""
   ]
  },
  {
   "cell_type": "markdown",
   "id": "4d4630b3-bae7-4f95-8d0a-aaf8d97c537d",
   "metadata": {},
   "source": [
    "유니코드 문자 표준\n",
    "영어는 유니코드\n",
    "한국어도 유니코드\n",
    "\n",
    "유니코드가 글자의 크기에 다라 utf-8, [utf-16, utf-32]\n",
    "파이썬의 문자열 str -> unicode 기반이다.\n",
    "\n",
    "euc-kr: 예전에 우리나라에서 쓰던 한글 코드\n",
    "cp949: MS 윈도우즈의 한글코드"
   ]
  },
  {
   "cell_type": "code",
   "execution_count": 3,
   "id": "0d6db52b-49f0-4754-a95b-14f1eaafdf8f",
   "metadata": {},
   "outputs": [
    {
     "name": "stdout",
     "output_type": "stream",
     "text": [
      "파이썬\n",
      "54028\n"
     ]
    }
   ],
   "source": [
    "text = '파이썬'\n",
    "print(text)\n",
    "print(ord('파'))"
   ]
  },
  {
   "cell_type": "code",
   "execution_count": 5,
   "id": "40e30dd7-ad08-4752-8a15-29df3790250f",
   "metadata": {},
   "outputs": [
    {
     "data": {
      "text/plain": [
       "b'\\xed\\x8c\\x8c\\xec\\x9d\\xb4\\xec\\x8d\\xac'"
      ]
     },
     "execution_count": 5,
     "metadata": {},
     "output_type": "execute_result"
    }
   ],
   "source": [
    "# 인코딩\n",
    "enc_text = text.encode('utf-8')\n",
    "enc_text"
   ]
  },
  {
   "cell_type": "code",
   "execution_count": 8,
   "id": "10abe047-70ca-4283-998a-22b1d20ba685",
   "metadata": {},
   "outputs": [
    {
     "data": {
      "text/plain": [
       "'파이썬'"
      ]
     },
     "execution_count": 8,
     "metadata": {},
     "output_type": "execute_result"
    }
   ],
   "source": [
    "# 디코딩\n",
    "dec_text = enc_text.decode('utf-8')\n",
    "dec_text"
   ]
  },
  {
   "cell_type": "code",
   "execution_count": 22,
   "id": "60e0f267-1301-4ca7-8ff3-7031779e652d",
   "metadata": {},
   "outputs": [
    {
     "name": "stdout",
     "output_type": "stream",
     "text": [
      "엥\n",
      "b'\\xbf\\xa8'\n",
      "엥\n"
     ]
    }
   ],
   "source": [
    "name = '엥'\n",
    "print(name)\n",
    "\n",
    "# 인코딩\n",
    "enc_name = name.encode('cp949')\n",
    "print(enc_name)\n",
    "\n",
    "# 디코딩\n",
    "dec_name = enc_name.decode('cp949')\n",
    "print(dec_name)\n"
   ]
  },
  {
   "cell_type": "code",
   "execution_count": 211,
   "id": "d9127caf-4ce1-4ad9-b4e0-ccdd6aa85dd2",
   "metadata": {},
   "outputs": [
    {
     "data": {
      "text/plain": [
       "'hellopython'"
      ]
     },
     "execution_count": 211,
     "metadata": {},
     "output_type": "execute_result"
    }
   ],
   "source": [
    "a = 'hello'\n",
    "b = 'python'\n",
    "a + b # +는 문자열끼리 연산"
   ]
  },
  {
   "cell_type": "code",
   "execution_count": 206,
   "id": "ac6b4b17-5866-4fac-a1ed-bbe9cd0525f8",
   "metadata": {},
   "outputs": [
    {
     "data": {
      "text/plain": [
       "'**********'"
      ]
     },
     "execution_count": 206,
     "metadata": {},
     "output_type": "execute_result"
    }
   ],
   "source": [
    "c = '*'\n",
    "c*10"
   ]
  },
  {
   "cell_type": "code",
   "execution_count": 208,
   "id": "ea7042e3-b92d-479a-9427-040d1fb69d92",
   "metadata": {},
   "outputs": [
    {
     "data": {
      "text/plain": [
       "\"Kim's family\""
      ]
     },
     "execution_count": 208,
     "metadata": {},
     "output_type": "execute_result"
    }
   ],
   "source": [
    "d = \"Kim's family\"\n",
    "d"
   ]
  },
  {
   "cell_type": "code",
   "execution_count": 210,
   "id": "4b10649e-eee2-44bb-a13a-dc4166d0e790",
   "metadata": {},
   "outputs": [
    {
     "data": {
      "text/plain": [
       "True"
      ]
     },
     "execution_count": 210,
     "metadata": {},
     "output_type": "execute_result"
    }
   ],
   "source": [
    "e = '1'\n",
    "e == '1' # 문자열 비교연산 가능"
   ]
  },
  {
   "cell_type": "markdown",
   "id": "86cc5cb0-2c62-49b1-ad95-f8659d013804",
   "metadata": {},
   "source": [
    "파이썬의 인덱스는 0부터 시작\n",
    "음수인덱스: 뒤에서부터 -1"
   ]
  },
  {
   "cell_type": "code",
   "execution_count": 215,
   "id": "670c1a29-fe26-449b-9fc6-2a0bafa38f71",
   "metadata": {},
   "outputs": [
    {
     "data": {
      "text/plain": [
       "'2'"
      ]
     },
     "execution_count": 215,
     "metadata": {},
     "output_type": "execute_result"
    }
   ],
   "source": [
    "# 문자열을 리스트, 열거형\n",
    "a = '20010331Rabcd' # 13개 글자의 목록\n",
    "a[0] # 숫자 자리수 > 인덱스"
   ]
  },
  {
   "cell_type": "code",
   "execution_count": 217,
   "id": "7c88522d-ae92-4866-8893-a2fe12d55e9c",
   "metadata": {},
   "outputs": [
    {
     "data": {
      "text/plain": [
       "'1'"
      ]
     },
     "execution_count": 217,
     "metadata": {},
     "output_type": "execute_result"
    }
   ],
   "source": [
    "a[3] #인덱싱"
   ]
  },
  {
   "cell_type": "code",
   "execution_count": 228,
   "id": "9963294e-a02e-4154-89be-724d046dc5d4",
   "metadata": {},
   "outputs": [
    {
     "data": {
      "text/plain": [
       "'2001'"
      ]
     },
     "execution_count": 228,
     "metadata": {},
     "output_type": "execute_result"
    }
   ],
   "source": [
    "a[0:4] # 영역을 이정할 때 : (콜론), 슬라이싱 slice\n",
    "a[:4]"
   ]
  },
  {
   "cell_type": "code",
   "execution_count": 227,
   "id": "34c5698f-17e2-4e46-9ef7-5164347fe063",
   "metadata": {},
   "outputs": [
    {
     "data": {
      "text/plain": [
       "'Rab'"
      ]
     },
     "execution_count": 227,
     "metadata": {},
     "output_type": "execute_result"
    }
   ],
   "source": [
    "# Rab a = '20010331Rabcd'\n",
    "a[8:11]"
   ]
  },
  {
   "cell_type": "code",
   "execution_count": 230,
   "id": "5c873042-651a-4613-8718-68e39e3f42e3",
   "metadata": {},
   "outputs": [
    {
     "data": {
      "text/plain": [
       "'abcd'"
      ]
     },
     "execution_count": 230,
     "metadata": {},
     "output_type": "execute_result"
    }
   ],
   "source": [
    "a[9:] # index = 0에서 시작한다."
   ]
  },
  {
   "cell_type": "code",
   "execution_count": 233,
   "id": "3e8ab7d7-dd81-4221-bb4c-cc02e546fe56",
   "metadata": {},
   "outputs": [
    {
     "data": {
      "text/plain": [
       "True"
      ]
     },
     "execution_count": 233,
     "metadata": {},
     "output_type": "execute_result"
    }
   ],
   "source": [
    "s = 'abc'\n",
    "a = s\n",
    "a is s"
   ]
  },
  {
   "cell_type": "code",
   "execution_count": 235,
   "id": "aedf3550-cf8a-4045-8fda-ab3e03770ff4",
   "metadata": {},
   "outputs": [
    {
     "data": {
      "text/plain": [
       "True"
      ]
     },
     "execution_count": 235,
     "metadata": {},
     "output_type": "execute_result"
    }
   ],
   "source": [
    "b = s[:]\n",
    "a is b"
   ]
  },
  {
   "cell_type": "code",
   "execution_count": 238,
   "id": "d5bb00f3-84fa-4228-bed5-7ce24b048a01",
   "metadata": {},
   "outputs": [
    {
     "data": {
      "text/plain": [
       "True"
      ]
     },
     "execution_count": 238,
     "metadata": {},
     "output_type": "execute_result"
    }
   ],
   "source": [
    "s1 = '1'*1000\n",
    "b = s1[:]\n",
    "s1 == b"
   ]
  },
  {
   "cell_type": "markdown",
   "id": "4e58e693-f510-4ba8-b975-32bce5c6634a",
   "metadata": {},
   "source": [
    "`'''docstring \\n\n",
    "start \\n\n",
    "end \\n\n",
    "'''\n",
    "`\n",
    "\"\"\" \"\"\"\n",
    "\n",
    "shift+tab 키 -> 함수의 문서"
   ]
  },
  {
   "cell_type": "code",
   "execution_count": 30,
   "id": "28e63b5a-0434-4bd8-bd69-389abab994c7",
   "metadata": {},
   "outputs": [
    {
     "name": "stdout",
     "output_type": "stream",
     "text": [
      "docstring #여러줄 문자열 쓸 때, 문서 작성할 때 사용\n",
      "start\n",
      "end\n",
      "\n"
     ]
    },
    {
     "data": {
      "text/plain": [
       "'docstring #여러줄 문자열 쓸 때, 문서 작성할 때 사용\\nstart\\nend\\n'"
      ]
     },
     "execution_count": 30,
     "metadata": {},
     "output_type": "execute_result"
    }
   ],
   "source": [
    "doc_string = '''docstring #여러줄 문자열 쓸 때, 문서 작성할 때 사용\n",
    "start\n",
    "end\n",
    "'''\n",
    "print(doc_string)\n",
    "doc_string"
   ]
  },
  {
   "cell_type": "code",
   "execution_count": 31,
   "id": "0a91341b-fa6c-4fae-9be8-da2553b1f9f8",
   "metadata": {},
   "outputs": [
    {
     "data": {
      "text/plain": [
       "str"
      ]
     },
     "execution_count": 31,
     "metadata": {},
     "output_type": "execute_result"
    }
   ],
   "source": [
    "type(text)"
   ]
  },
  {
   "cell_type": "markdown",
   "id": "c67b6b65-fc9c-42ca-b913-df9eb12cc743",
   "metadata": {},
   "source": [
    "# str의 함수\n",
    "dir()"
   ]
  },
  {
   "cell_type": "code",
   "execution_count": 33,
   "id": "781c36e7-3dfd-43f4-894d-3e730912ca7b",
   "metadata": {},
   "outputs": [
    {
     "data": {
      "text/plain": [
       "'파이썬'"
      ]
     },
     "execution_count": 33,
     "metadata": {},
     "output_type": "execute_result"
    }
   ],
   "source": [
    "text"
   ]
  },
  {
   "cell_type": "code",
   "execution_count": 63,
   "id": "e71b88f2-2cfc-431c-89ed-9fba391846d1",
   "metadata": {
    "collapsed": true,
    "jupyter": {
     "outputs_hidden": true
    },
    "scrolled": true
   },
   "outputs": [
    {
     "data": {
      "text/plain": [
       "['__add__',\n",
       " '__class__',\n",
       " '__contains__',\n",
       " '__delattr__',\n",
       " '__dir__',\n",
       " '__doc__',\n",
       " '__eq__',\n",
       " '__format__',\n",
       " '__ge__',\n",
       " '__getattribute__',\n",
       " '__getitem__',\n",
       " '__getnewargs__',\n",
       " '__getstate__',\n",
       " '__gt__',\n",
       " '__hash__',\n",
       " '__init__',\n",
       " '__init_subclass__',\n",
       " '__iter__',\n",
       " '__le__',\n",
       " '__len__',\n",
       " '__lt__',\n",
       " '__mod__',\n",
       " '__mul__',\n",
       " '__ne__',\n",
       " '__new__',\n",
       " '__reduce__',\n",
       " '__reduce_ex__',\n",
       " '__repr__',\n",
       " '__rmod__',\n",
       " '__rmul__',\n",
       " '__setattr__',\n",
       " '__sizeof__',\n",
       " '__str__',\n",
       " '__subclasshook__',\n",
       " 'capitalize',\n",
       " 'casefold',\n",
       " 'center',\n",
       " 'count',\n",
       " 'encode',\n",
       " 'endswith',\n",
       " 'expandtabs',\n",
       " 'find',\n",
       " 'format',\n",
       " 'format_map',\n",
       " 'index',\n",
       " 'isalnum',\n",
       " 'isalpha',\n",
       " 'isascii',\n",
       " 'isdecimal',\n",
       " 'isdigit',\n",
       " 'isidentifier',\n",
       " 'islower',\n",
       " 'isnumeric',\n",
       " 'isprintable',\n",
       " 'isspace',\n",
       " 'istitle',\n",
       " 'isupper',\n",
       " 'join',\n",
       " 'ljust',\n",
       " 'lower',\n",
       " 'lstrip',\n",
       " 'maketrans',\n",
       " 'partition',\n",
       " 'removeprefix',\n",
       " 'removesuffix',\n",
       " 'replace',\n",
       " 'rfind',\n",
       " 'rindex',\n",
       " 'rjust',\n",
       " 'rpartition',\n",
       " 'rsplit',\n",
       " 'rstrip',\n",
       " 'split',\n",
       " 'splitlines',\n",
       " 'startswith',\n",
       " 'strip',\n",
       " 'swapcase',\n",
       " 'title',\n",
       " 'translate',\n",
       " 'upper',\n",
       " 'zfill']"
      ]
     },
     "execution_count": 63,
     "metadata": {},
     "output_type": "execute_result"
    }
   ],
   "source": [
    "dir(text) # 적용할 수 있는 함수 보기 dir()"
   ]
  },
  {
   "cell_type": "code",
   "execution_count": 39,
   "id": "a3f9746e-17d5-484e-b813-953e7f37e5e0",
   "metadata": {},
   "outputs": [
    {
     "data": {
      "text/plain": [
       "'파이썬4'"
      ]
     },
     "execution_count": 39,
     "metadata": {},
     "output_type": "execute_result"
    }
   ],
   "source": [
    "text.__add__(\"4\")"
   ]
  },
  {
   "cell_type": "code",
   "execution_count": 41,
   "id": "8185ffc8-f279-4a95-9670-f5c68a5e36cd",
   "metadata": {},
   "outputs": [
    {
     "data": {
      "text/plain": [
       "'파이썬4'"
      ]
     },
     "execution_count": 41,
     "metadata": {},
     "output_type": "execute_result"
    }
   ],
   "source": [
    "text+\"4\""
   ]
  },
  {
   "cell_type": "code",
   "execution_count": 38,
   "id": "c0000f10-5350-433a-b4f5-26239f9ceb86",
   "metadata": {},
   "outputs": [
    {
     "data": {
      "text/plain": [
       "0"
      ]
     },
     "execution_count": 38,
     "metadata": {},
     "output_type": "execute_result"
    }
   ],
   "source": [
    "text.count('t')"
   ]
  },
  {
   "cell_type": "code",
   "execution_count": 65,
   "id": "5a6e6da4-e46a-4d36-944a-9beffa968b42",
   "metadata": {},
   "outputs": [
    {
     "data": {
      "text/plain": [
       "'파이썬파이썬파이썬파이썬'"
      ]
     },
     "execution_count": 65,
     "metadata": {},
     "output_type": "execute_result"
    }
   ],
   "source": [
    "text * 4"
   ]
  },
  {
   "cell_type": "code",
   "execution_count": 64,
   "id": "3593cecc-6373-4fde-8bb8-d68f43988b5d",
   "metadata": {},
   "outputs": [
    {
     "data": {
      "text/plain": [
       "'파이썬파이썬파이썬파이썬'"
      ]
     },
     "execution_count": 64,
     "metadata": {},
     "output_type": "execute_result"
    }
   ],
   "source": [
    "text.__mul__(4)"
   ]
  },
  {
   "cell_type": "code",
   "execution_count": 67,
   "id": "caf06db4-b48f-42eb-941f-20a0e2ffc125",
   "metadata": {},
   "outputs": [
    {
     "data": {
      "text/plain": [
       "'================================================================================'"
      ]
     },
     "execution_count": 67,
     "metadata": {},
     "output_type": "execute_result"
    }
   ],
   "source": [
    "'*' * 100\n",
    "'=' * 80"
   ]
  },
  {
   "cell_type": "code",
   "execution_count": 56,
   "id": "2d68a675-6fb5-41a2-83cb-e6c3bcaf1c87",
   "metadata": {},
   "outputs": [
    {
     "data": {
      "text/plain": [
       "'파이썬'"
      ]
     },
     "execution_count": 56,
     "metadata": {},
     "output_type": "execute_result"
    }
   ],
   "source": [
    "text.title()"
   ]
  },
  {
   "cell_type": "markdown",
   "id": "781ef89c-8b62-4cfb-9c9b-2a0c1db97e1c",
   "metadata": {},
   "source": [
    "excape 문자\n",
    "\n",
    "\\ '역슬래시'\n",
    "\n"
   ]
  },
  {
   "cell_type": "code",
   "execution_count": 62,
   "id": "2100098e-a64d-4275-8bf0-42170a86eb4a",
   "metadata": {},
   "outputs": [
    {
     "name": "stdout",
     "output_type": "stream",
     "text": [
      "hello\n",
      "world's\n",
      "hello\n",
      "wolfd's\n"
     ]
    }
   ],
   "source": [
    "print(\"hello\\nworld's\")\n",
    "print('hello\\nwolfd\\'s') # excape 문자는 특수문자를 그냥 텍스트로 인식하게 한다."
   ]
  },
  {
   "cell_type": "markdown",
   "id": "631db9d1-6f9b-43cb-8a79-97aa35af020b",
   "metadata": {},
   "source": [
    "raw-string: 모두다 문자열이다 r'str?\\'\n",
    "f-string: 형식코드가 내포된 문자열 f'str{text}'"
   ]
  },
  {
   "cell_type": "code",
   "execution_count": 71,
   "id": "88c47789-c502-4939-87e7-26c1a65fa743",
   "metadata": {},
   "outputs": [
    {
     "data": {
      "text/plain": [
       "'12\\\\4'"
      ]
     },
     "execution_count": 71,
     "metadata": {},
     "output_type": "execute_result"
    }
   ],
   "source": [
    "str_1 = '12\\\\4' # '12\\4' = '12\\x04'  \\는 excape 문자  >  무시하는 문자 r-string\n",
    "str_1"
   ]
  },
  {
   "cell_type": "code",
   "execution_count": 72,
   "id": "a098f14d-2c04-4a07-b375-2b4106a33771",
   "metadata": {},
   "outputs": [
    {
     "data": {
      "text/plain": [
       "'12\\\\4'"
      ]
     },
     "execution_count": 72,
     "metadata": {},
     "output_type": "execute_result"
    }
   ],
   "source": [
    "raw_str = r'12\\4'\n",
    "raw_str"
   ]
  },
  {
   "cell_type": "code",
   "execution_count": 79,
   "id": "651eaf51-a2db-4d64-bfac-b89cb144fba3",
   "metadata": {},
   "outputs": [
    {
     "name": "stdout",
     "output_type": "stream",
     "text": [
      "Hello\\nWorld\n"
     ]
    }
   ],
   "source": [
    "raw_str_1 = r'Hello\\nWorld'\n",
    "print(raw_str_1)"
   ]
  },
  {
   "cell_type": "markdown",
   "id": "35edb18e-ec4a-4ff7-aeb5-3311105d103c",
   "metadata": {},
   "source": [
    "f' {수식} 문자열이에요  {변수} '"
   ]
  },
  {
   "cell_type": "code",
   "execution_count": 87,
   "id": "026a9eee-f3fe-4b02-a0e2-80d5f81d9a1b",
   "metadata": {},
   "outputs": [
    {
     "name": "stdout",
     "output_type": "stream",
     "text": [
      "제 이름은  ylee 내 나이는  25\n"
     ]
    }
   ],
   "source": [
    "name = 'ylee'\n",
    "age = 25\n",
    "\n",
    "print( '제 이름은 ', name, '내 나이는 ' , age)\n"
   ]
  },
  {
   "cell_type": "code",
   "execution_count": 89,
   "id": "0532dbfb-9479-4c81-b2ba-211643148e4a",
   "metadata": {},
   "outputs": [
    {
     "name": "stdout",
     "output_type": "stream",
     "text": [
      "제 이름은 ylee 내 나이는 25 입니다. \n"
     ]
    }
   ],
   "source": [
    "f_str_1 = f'제 이름은 {name} 내 나이는 {age} 입니다. '\n",
    "print(f_str_1)"
   ]
  },
  {
   "cell_type": "code",
   "execution_count": 95,
   "id": "d0c4c2c3-fb0a-44bb-90c4-f06f9e7fb4a1",
   "metadata": {},
   "outputs": [
    {
     "name": "stdin",
     "output_type": "stream",
     "text": [
      "이름:  이은영\n",
      "나이:  25\n"
     ]
    },
    {
     "name": "stdout",
     "output_type": "stream",
     "text": [
      "제 이름은 이은영, 내 나이는 25살 입니다. \n"
     ]
    }
   ],
   "source": [
    "# 이름과 자기소개를 입력받아서 출력하는 프로그램 작성\n",
    "name = input(\"이름: \")\n",
    "age = input(\"나이: \")\n",
    "\n",
    "\n",
    "f_str_2 = f'제 이름은 {name}, 내 나이는 {age}살 입니다. '\n",
    "print(f_str_2)"
   ]
  },
  {
   "cell_type": "markdown",
   "id": "7801f78a-f4bd-4e96-8783-b2075aeaa2bb",
   "metadata": {},
   "source": [
    "문자열.format()\n",
    "문자열에 위치 인덱스를 사용해 포맷한 값을 지정할 수 있다."
   ]
  },
  {
   "cell_type": "code",
   "execution_count": 101,
   "id": "14ff4a8a-7d57-4807-9164-166b34fa5554",
   "metadata": {},
   "outputs": [
    {
     "data": {
      "text/plain": [
       "' 99.9900 dollars are worth US$ 100 '"
      ]
     },
     "execution_count": 101,
     "metadata": {},
     "output_type": "execute_result"
    }
   ],
   "source": [
    "# dir(f_str_1)\n",
    "format_str = ' {0:.4f} {1:s} are worth US$ {2:d} '  # template\n",
    "format_str.format(99.99, 'dollars', 100)"
   ]
  },
  {
   "cell_type": "code",
   "execution_count": 108,
   "id": "764afa10-0074-4020-b6da-d88d6d35242f",
   "metadata": {},
   "outputs": [
    {
     "name": "stdin",
     "output_type": "stream",
     "text": [
      "주문할 메뉴를 입력하세요  밥\n",
      "한 개 가격이 얼마인가요?  3000\n",
      "몇 개나 주문하세요?  3\n"
     ]
    },
    {
     "name": "stdout",
     "output_type": "stream",
     "text": [
      "밥 메뉴의 3개 가격은 총 9,000원 입니다.\n"
     ]
    }
   ],
   "source": [
    "menu = input('주문할 메뉴를 입력하세요 ')\n",
    "price = int(input('한 개 가격이 얼마인가요? '))\n",
    "count = int(input('몇 개나 주문하세요? '))\n",
    "\n",
    "total = price*count\n",
    "msg = '{} 메뉴의 {}개 가격은 총 {:,}원 입니다.'\n",
    "print(msg.format(menu, count, total))"
   ]
  },
  {
   "attachments": {
    "cc876dc8-dadc-49aa-8e73-67ff00225c44.png": {
     "image/png": "[encoded data removed]"
    }
   },
   "cell_type": "markdown",
   "id": "c5098401-0a66-4dc2-8d30-d757abfb04fc",
   "metadata": {},
   "source": [
    "![image.png](attachment:cc876dc8-dadc-49aa-8e73-67ff00225c44.png)"
   ]
  },
  {
   "cell_type": "code",
   "execution_count": 169,
   "id": "8bcc10e1-bcb3-4eea-9cf7-0973367bb0d1",
   "metadata": {},
   "outputs": [
    {
     "name": "stdout",
     "output_type": "stream",
     "text": [
      "상품명       가격        수량        총액        \n",
      "--------------------------------------------------\n",
      "아메리카노          3,000원         2개     6,000원\n",
      "카페라떼           4,000원         1개     4,000원\n",
      "샌드위치           5,500원         3개    16,500원\n"
     ]
    }
   ],
   "source": [
    "items = [\n",
    "    {\"name\": \"아메리카노\", \"price\": 3000, \"qty\": 2},\n",
    "    {\"name\": \"카페라떼\", \"price\": 4000, \"qty\": 1},\n",
    "    {\"name\": \"샌드위치\", \"price\": 5500, \"qty\": 3}\n",
    "]\n",
    "\n",
    "header_str = '{0:10}{1:10}{2:10}{3:10}' # {인덱스자리:데이터길이}\n",
    "print(header_str.format('상품명', '가격', '수량', '총액'))\n",
    "print('-'*50)\n",
    "\n",
    "data_str = '{0:10}{1:10,}원{2:10}개{3:10,}원'\n",
    "for item in items:\n",
    "    item_name = item['name']\n",
    "    item_price = item['price']\n",
    "    item_qty = item['qty']\n",
    "    total_price = item_price * item_qty\n",
    "    print(data_str.format(item_name, item_price, item_qty, total_price))\n"
   ]
  },
  {
   "cell_type": "markdown",
   "id": "21b18f1d-adb2-408f-981a-acce4de4fa50",
   "metadata": {},
   "source": [
    "| 함수                  | 설명                  | 예시                                        |\n",
    "| ------------------- | ------------------- | ----------------------------------------- |\n",
    "| `lower()`           | 모두 소문자로 변환          | `\"Python\".lower()` → `\"python\"`           |\n",
    "| `upper()`           | 모두 대문자로 변환          | `\"python\".upper()` → `\"PYTHON\"`           |\n",
    "| `capitalize()`      | 첫 글자만 대문자           | `\"hello\".capitalize()` → `\"Hello\"`        |\n",
    "| `title()`           | 각 단어의 첫 글자 대문자      | `\"hello world\".title()` → `\"Hello World\"` |\n",
    "| `strip()`           | 앞뒤 공백 제거            | `\" hello \".strip()` → `\"hello\"`           |\n",
    "| `lstrip()`          | 왼쪽 공백 제거            | `\" hello\".lstrip()`                       |\n",
    "| `rstrip()`          | 오른쪽 공백 제거           | `\"hello \".rstrip()`                       |\n",
    "| `replace(old, new)` | 문자열 바꾸기             | `\"hello\".replace(\"l\", \"x\")` → `\"hexxo\"`   |\n",
    "| `split()`           | 문자열 나누기 (기본: 공백)    | `\"a b c\".split()` → `['a', 'b', 'c']`     |\n",
    "| `join(list)`        | 리스트를 문자열로 결합        | `\" \".join(['a', 'b'])` → `\"a b\"`          |\n",
    "| `find(sub)`         | 처음 등장하는 위치 (없으면 -1) | `\"apple\".find(\"p\")` → `1`                 |\n",
    "| `index(sub)`        | 처음 등장하는 위치 (없으면 오류) | `\"apple\".index(\"p\")` → `1`                |\n",
    "| `count(sub)`        | 부분 문자열 개수           | `\"banana\".count(\"a\")` → `3`               |\n",
    "| `startswith(sub)`   | 해당 문자열로 시작?         | `\"python\".startswith(\"py\")` → `True`      |\n",
    "| `endswith(sub)`     | 해당 문자열로 끝남?         | `\"python\".endswith(\"on\")` → `True`        |\n",
    "| `isalnum()`         | 영문자+숫자인가?           | `\"abc123\".isalnum()` → `True`             |\n",
    "| `isalpha()`         | 영문자만인가?             | `\"abc\".isalpha()` → `True`                |\n",
    "| `isdigit()`         | 숫자만인가?              | `\"123\".isdigit()` → `True`                |\n",
    "| `isspace()`         | 공백문자만 있는가?          | `\" \\t\\n\".isspace()` → `True`              |"
   ]
  },
  {
   "cell_type": "code",
   "execution_count": 152,
   "id": "fab168ff-5857-4817-957e-60e5d51f27ed",
   "metadata": {},
   "outputs": [
    {
     "data": {
      "text/plain": [
       "'python.'"
      ]
     },
     "execution_count": 152,
     "metadata": {},
     "output_type": "execute_result"
    }
   ],
   "source": [
    "\"Python.\".lower()"
   ]
  },
  {
   "cell_type": "code",
   "execution_count": 154,
   "id": "9d42336c-1cc4-4541-839f-6dadce8ed90b",
   "metadata": {},
   "outputs": [
    {
     "data": {
      "text/plain": [
       "'python.upper()'"
      ]
     },
     "execution_count": 154,
     "metadata": {},
     "output_type": "execute_result"
    }
   ],
   "source": [
    "\"python.upper()\""
   ]
  },
  {
   "cell_type": "code",
   "execution_count": 155,
   "id": "697680df-6c16-433d-9ee6-6f56cc989b37",
   "metadata": {},
   "outputs": [
    {
     "data": {
      "text/plain": [
       "'Hello'"
      ]
     },
     "execution_count": 155,
     "metadata": {},
     "output_type": "execute_result"
    }
   ],
   "source": [
    "\"hello\".capitalize()"
   ]
  },
  {
   "cell_type": "code",
   "execution_count": 156,
   "id": "10805948-1aac-4de6-84c9-c660ce1523ad",
   "metadata": {},
   "outputs": [
    {
     "data": {
      "text/plain": [
       "'Hello World'"
      ]
     },
     "execution_count": 156,
     "metadata": {},
     "output_type": "execute_result"
    }
   ],
   "source": [
    "\"hello world\".title()"
   ]
  },
  {
   "cell_type": "code",
   "execution_count": 157,
   "id": "21ca64cd-c12e-4b7c-bb9b-6054d49d9df5",
   "metadata": {},
   "outputs": [
    {
     "data": {
      "text/plain": [
       "'hello'"
      ]
     },
     "execution_count": 157,
     "metadata": {},
     "output_type": "execute_result"
    }
   ],
   "source": [
    "\" hello \".strip()"
   ]
  },
  {
   "cell_type": "code",
   "execution_count": 160,
   "id": "dd695798-fd29-4b79-a219-cb57b4f1d7d2",
   "metadata": {},
   "outputs": [
    {
     "data": {
      "text/plain": [
       "'hello'"
      ]
     },
     "execution_count": 160,
     "metadata": {},
     "output_type": "execute_result"
    }
   ],
   "source": [
    "\" hello\".lstrip()"
   ]
  },
  {
   "cell_type": "code",
   "execution_count": 161,
   "id": "77fd0f6d-2e15-4c6d-9b2a-f111d1d7fc81",
   "metadata": {},
   "outputs": [
    {
     "data": {
      "text/plain": [
       "'hello'"
      ]
     },
     "execution_count": 161,
     "metadata": {},
     "output_type": "execute_result"
    }
   ],
   "source": [
    "\"hello \".rstrip()"
   ]
  },
  {
   "cell_type": "code",
   "execution_count": 162,
   "id": "dbaa2e7f-9a87-4bb9-b9cf-fd5cddf7ec7d",
   "metadata": {},
   "outputs": [
    {
     "data": {
      "text/plain": [
       "'hexxo'"
      ]
     },
     "execution_count": 162,
     "metadata": {},
     "output_type": "execute_result"
    }
   ],
   "source": [
    "\"hello\".replace(\"l\",\"x\")"
   ]
  },
  {
   "cell_type": "code",
   "execution_count": 163,
   "id": "f3448f8c-e715-4b4e-83e8-c4860ca7eb00",
   "metadata": {},
   "outputs": [
    {
     "data": {
      "text/plain": [
       "['a', 'b', 'c']"
      ]
     },
     "execution_count": 163,
     "metadata": {},
     "output_type": "execute_result"
    }
   ],
   "source": [
    "\"a b c\".split()"
   ]
  },
  {
   "cell_type": "code",
   "execution_count": 170,
   "id": "cd015e89-eeb0-4f42-8a47-31015359fad7",
   "metadata": {},
   "outputs": [
    {
     "data": {
      "text/plain": [
       "'a b'"
      ]
     },
     "execution_count": 170,
     "metadata": {},
     "output_type": "execute_result"
    }
   ],
   "source": [
    "\" \".join(['a','b'])"
   ]
  },
  {
   "cell_type": "code",
   "execution_count": 173,
   "id": "eff471fd-da79-4293-a892-5dd2e416fb7d",
   "metadata": {},
   "outputs": [
    {
     "data": {
      "text/plain": [
       "-1"
      ]
     },
     "execution_count": 173,
     "metadata": {},
     "output_type": "execute_result"
    }
   ],
   "source": [
    "\"apple\".find(\"b\")"
   ]
  },
  {
   "cell_type": "code",
   "execution_count": 174,
   "id": "a1eca8bb-5832-40f8-aa49-6e5e761100f9",
   "metadata": {},
   "outputs": [
    {
     "ename": "ValueError",
     "evalue": "substring not found",
     "output_type": "error",
     "traceback": [
      "\u001b[31m---------------------------------------------------------------------------\u001b[39m",
      "\u001b[31mValueError\u001b[39m                                Traceback (most recent call last)",
      "\u001b[36mCell\u001b[39m\u001b[36m \u001b[39m\u001b[32mIn[174]\u001b[39m\u001b[32m, line 1\u001b[39m\n\u001b[32m----> \u001b[39m\u001b[32m1\u001b[39m \u001b[33m\"\u001b[39m\u001b[33mapple\u001b[39m\u001b[33m\"\u001b[39m.index(\u001b[33m\"\u001b[39m\u001b[33mb\u001b[39m\u001b[33m\"\u001b[39m)\n",
      "\u001b[31mValueError\u001b[39m: substring not found"
     ]
    }
   ],
   "source": [
    "\"apple\".index(\"b\")"
   ]
  },
  {
   "cell_type": "code",
   "execution_count": 175,
   "id": "233ce2ea-56fe-4098-a16b-5a8acfa0112f",
   "metadata": {},
   "outputs": [
    {
     "data": {
      "text/plain": [
       "3"
      ]
     },
     "execution_count": 175,
     "metadata": {},
     "output_type": "execute_result"
    }
   ],
   "source": [
    "\"banana\".count(\"a\")"
   ]
  },
  {
   "cell_type": "code",
   "execution_count": 176,
   "id": "4b0d2653-298b-43e4-b615-8a8e59defd29",
   "metadata": {},
   "outputs": [
    {
     "data": {
      "text/plain": [
       "True"
      ]
     },
     "execution_count": 176,
     "metadata": {},
     "output_type": "execute_result"
    }
   ],
   "source": [
    "\"python\".startswith(\"py\")"
   ]
  },
  {
   "cell_type": "code",
   "execution_count": 178,
   "id": "b5131de0-f4d2-40d5-8f13-499655a796cb",
   "metadata": {},
   "outputs": [
    {
     "data": {
      "text/plain": [
       "True"
      ]
     },
     "execution_count": 178,
     "metadata": {},
     "output_type": "execute_result"
    }
   ],
   "source": [
    "\"python\".endswith(\"on\")"
   ]
  },
  {
   "cell_type": "code",
   "execution_count": 179,
   "id": "55f59cdb-8090-4d31-a1fa-3ac8b13a9ada",
   "metadata": {},
   "outputs": [
    {
     "data": {
      "text/plain": [
       "True"
      ]
     },
     "execution_count": 179,
     "metadata": {},
     "output_type": "execute_result"
    }
   ],
   "source": [
    "\"123abc\".isalnum()"
   ]
  },
  {
   "cell_type": "code",
   "execution_count": 181,
   "id": "ec1a8f4c-01fc-4ad5-a211-db18ae3150a0",
   "metadata": {},
   "outputs": [
    {
     "data": {
      "text/plain": [
       "True"
      ]
     },
     "execution_count": 181,
     "metadata": {},
     "output_type": "execute_result"
    }
   ],
   "source": [
    "\"abc\".isalpha()"
   ]
  },
  {
   "cell_type": "code",
   "execution_count": 183,
   "id": "54433c50-aa44-4f77-8b08-e747ed82f26a",
   "metadata": {},
   "outputs": [
    {
     "data": {
      "text/plain": [
       "True"
      ]
     },
     "execution_count": 183,
     "metadata": {},
     "output_type": "execute_result"
    }
   ],
   "source": [
    "\"123\".isdigit()"
   ]
  },
  {
   "cell_type": "code",
   "execution_count": 184,
   "id": "24c7d0bd-4c83-4906-b8f4-9c46c7caa536",
   "metadata": {},
   "outputs": [
    {
     "data": {
      "text/plain": [
       "True"
      ]
     },
     "execution_count": 184,
     "metadata": {},
     "output_type": "execute_result"
    }
   ],
   "source": [
    "\"\\t\\n\".isspace()"
   ]
  },
  {
   "cell_type": "markdown",
   "id": "1649ff38-16ca-417f-bd06-1b869de92de6",
   "metadata": {},
   "source": [
    "TypeError, ValueError"
   ]
  },
  {
   "cell_type": "code",
   "execution_count": 82,
   "id": "af352b9e-dd40-4b35-a4ce-adcb64b43d84",
   "metadata": {},
   "outputs": [
    {
     "data": {
      "text/plain": [
       "5"
      ]
     },
     "execution_count": 82,
     "metadata": {},
     "output_type": "execute_result"
    }
   ],
   "source": [
    "b = 2\n",
    "c = '3'\n",
    "# b+c #typeerror\n",
    "b + int(c)"
   ]
  },
  {
   "cell_type": "code",
   "execution_count": 86,
   "id": "140362a0-aac8-482c-b664-4348a55878a3",
   "metadata": {},
   "outputs": [
    {
     "data": {
      "text/plain": [
       "5"
      ]
     },
     "execution_count": 86,
     "metadata": {},
     "output_type": "execute_result"
    }
   ],
   "source": [
    "c = '3a'\n",
    "# b + int (c) # ValueError\n",
    "b+int(c[:1])"
   ]
  },
  {
   "cell_type": "code",
   "execution_count": 85,
   "id": "e2ac4fc2-84c5-4158-a197-887f304694d4",
   "metadata": {},
   "outputs": [
    {
     "data": {
      "text/plain": [
       "5"
      ]
     },
     "execution_count": 85,
     "metadata": {},
     "output_type": "execute_result"
    }
   ],
   "source": []
  },
  {
   "cell_type": "code",
   "execution_count": null,
   "id": "6df5f0e5-b570-4abc-af50-d33830fa2a98",
   "metadata": {},
   "outputs": [],
   "source": []
  },
  {
   "cell_type": "code",
   "execution_count": null,
   "id": "69b25c4e-2d52-415b-9846-e9b8ad345f3b",
   "metadata": {},
   "outputs": [],
   "source": []
  },
  {
   "cell_type": "code",
   "execution_count": null,
   "id": "84d05c6d-abc5-4fc9-b721-f70ced3bb477",
   "metadata": {},
   "outputs": [],
   "source": []
  },
  {
   "cell_type": "code",
   "execution_count": null,
   "id": "1fa7b25c-8c7f-40bb-8ad1-ea89f1f6736a",
   "metadata": {},
   "outputs": [],
   "source": []
  },
  {
   "cell_type": "code",
   "execution_count": null,
   "id": "84263248-847f-4fd2-99ed-85c64f78336a",
   "metadata": {},
   "outputs": [],
   "source": []
  },
  {
   "cell_type": "code",
   "execution_count": null,
   "id": "777b0ccd-0fc9-44a1-b67f-54ae751a13ed",
   "metadata": {},
   "outputs": [],
   "source": []
  },
  {
   "cell_type": "code",
   "execution_count": null,
   "id": "53c44e4e-8a95-4543-93f4-2f10b9d1e96c",
   "metadata": {},
   "outputs": [],
   "source": []
  },
  {
   "cell_type": "code",
   "execution_count": null,
   "id": "7e76dc1b-fb46-4afb-9e83-fb30313dcd28",
   "metadata": {},
   "outputs": [],
   "source": []
  },
  {
   "cell_type": "code",
   "execution_count": null,
   "id": "197b97c9-6844-43bd-b7ca-85f3cf2dfe5c",
   "metadata": {},
   "outputs": [],
   "source": []
  },
  {
   "cell_type": "code",
   "execution_count": null,
   "id": "9e30f228-90a9-481d-bc7a-c66427d290a9",
   "metadata": {},
   "outputs": [],
   "source": []
  },
  {
   "cell_type": "code",
   "execution_count": null,
   "id": "c5605248-705b-4e3d-8a87-2ac55531ba80",
   "metadata": {},
   "outputs": [],
   "source": []
  }
 ],
 "metadata": {
  "kernelspec": {
   "display_name": "Python 3 (ipykernel)",
   "language": "python",
   "name": "python3"
  },
  "language_info": {
   "codemirror_mode": {
    "name": "ipython",
    "version": 3
   },
   "file_extension": ".py",
   "mimetype": "text/x-python",
   "name": "python",
   "nbconvert_exporter": "python",
   "pygments_lexer": "ipython3",
   "version": "3.12.9"
  }
 },
 "nbformat": 4,
 "nbformat_minor": 5
}
