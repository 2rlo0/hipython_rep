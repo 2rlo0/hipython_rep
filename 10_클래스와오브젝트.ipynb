{
 "cells": [
  {
   "cell_type": "markdown",
   "id": "ce1b42ba-d0d3-492b-be52-b12d866dae69",
   "metadata": {},
   "source": [
    "# 파이썬으로 객체지향프로그래밍 OOP\n",
    "\n",
    "Object Oriented Programming\n",
    "\n",
    "파이썬으로 만드는 응용프로그램\n",
    "\n",
    "- 변수: 전역, 지역\n",
    "- 함수: 기능을 구현하는 도구\n",
    "- 모듈: 함수의 모음, 변수의 모음 > .py\n",
    "- CRUD의 구현: Create, Read, Update, Delete\n",
    "\n",
    "클래스: 변수 + 함수를 하나로 묶어 주는 구조 개념\n",
    "객체: 클래스를 이용해서 다수의 객체를 생성\n",
    "\n",
    "객체지향 프로그램: 객체를 이용하는 프로그램"
   ]
  },
  {
   "cell_type": "markdown",
   "id": "489a0b3b-0603-4fae-af31-12a7eec969f9",
   "metadata": {},
   "source": [
    "## 객체지향 프로그램을 만드는 법\n",
    "\n",
    "1. 클래스를 만들기\n",
    "2. 클래스를 이용해 객체를 생성\n",
    "3. 객체의 함수 : 메소드를 호출"
   ]
  },
  {
   "cell_type": "code",
   "execution_count": 42,
   "id": "663fa2c5-5f98-4e58-b871-21f84ec69f2b",
   "metadata": {},
   "outputs": [],
   "source": [
    "class Bicycle():\n",
    "    # 속성추가: 생성자\n",
    "    def __init__(self, color, wheelsize=30):\n",
    "        self.color = color\n",
    "        self.wheelsize = wheelsize\n",
    "\n",
    "    # 오버로딩\n",
    "    # def __init__(self, color):\n",
    "    #     self.color = color\n",
    "        \n",
    "    def move(self):\n",
    "        print(f'{self.color} {self.wheelsize} 자전거가 움직입니다.')\n",
    "        "
   ]
  },
  {
   "cell_type": "code",
   "execution_count": 43,
   "id": "d3d72f10-3d65-43f1-9529-6d46b60fedc3",
   "metadata": {},
   "outputs": [
    {
     "data": {
      "text/plain": [
       "<__main__.Bicycle at 0x2cb535ae060>"
      ]
     },
     "execution_count": 43,
     "metadata": {},
     "output_type": "execute_result"
    }
   ],
   "source": [
    "bi = Bicycle('white',20) # 객체 생성\n",
    "bi1 = Bicycle('red',10)\n",
    "bi2 = Bicycle('blue')\n",
    "bi"
   ]
  },
  {
   "cell_type": "code",
   "execution_count": 44,
   "id": "fe2d6c4e-3779-4c39-a65a-b2cac52f6404",
   "metadata": {},
   "outputs": [
    {
     "name": "stdout",
     "output_type": "stream",
     "text": [
      "white 20 자전거가 움직입니다.\n",
      "red 10 자전거가 움직입니다.\n",
      "blue 30 자전거가 움직입니다.\n"
     ]
    }
   ],
   "source": [
    "bi.move()\n",
    "bi1.move()\n",
    "bi2.move()"
   ]
  },
  {
   "cell_type": "code",
   "execution_count": 22,
   "id": "1b26adfe-fbe1-4348-8db4-ee6f9e040102",
   "metadata": {},
   "outputs": [
    {
     "data": {
      "text/plain": [
       "(__main__.Bicycle, __main__.Bicycle, __main__.Bicycle)"
      ]
     },
     "execution_count": 22,
     "metadata": {},
     "output_type": "execute_result"
    }
   ],
   "source": [
    "type(bi), type(bi1), type(bi2)"
   ]
  },
  {
   "cell_type": "code",
   "execution_count": 23,
   "id": "d9c2a342-c417-436f-ae17-8d83c917815f",
   "metadata": {},
   "outputs": [
    {
     "data": {
      "text/plain": [
       "['__class__',\n",
       " '__delattr__',\n",
       " '__dict__',\n",
       " '__dir__',\n",
       " '__doc__',\n",
       " '__eq__',\n",
       " '__format__',\n",
       " '__ge__',\n",
       " '__getattribute__',\n",
       " '__getstate__',\n",
       " '__gt__',\n",
       " '__hash__',\n",
       " '__init__',\n",
       " '__init_subclass__',\n",
       " '__le__',\n",
       " '__lt__',\n",
       " '__module__',\n",
       " '__ne__',\n",
       " '__new__',\n",
       " '__reduce__',\n",
       " '__reduce_ex__',\n",
       " '__repr__',\n",
       " '__setattr__',\n",
       " '__sizeof__',\n",
       " '__str__',\n",
       " '__subclasshook__',\n",
       " '__weakref__',\n",
       " 'color',\n",
       " 'move',\n",
       " 'wheelsize']"
      ]
     },
     "execution_count": 23,
     "metadata": {},
     "output_type": "execute_result"
    }
   ],
   "source": [
    "dir(bi)"
   ]
  },
  {
   "cell_type": "code",
   "execution_count": 24,
   "id": "57f4f323-3126-4328-a503-96583105f238",
   "metadata": {},
   "outputs": [],
   "source": [
    "class Student:\n",
    "    def __init__(self, name, age):\n",
    "        self.name = name\n",
    "        self.age = age\n",
    "\n",
    "    def introduce(self):\n",
    "        print(f\"안녕하세요. 제 이름은 {self.name}이고, 나이는 {self.age}살입니다.\")\n"
   ]
  },
  {
   "cell_type": "code",
   "execution_count": 31,
   "id": "fbcc62e0-788e-4a33-810a-97d1192c4c3f",
   "metadata": {},
   "outputs": [
    {
     "name": "stdout",
     "output_type": "stream",
     "text": [
      "안녕하세요. 제 이름은 이은영이고, 나이는 20살입니다.\n"
     ]
    }
   ],
   "source": [
    "stu1 = Student(\"이은영\", 20)\n",
    "stu1.introduce()"
   ]
  },
  {
   "cell_type": "markdown",
   "id": "0b03eef8-27fe-4bbd-a06a-ac106b26b033",
   "metadata": {},
   "source": [
    "# 클래스의 속성\n",
    "\n",
    "1. 인스턴스 변수\n",
    "2. 클래스 변수"
   ]
  },
  {
   "cell_type": "code",
   "execution_count": 50,
   "id": "2577b08e-5815-44b1-9529-19b65a37756d",
   "metadata": {},
   "outputs": [],
   "source": [
    "class Car():\n",
    "    # 클래스 변수\n",
    "    instance_cnt = 0 \n",
    "\n",
    "    def __init__(self, size):\n",
    "        self.size = size\n",
    "        Car.instance_cnt += 1\n",
    "        print(f'자동차가 {Car.instance_cnt}대 생성되었습니다.')\n",
    "\n",
    "    def move(self):\n",
    "        print(f'{self.size}의 자동차가 움직입니다.')"
   ]
  },
  {
   "cell_type": "code",
   "execution_count": 51,
   "id": "10241c95-80e5-4c92-ad61-e633aa103c4a",
   "metadata": {},
   "outputs": [
    {
     "name": "stdout",
     "output_type": "stream",
     "text": [
      "자동차가 1대 생성되었습니다.\n",
      "자동차가 2대 생성되었습니다.\n",
      "자동차가 3대 생성되었습니다.\n"
     ]
    }
   ],
   "source": [
    "car1 = Car(2000)\n",
    "car2 = Car(3000)\n",
    "car3 = Car(1500)"
   ]
  },
  {
   "cell_type": "code",
   "execution_count": 52,
   "id": "7efc0637-815f-4246-b8ec-c84ac7a83ffd",
   "metadata": {},
   "outputs": [
    {
     "name": "stdout",
     "output_type": "stream",
     "text": [
      "2000의 자동차가 움직입니다.\n",
      "3000의 자동차가 움직입니다.\n",
      "1500의 자동차가 움직입니다.\n"
     ]
    }
   ],
   "source": [
    "car1.move()\n",
    "car2.move()\n",
    "car3.move()"
   ]
  },
  {
   "cell_type": "markdown",
   "id": "a20b3ee5-ca0a-4e85-aed6-782eb8b6b53c",
   "metadata": {},
   "source": [
    "# method\n",
    "\n",
    "1. 인스턴스 메소드 : self\n",
    "2. 스태틱(정적) 메소드 : @staticmethod\n",
    "3. 클래스 메소드 : @classmethod"
   ]
  },
  {
   "cell_type": "code",
   "execution_count": 53,
   "id": "4a701076-075a-4b3a-91a2-39d57c1fb23c",
   "metadata": {},
   "outputs": [],
   "source": [
    "class Calculator:\n",
    "    def __init__(self, x, y): # instance method\n",
    "        self.x = x\n",
    "        self.y = y\n",
    "\n",
    "    def add(self): # instance method\n",
    "        return self.x + self.y\n",
    "\n",
    "    def multiply(self): # instance method\n",
    "        return self.x * self.y\n"
   ]
  },
  {
   "cell_type": "code",
   "execution_count": 58,
   "id": "091f3745-9cb9-4090-a18e-6c355da8c925",
   "metadata": {},
   "outputs": [
    {
     "data": {
      "text/plain": [
       "12"
      ]
     },
     "execution_count": 58,
     "metadata": {},
     "output_type": "execute_result"
    }
   ],
   "source": [
    "calc = Calculator(3,4) # __init__() 생성자 함수를 자동을 호출\n",
    "calc.add() # instance method의 호출 > 객체의 참조.메소드()\n",
    "calc.multiply()"
   ]
  },
  {
   "cell_type": "code",
   "execution_count": 95,
   "id": "957337e7-dc25-4017-948f-a4ad0220ba8a",
   "metadata": {},
   "outputs": [],
   "source": [
    "class Car():\n",
    "    instance_cnt = 0 # 클래스 속성\n",
    "\n",
    "    def __init__(self, size):\n",
    "        self.size = size\n",
    "        Car.instance_cnt += 1\n",
    "        print(f'자동차가 {Car.instance_cnt}대 생성되었습니다.')\n",
    "\n",
    "    def move(self):\n",
    "        print(f'{self.size}의 자동차가 움직입니다.')\n",
    "\n",
    "        \n",
    "    def auto_cruise(self): # instance\n",
    "        print('자율주행중')\n",
    "\n",
    "    @staticmethod\n",
    "    def check_type(code): # static\n",
    "        if code > 20:\n",
    "            print('전기자동차')\n",
    "        elif 10 < code < 20:\n",
    "            print('가솔린자동차')\n",
    "        else: \n",
    "            print('디젤차')\n",
    "\n",
    "    @classmethod\n",
    "    def count_instance(cls): # class method\n",
    "        print(f'자동차 대수: {cls.instance_cnt}')"
   ]
  },
  {
   "cell_type": "code",
   "execution_count": 98,
   "id": "261d0524-b226-496f-afba-9cb99f0dde37",
   "metadata": {},
   "outputs": [
    {
     "name": "stdout",
     "output_type": "stream",
     "text": [
      "자동차가 2대 생성되었습니다.\n",
      "전기자동차\n"
     ]
    }
   ],
   "source": [
    "c1 = Car(2000)\n",
    "Car.check_type(25)"
   ]
  },
  {
   "cell_type": "code",
   "execution_count": 99,
   "id": "1fe526b4-c6db-4963-a1ff-8fe8d715c6de",
   "metadata": {},
   "outputs": [
    {
     "name": "stdout",
     "output_type": "stream",
     "text": [
      "자동차 대수: 2\n"
     ]
    }
   ],
   "source": [
    "Car.count_instance()"
   ]
  },
  {
   "cell_type": "markdown",
   "id": "801cbd27-a00f-4a26-b773-2a34a08ad7e9",
   "metadata": {},
   "source": [
    "# 성적 클래스"
   ]
  },
  {
   "cell_type": "code",
   "execution_count": 127,
   "id": "0dd2b983-d8f2-4953-96f1-aafa1925b37c",
   "metadata": {},
   "outputs": [],
   "source": [
    "import random"
   ]
  },
  {
   "cell_type": "code",
   "execution_count": 240,
   "id": "33a78e69-9a57-4194-8187-5d3c5d3c2a85",
   "metadata": {},
   "outputs": [],
   "source": [
    "class Student():\n",
    "    def __init__(self, num, name, kor, eng, math):\n",
    "        self.num = num\n",
    "        self.name = name\n",
    "        self.kor = kor\n",
    "        self.eng = eng\n",
    "        self.math = math\n",
    "        self.total = 0\n",
    "        self.avg = 0\n",
    "        self.order = 0\n",
    "    \n",
    "    #학생 객체의 정보 출력, instance method\n",
    "    def s_info(self):\n",
    "        print(f'{self.num}, {self.name}, {self.kor}, {self.eng}, {self.math}, {self.total}, , {self.order}') \n",
    "\n",
    "    #학생 객체의 총점\n",
    "    def calc_total(self):\n",
    "        self.total = self.kor + self.eng + self.math\n",
    "        self.avg = self.total/3\n",
    "\n",
    "    #학생 객체의 등수 계산\n",
    "    def set_order(self, order):\n",
    "        self.order = order\n",
    "\n",
    "    # Object 상속 받은 메소드 재정의 overriding\n",
    "    def __str__(self):\n",
    "        return f'{self.num}. {self.name} : {self.order}등'\n",
    "\n",
    "    #학생 성적표\n",
    "    def print_score(self):\n",
    "        print(f'{self.name} : {self.avg:.2f}')\n",
    "\n",
    "    #instance method + 1"
   ]
  },
  {
   "cell_type": "code",
   "execution_count": 241,
   "id": "53de098f-c928-4ab1-a918-c067392a85f0",
   "metadata": {},
   "outputs": [],
   "source": [
    "class Classroom():\n",
    "    # 클래스 이름\n",
    "    def __init__(self, student_list):\n",
    "        self.students = self.gen_student_data(student_list)\n",
    "        self.name = ''\n",
    "        \n",
    "\n",
    "    def set_name(self, class_name):\n",
    "        self.name = class_name\n",
    "\n",
    "    # 클래스의 학생 목록의 생성하는 인스턴스 메소드\n",
    "    def gen_student_data(self, stu_list):\n",
    "        students = []\n",
    "        for i, s_name in enumerate(stu_list, start=1):\n",
    "            #print(i,s_name)\n",
    "            s = Student(i, s_name, random.randint(50, 100), random.randint(50, 100), random.randint(50, 100))\n",
    "            \n",
    "            s.calc_total()\n",
    "            #s.s_info()\n",
    "            \n",
    "            students.append(s)\n",
    "\n",
    "        return students\n",
    "        \n",
    "    # 학급의 학생 순위를 계산해서 학생 객체에 설정\n",
    "    def calc_order(self):\n",
    "        for s in self.students:\n",
    "            rank = 1\n",
    "            for other in self.students:\n",
    "                if other.total > s.total:\n",
    "                    rank += 1\n",
    "            s.set_order(rank)\n",
    "            #s.s_info()\n",
    "\n",
    "    def print_student_score(self):\n",
    "        for student in self.students:\n",
    "            print(student)\n",
    "\n",
    "    # 학습정보 리턴함수 __str__\n",
    "    def __str__(self):\n",
    "        return f'학급명: {self.name}'\n",
    "\n",
    "    # 학급 성적표        \n",
    "    # 국어 평균, 영어 평균, 수학 평균, 전체 평균 \n",
    "    def print_class_score(self):\n",
    "        print(f'우리 학급은 {self.name}입니다.')\n",
    "        print(f'우리 학급 이번 전체 평균은 {sum(s.total for s in self.students)/len(self.students)/3:.2f} 입니다.')\n",
    "        print(f'우리 학급은 총 {len(self.students)}명입니다.\\n')\n",
    "\n",
    "    def print_ordered_class_member(self):\n",
    "        s_students = sorted(self.students, key=lambda s:s.order)\n",
    "        #print(len(s_students))\n",
    "        \n",
    "        for s in s_students:\n",
    "            s.print_score()\n",
    "\n",
    "    # instance method + 1"
   ]
  },
  {
   "cell_type": "code",
   "execution_count": 242,
   "id": "8f1d9b61-f7d2-4fa6-ade3-d20928b9171c",
   "metadata": {},
   "outputs": [
    {
     "name": "stdout",
     "output_type": "stream",
     "text": [
      "1. 홍길동 : 4등\n",
      "2. 박제동 : 3등\n",
      "3. 김영희 : 2등\n",
      "4. 한사랑 : 1등\n",
      "1. 김철수 : 3등\n",
      "2. 박길동 : 2등\n",
      "3. 이영희 : 1등\n",
      "4. 최사랑 : 4등\n",
      "5. 아이유 : 5등\n",
      "****************************************\n",
      "우리 학급은 WN7입니다.\n",
      "우리 학급 이번 전체 평균은 76.25 입니다.\n",
      "우리 학급은 총 4명입니다.\n",
      "\n",
      "한사랑 : 90.00\n",
      "김영희 : 75.67\n",
      "박제동 : 70.00\n",
      "홍길동 : 69.33\n",
      "****************************************\n",
      "우리 학급은 software camp입니다.\n",
      "우리 학급 이번 전체 평균은 73.13 입니다.\n",
      "우리 학급은 총 5명입니다.\n",
      "\n",
      "이영희 : 82.67\n",
      "박길동 : 75.67\n",
      "김철수 : 70.67\n",
      "최사랑 : 68.67\n",
      "아이유 : 68.00\n"
     ]
    }
   ],
   "source": [
    "#main process\n",
    "a_class_stu = ['홍길동', '박제동', '김영희', '한사랑']\n",
    "b_class_stu = ['김철수', '박길동', '이영희', '최사랑', '아이유']\n",
    "\n",
    "a_class = Classroom(a_class_stu)\n",
    "b_class = Classroom(b_class_stu)\n",
    "\n",
    "a_class.calc_order()\n",
    "a_class.print_student_score()\n",
    "a_class.set_name('WN7')\n",
    "\n",
    "#print(a_class)\n",
    "b_class.calc_order()\n",
    "b_class.print_student_score()\n",
    "b_class.set_name('software camp')\n",
    "\n",
    "print('*'*40)\n",
    "a_class.print_class_score()\n",
    "a_class.print_ordered_class_member()\n",
    "\n",
    "print('*'*40)\n",
    "b_class.print_class_score()\n",
    "b_class.print_ordered_class_member()\n",
    "\n"
   ]
  },
  {
   "cell_type": "markdown",
   "id": "36a5a48e-a54f-4bd1-8cb9-3e15c9434cbb",
   "metadata": {},
   "source": [
    "# 객체와 클래스를 사용하는 이유\n",
    "1. 코드 작성과 관리가 편하다.\n",
    "2. 규모가 큰 프로그램(라이브러리)에서 사용한다.\n",
    "3. 유사한 객체가 많은 프로그램에서 사용한다. (예.게임)"
   ]
  },
  {
   "cell_type": "markdown",
   "id": "d006a9b7-8f18-4fc5-b630-c7e1d997c16f",
   "metadata": {},
   "source": [
    "# 객체 지향의 특징\n",
    "- 캡슐화 (encapsulation)\n",
    "- 상속\n",
    "- 다양성"
   ]
  },
  {
   "cell_type": "code",
   "execution_count": 245,
   "id": "e462d70c-4198-400d-94f9-af103a58e9f8",
   "metadata": {},
   "outputs": [],
   "source": [
    "class MyClass():\n",
    "    def __init__(self):\n",
    "        self.var1 = 10 #public\n",
    "        self._var2 = 20 #protected\n",
    "        self.__var3 = 30 #private"
   ]
  },
  {
   "cell_type": "code",
   "execution_count": 247,
   "id": "66683554-d6c9-4c12-9611-d0fca8977d32",
   "metadata": {},
   "outputs": [
    {
     "data": {
      "text/plain": [
       "10"
      ]
     },
     "execution_count": 247,
     "metadata": {},
     "output_type": "execute_result"
    }
   ],
   "source": [
    "c1 = MyClass()\n",
    "c1.var1"
   ]
  },
  {
   "cell_type": "code",
   "execution_count": 251,
   "id": "ce8b38d9-3896-48f5-accd-02f1846c3a02",
   "metadata": {},
   "outputs": [
    {
     "data": {
      "text/plain": [
       "30"
      ]
     },
     "execution_count": 251,
     "metadata": {},
     "output_type": "execute_result"
    }
   ],
   "source": [
    "c1._var2 = 30\n",
    "c1._var2"
   ]
  },
  {
   "cell_type": "code",
   "execution_count": 253,
   "id": "b5b434f5-8384-4791-b488-b95332c012f5",
   "metadata": {},
   "outputs": [
    {
     "data": {
      "text/plain": [
       "['_MyClass__var3',\n",
       " '__class__',\n",
       " '__delattr__',\n",
       " '__dict__',\n",
       " '__dir__',\n",
       " '__doc__',\n",
       " '__eq__',\n",
       " '__format__',\n",
       " '__ge__',\n",
       " '__getattribute__',\n",
       " '__getstate__',\n",
       " '__gt__',\n",
       " '__hash__',\n",
       " '__init__',\n",
       " '__init_subclass__',\n",
       " '__le__',\n",
       " '__lt__',\n",
       " '__module__',\n",
       " '__ne__',\n",
       " '__new__',\n",
       " '__reduce__',\n",
       " '__reduce_ex__',\n",
       " '__repr__',\n",
       " '__setattr__',\n",
       " '__sizeof__',\n",
       " '__str__',\n",
       " '__subclasshook__',\n",
       " '__weakref__',\n",
       " '_var2',\n",
       " 'var1']"
      ]
     },
     "execution_count": 253,
     "metadata": {},
     "output_type": "execute_result"
    }
   ],
   "source": [
    "dir(c1)"
   ]
  },
  {
   "cell_type": "code",
   "execution_count": 256,
   "id": "ec1081fb-9cb7-485e-b27a-b080943a7872",
   "metadata": {},
   "outputs": [
    {
     "data": {
      "text/plain": [
       "30"
      ]
     },
     "execution_count": 256,
     "metadata": {},
     "output_type": "execute_result"
    }
   ],
   "source": [
    "c1._MyClass__var3"
   ]
  },
  {
   "cell_type": "code",
   "execution_count": 258,
   "id": "1c83f7cf-13e3-482f-a245-17e43e2c121a",
   "metadata": {},
   "outputs": [
    {
     "data": {
      "text/plain": [
       "['__class__',\n",
       " '__delattr__',\n",
       " '__dict__',\n",
       " '__dir__',\n",
       " '__doc__',\n",
       " '__eq__',\n",
       " '__format__',\n",
       " '__ge__',\n",
       " '__getattribute__',\n",
       " '__getstate__',\n",
       " '__gt__',\n",
       " '__hash__',\n",
       " '__init__',\n",
       " '__init_subclass__',\n",
       " '__le__',\n",
       " '__lt__',\n",
       " '__module__',\n",
       " '__ne__',\n",
       " '__new__',\n",
       " '__reduce__',\n",
       " '__reduce_ex__',\n",
       " '__repr__',\n",
       " '__setattr__',\n",
       " '__sizeof__',\n",
       " '__str__',\n",
       " '__subclasshook__',\n",
       " '__weakref__']"
      ]
     },
     "execution_count": 258,
     "metadata": {},
     "output_type": "execute_result"
    }
   ],
   "source": [
    "dir(MyClass)"
   ]
  },
  {
   "cell_type": "markdown",
   "id": "15ea26a7-c134-4f74-99ff-0beeb41820dd",
   "metadata": {},
   "source": [
    "## 상속"
   ]
  },
  {
   "cell_type": "code",
   "execution_count": 302,
   "id": "068a0fe0-f799-405a-beb3-ae0081ece026",
   "metadata": {},
   "outputs": [],
   "source": [
    "# 부모 클래스\n",
    "class Calculator():\n",
    "    def __init__(self, x, y):\n",
    "        self.x = x\n",
    "        self.y = y\n",
    "        \n",
    "    def add(self):\n",
    "        return self.x + self.y\n",
    "\n",
    "    def mul(self):\n",
    "        return 0"
   ]
  },
  {
   "cell_type": "code",
   "execution_count": 303,
   "id": "3ebe41d5-2dc0-4c85-9f41-90dba47445a1",
   "metadata": {},
   "outputs": [],
   "source": [
    "# 자식 클래스\n",
    "class AdvancedCalculator(Calculator): #상속\n",
    "    # 상속받은 기능 재사용\n",
    "    # def __init__(self, x, y):\n",
    "    \n",
    "    # 자식이 추가한 기능\n",
    "    def divide(self):\n",
    "        if self.y == 0:\n",
    "            return '0으로 나누기 금지'\n",
    "        return self.x / self.y\n",
    "        \n",
    "    # 상속받은 기능의 재정의\n",
    "    def add(self): #overriding\n",
    "        print('advanced calculator입니다.')\n",
    "        return 0 #super().add() \n",
    "\n",
    "    def sub(self):\n",
    "        return self.x - self.y\n",
    "\n",
    "    def mul(self):\n",
    "        print('advanced cal')\n",
    "        return self.x * self.y\n",
    "\n",
    "    def power(self):\n",
    "        return self.x ** self.y"
   ]
  },
  {
   "cell_type": "code",
   "execution_count": 304,
   "id": "3e915c69-0c03-4255-895b-3aa36129ab72",
   "metadata": {},
   "outputs": [
    {
     "name": "stdout",
     "output_type": "stream",
     "text": [
      "advanced calculator입니다.\n"
     ]
    },
    {
     "data": {
      "text/plain": [
       "2"
      ]
     },
     "execution_count": 304,
     "metadata": {},
     "output_type": "execute_result"
    }
   ],
   "source": [
    "acalc = AdvancedCalculator(4,2)\n",
    "acalc.divide()\n",
    "acalc.add()\n",
    "acalc.sub()"
   ]
  },
  {
   "cell_type": "code",
   "execution_count": 305,
   "id": "ba797bfd-bf43-4e89-8f38-741614bbb606",
   "metadata": {},
   "outputs": [
    {
     "name": "stdout",
     "output_type": "stream",
     "text": [
      "advanced cal\n"
     ]
    },
    {
     "data": {
      "text/plain": [
       "8"
      ]
     },
     "execution_count": 305,
     "metadata": {},
     "output_type": "execute_result"
    }
   ],
   "source": [
    "acalc2 = AdvancedCalculator(4,2)\n",
    "acalc2.mul()"
   ]
  },
  {
   "cell_type": "code",
   "execution_count": 306,
   "id": "341fcb0a-fea4-45b2-a844-15916d9cd2f3",
   "metadata": {},
   "outputs": [
    {
     "data": {
      "text/plain": [
       "-2"
      ]
     },
     "execution_count": 306,
     "metadata": {},
     "output_type": "execute_result"
    }
   ],
   "source": [
    "acalc3 = AdvancedCalculator(2,4)\n",
    "acalc3.sub()"
   ]
  },
  {
   "cell_type": "code",
   "execution_count": 307,
   "id": "6645713a-e888-4728-821d-65d246dd495e",
   "metadata": {},
   "outputs": [
    {
     "data": {
      "text/plain": [
       "8"
      ]
     },
     "execution_count": 307,
     "metadata": {},
     "output_type": "execute_result"
    }
   ],
   "source": [
    "acalc4 = AdvancedCalculator(2,3)\n",
    "acalc4.power()"
   ]
  },
  {
   "cell_type": "code",
   "execution_count": 267,
   "id": "a1a74282-2975-4d6f-8604-14128ee84f87",
   "metadata": {},
   "outputs": [
    {
     "data": {
      "text/plain": [
       "['__class__',\n",
       " '__delattr__',\n",
       " '__dict__',\n",
       " '__dir__',\n",
       " '__doc__',\n",
       " '__eq__',\n",
       " '__format__',\n",
       " '__ge__',\n",
       " '__getattribute__',\n",
       " '__getstate__',\n",
       " '__gt__',\n",
       " '__hash__',\n",
       " '__init__',\n",
       " '__init_subclass__',\n",
       " '__le__',\n",
       " '__lt__',\n",
       " '__module__',\n",
       " '__ne__',\n",
       " '__new__',\n",
       " '__reduce__',\n",
       " '__reduce_ex__',\n",
       " '__repr__',\n",
       " '__setattr__',\n",
       " '__sizeof__',\n",
       " '__str__',\n",
       " '__subclasshook__',\n",
       " '__weakref__',\n",
       " 'add',\n",
       " 'divide',\n",
       " 'x',\n",
       " 'y']"
      ]
     },
     "execution_count": 267,
     "metadata": {},
     "output_type": "execute_result"
    }
   ],
   "source": [
    "dir(acalc)"
   ]
  }
 ],
 "metadata": {
  "kernelspec": {
   "display_name": "Python 3 (ipykernel)",
   "language": "python",
   "name": "python3"
  },
  "language_info": {
   "codemirror_mode": {
    "name": "ipython",
    "version": 3
   },
   "file_extension": ".py",
   "mimetype": "text/x-python",
   "name": "python",
   "nbconvert_exporter": "python",
   "pygments_lexer": "ipython3",
   "version": "3.12.9"
  }
 },
 "nbformat": 4,
 "nbformat_minor": 5
}
