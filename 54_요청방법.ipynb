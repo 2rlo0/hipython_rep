{
 "cells": [
  {
   "cell_type": "code",
   "execution_count": 5,
   "id": "7b3bf123",
   "metadata": {},
   "outputs": [
    {
     "name": "stdout",
     "output_type": "stream",
     "text": [
      "{\n",
      "  \"args\": {}, \n",
      "  \"headers\": {\n",
      "    \"Accept\": \"*/*\", \n",
      "    \"Accept-Encoding\": \"gzip, deflate\", \n",
      "    \"Host\": \"httpbin.org\", \n",
      "    \"User-Agent\": \"python-requests/2.32.4\", \n",
      "    \"X-Amzn-Trace-Id\": \"Root=1-68870d6b-1269e9e75c244b8020568a96\"\n",
      "  }, \n",
      "  \"origin\": \"118.36.174.103\", \n",
      "  \"url\": \"https://httpbin.org/get\"\n",
      "}\n",
      "\n"
     ]
    }
   ],
   "source": [
    "import requests\n",
    "url = 'https://httpbin.org/get'\n",
    "response = requests.get(url)\n",
    "response.status_code # 200번 정상적 작동\n",
    "print(response.text)"
   ]
  },
  {
   "cell_type": "code",
   "execution_count": null,
   "id": "5b6577d8",
   "metadata": {},
   "outputs": [
    {
     "name": "stdout",
     "output_type": "stream",
     "text": [
      "{\n",
      "  \"args\": {\n",
      "    \"age\": \"20\", \n",
      "    \"name\": \"ylee\"\n",
      "  }, \n",
      "  \"headers\": {\n",
      "    \"Accept\": \"*/*\", \n",
      "    \"Accept-Encoding\": \"gzip, deflate\", \n",
      "    \"Host\": \"httpbin.org\", \n",
      "    \"User-Agent\": \"python-requests/2.32.4\", \n",
      "    \"X-Amzn-Trace-Id\": \"Root=1-68870e4d-57dc3ebf49c3690972425b43\"\n",
      "  }, \n",
      "  \"origin\": \"118.36.174.103\", \n",
      "  \"url\": \"https://httpbin.org/get?name=ylee&age=20\"\n",
      "}\n",
      "\n"
     ]
    }
   ],
   "source": [
    "params = { # 내가 보내는 값\n",
    "    'name':'ylee',\n",
    "    'age':'20'\n",
    "}\n",
    "url = 'https://httpbin.org/get'\n",
    "\n",
    "response = requests.get(url, params=params) # 쿼리 문자열 포함\n",
    "response.status_code # 200번 정상적 작동\n",
    "print(response.text)"
   ]
  },
  {
   "cell_type": "code",
   "execution_count": 8,
   "id": "c6974c0b",
   "metadata": {},
   "outputs": [
    {
     "name": "stdout",
     "output_type": "stream",
     "text": [
      "{\n",
      "  \"args\": {}, \n",
      "  \"data\": \"\", \n",
      "  \"files\": {}, \n",
      "  \"form\": {\n",
      "    \"key\": \"value\"\n",
      "  }, \n",
      "  \"headers\": {\n",
      "    \"Accept\": \"*/*\", \n",
      "    \"Accept-Encoding\": \"gzip, deflate\", \n",
      "    \"Content-Length\": \"9\", \n",
      "    \"Content-Type\": \"application/x-www-form-urlencoded\", \n",
      "    \"Host\": \"httpbin.org\", \n",
      "    \"User-Agent\": \"python-requests/2.32.4\", \n",
      "    \"X-Amzn-Trace-Id\": \"Root=1-68870efb-12b20e7512b8775c46e9de38\"\n",
      "  }, \n",
      "  \"json\": null, \n",
      "  \"origin\": \"118.36.174.103\", \n",
      "  \"url\": \"https://httpbin.org/post\"\n",
      "}\n",
      "\n"
     ]
    }
   ],
   "source": [
    "url = 'https://httpbin.org/post' # post url\n",
    "response = requests.post(url, data={'key':'value'})\n",
    "print(response.text)"
   ]
  },
  {
   "cell_type": "code",
   "execution_count": 16,
   "id": "e3a8d019",
   "metadata": {},
   "outputs": [
    {
     "data": {
      "text/plain": [
       "'application/x-www-form-urlencoded'"
      ]
     },
     "execution_count": 16,
     "metadata": {},
     "output_type": "execute_result"
    }
   ],
   "source": [
    "response.json()['headers']['Content-Type']"
   ]
  },
  {
   "cell_type": "code",
   "execution_count": 17,
   "id": "17c75c7a",
   "metadata": {},
   "outputs": [
    {
     "data": {
      "text/plain": [
       "'python-requests/2.32.4'"
      ]
     },
     "execution_count": 17,
     "metadata": {},
     "output_type": "execute_result"
    }
   ],
   "source": [
    "response.json()['headers']['User-Agent']"
   ]
  },
  {
   "cell_type": "code",
   "execution_count": null,
   "id": "dda3dfb4",
   "metadata": {},
   "outputs": [
    {
     "name": "stdout",
     "output_type": "stream",
     "text": [
      "{\n",
      "  \"args\": {}, \n",
      "  \"data\": \"{\\\"key\\\": \\\"value\\\"}\", \n",
      "  \"files\": {}, \n",
      "  \"form\": {}, \n",
      "  \"headers\": {\n",
      "    \"Accept\": \"*/*\", \n",
      "    \"Accept-Encoding\": \"gzip, deflate\", \n",
      "    \"Content-Length\": \"16\", \n",
      "    \"Content-Type\": \"application/json\", \n",
      "    \"Host\": \"httpbin.org\", \n",
      "    \"User-Agent\": \"python-requests/2.32.4\", \n",
      "    \"X-Amzn-Trace-Id\": \"Root=1-68871015-486f376e31c864661435bc4b\"\n",
      "  }, \n",
      "  \"json\": {\n",
      "    \"key\": \"value\"\n",
      "  }, \n",
      "  \"origin\": \"118.36.174.103\", \n",
      "  \"url\": \"https://httpbin.org/post\"\n",
      "}\n",
      "\n"
     ]
    }
   ],
   "source": [
    "url = 'https://httpbin.org/post'\n",
    "response = requests.post(url, json={'key':'value'})\n",
    "print(response.text)"
   ]
  },
  {
   "cell_type": "code",
   "execution_count": 21,
   "id": "d8159513",
   "metadata": {},
   "outputs": [
    {
     "name": "stdout",
     "output_type": "stream",
     "text": [
      "{\n",
      "  \"args\": {}, \n",
      "  \"data\": \"\", \n",
      "  \"files\": {}, \n",
      "  \"form\": {\n",
      "    \"key\": \"value\"\n",
      "  }, \n",
      "  \"headers\": {\n",
      "    \"Accept\": \"*/*\", \n",
      "    \"Accept-Encoding\": \"gzip, deflate\", \n",
      "    \"Content-Length\": \"9\", \n",
      "    \"Content-Type\": \"application/x-www-form-urlencoded\", \n",
      "    \"Host\": \"httpbin.org\", \n",
      "    \"User-Agent\": \"python-requests/2.32.4\", \n",
      "    \"X-Amzn-Trace-Id\": \"Root=1-68871094-63018b870d03f6bf3ec2d2e2\"\n",
      "  }, \n",
      "  \"json\": null, \n",
      "  \"origin\": \"118.36.174.103\", \n",
      "  \"url\": \"https://httpbin.org/put\"\n",
      "}\n",
      "\n"
     ]
    }
   ],
   "source": [
    "response = requests.put('https://httpbin.org/put', data={'key':'value'})\n",
    "print(response.text)"
   ]
  },
  {
   "cell_type": "code",
   "execution_count": 24,
   "id": "99c3b653",
   "metadata": {},
   "outputs": [
    {
     "name": "stdout",
     "output_type": "stream",
     "text": [
      "{\n",
      "  \"args\": {}, \n",
      "  \"data\": \"\", \n",
      "  \"files\": {}, \n",
      "  \"form\": {\n",
      "    \"key\": \"value\"\n",
      "  }, \n",
      "  \"headers\": {\n",
      "    \"Accept\": \"*/*\", \n",
      "    \"Accept-Encoding\": \"gzip, deflate\", \n",
      "    \"Content-Length\": \"9\", \n",
      "    \"Content-Type\": \"application/x-www-form-urlencoded\", \n",
      "    \"Host\": \"httpbin.org\", \n",
      "    \"User-Agent\": \"python-requests/2.32.4\", \n",
      "    \"X-Amzn-Trace-Id\": \"Root=1-688710cd-14942a006b0e10240f224309\"\n",
      "  }, \n",
      "  \"json\": null, \n",
      "  \"origin\": \"118.36.174.103\", \n",
      "  \"url\": \"https://httpbin.org/patch\"\n",
      "}\n",
      "\n"
     ]
    }
   ],
   "source": [
    "response = requests.patch('https://httpbin.org/patch', data={'key': 'value'})\n",
    "print(response.text)"
   ]
  }
 ],
 "metadata": {
  "kernelspec": {
   "display_name": "webcrawl_env",
   "language": "python",
   "name": "python3"
  },
  "language_info": {
   "codemirror_mode": {
    "name": "ipython",
    "version": 3
   },
   "file_extension": ".py",
   "mimetype": "text/x-python",
   "name": "python",
   "nbconvert_exporter": "python",
   "pygments_lexer": "ipython3",
   "version": "3.10.18"
  }
 },
 "nbformat": 4,
 "nbformat_minor": 5
}
