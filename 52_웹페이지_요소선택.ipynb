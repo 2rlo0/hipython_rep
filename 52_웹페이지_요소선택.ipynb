{
 "cells": [
  {
   "cell_type": "code",
   "execution_count": 1,
   "id": "fe8e15dc",
   "metadata": {},
   "outputs": [],
   "source": [
    "html = \"\"\"\n",
    "<html>\n",
    "<head><title>HTML Sample</title>\n",
    "</head>\n",
    "<body>\n",
    "    <h1>Hello CSS</h1>\n",
    "    <div id=\"subject\">선택자</div>\n",
    "    <div class=\"contents\">선택자를 어떻게 작성하느냐에 따라\n",
    "      <span>다른 <b>요소가 반환</b></span> 됩니다.</div>\n",
    "    <div>CSS 선택자는 다양한 곳에서 <b>활용</b>됩니다.</div>\n",
    "</body>\n",
    "</html>\n",
    "\"\"\""
   ]
  },
  {
   "cell_type": "code",
   "execution_count": 2,
   "id": "e0293529",
   "metadata": {},
   "outputs": [
    {
     "data": {
      "text/plain": [
       "'\\n<html>\\n<head><title>HTML Sample</title>\\n</head>\\n<body>\\n    <h1>Hello CSS</h1>\\n    <div id=\"subject\">선택자</div>\\n    <div class=\"contents\">선택자를 어떻게 작성하느냐에 따라\\n      <span>다른 <b>요소가 반환</b></span> 됩니다.</div>\\n    <div>CSS 선택자는 다양한 곳에서 <b>활용</b>됩니다.</div>\\n</body>\\n</html>\\n'"
      ]
     },
     "execution_count": 2,
     "metadata": {},
     "output_type": "execute_result"
    }
   ],
   "source": [
    "html"
   ]
  },
  {
   "cell_type": "code",
   "execution_count": 6,
   "id": "d90de54e",
   "metadata": {},
   "outputs": [
    {
     "data": {
      "text/plain": [
       "\n",
       "<html>\n",
       "<head><title>HTML Sample</title>\n",
       "</head>\n",
       "<body>\n",
       "<h1>Hello CSS</h1>\n",
       "<div id=\"subject\">선택자</div>\n",
       "<div class=\"contents\">선택자를 어떻게 작성하느냐에 따라\n",
       "      <span>다른 <b>요소가 반환</b></span> 됩니다.</div>\n",
       "<div>CSS 선택자는 다양한 곳에서 <b>활용</b>됩니다.</div>\n",
       "</body>\n",
       "</html>"
      ]
     },
     "execution_count": 6,
     "metadata": {},
     "output_type": "execute_result"
    }
   ],
   "source": [
    "from bs4 import BeautifulSoup\n",
    "soup = BeautifulSoup(html, 'html.parser')\n",
    "soup"
   ]
  },
  {
   "cell_type": "code",
   "execution_count": 9,
   "id": "b96c5a46",
   "metadata": {},
   "outputs": [
    {
     "data": {
      "text/plain": [
       "'Hello CSS'"
      ]
     },
     "execution_count": 9,
     "metadata": {},
     "output_type": "execute_result"
    }
   ],
   "source": [
    "el = soup.select_one('h1')\n",
    "el.text"
   ]
  },
  {
   "cell_type": "code",
   "execution_count": 13,
   "id": "3b8371c2",
   "metadata": {},
   "outputs": [
    {
     "data": {
      "text/plain": [
       "[<div id=\"subject\">선택자</div>,\n",
       " <div class=\"contents\">선택자를 어떻게 작성하느냐에 따라\n",
       "       <span>다른 <b>요소가 반환</b></span> 됩니다.</div>,\n",
       " <div>CSS 선택자는 다양한 곳에서 <b>활용</b>됩니다.</div>]"
      ]
     },
     "execution_count": 13,
     "metadata": {},
     "output_type": "execute_result"
    }
   ],
   "source": [
    "div_el = soup.select('div')\n",
    "div_el"
   ]
  },
  {
   "cell_type": "code",
   "execution_count": 17,
   "id": "86f10273",
   "metadata": {},
   "outputs": [
    {
     "data": {
      "text/plain": [
       "[<h1>Hello CSS</h1>, <span>다른 <b>요소가 반환</b></span>]"
      ]
     },
     "execution_count": 17,
     "metadata": {},
     "output_type": "execute_result"
    }
   ],
   "source": [
    "soup.select('h1, span')"
   ]
  },
  {
   "cell_type": "code",
   "execution_count": 32,
   "id": "ab1fa0b9",
   "metadata": {},
   "outputs": [
    {
     "data": {
      "text/plain": [
       "[<b>요소가 반환</b>, <b>활용</b>]"
      ]
     },
     "execution_count": 32,
     "metadata": {},
     "output_type": "execute_result"
    }
   ],
   "source": [
    "soup.select('div b')"
   ]
  },
  {
   "cell_type": "code",
   "execution_count": null,
   "id": "928cb5e1",
   "metadata": {},
   "outputs": [
    {
     "data": {
      "text/plain": [
       "<b>요소가 반환</b>"
      ]
     },
     "execution_count": 27,
     "metadata": {},
     "output_type": "execute_result"
    }
   ],
   "source": [
    "# div > span > b\n",
    "soup.select_one('div b') # 후손"
   ]
  },
  {
   "cell_type": "code",
   "execution_count": null,
   "id": "3edba30f",
   "metadata": {},
   "outputs": [
    {
     "data": {
      "text/plain": [
       "<b>활용</b>"
      ]
     },
     "execution_count": 28,
     "metadata": {},
     "output_type": "execute_result"
    }
   ],
   "source": [
    "soup.select_one('div > b') # 직계"
   ]
  },
  {
   "cell_type": "code",
   "execution_count": null,
   "id": "9ac9844b",
   "metadata": {},
   "outputs": [
    {
     "data": {
      "text/plain": [
       "[<div class=\"contents\">선택자를 어떻게 작성하느냐에 따라\n",
       "       <span>다른 <b>요소가 반환</b></span> 됩니다.</div>]"
      ]
     },
     "execution_count": 34,
     "metadata": {},
     "output_type": "execute_result"
    }
   ],
   "source": [
    "soup.select('.contents') # 클래스 선택자"
   ]
  },
  {
   "cell_type": "code",
   "execution_count": 36,
   "id": "134344d0",
   "metadata": {},
   "outputs": [
    {
     "data": {
      "text/plain": [
       "[<div id=\"subject\">선택자</div>]"
      ]
     },
     "execution_count": 36,
     "metadata": {},
     "output_type": "execute_result"
    }
   ],
   "source": [
    "# id 선택자\n",
    "soup.select('#subject') "
   ]
  },
  {
   "cell_type": "code",
   "execution_count": 39,
   "id": "cf679367",
   "metadata": {},
   "outputs": [
    {
     "data": {
      "text/plain": [
       "[<div class=\"contents\">선택자를 어떻게 작성하느냐에 따라\n",
       "       <span>다른 <b>요소가 반환</b></span> 됩니다.</div>]"
      ]
     },
     "execution_count": 39,
     "metadata": {},
     "output_type": "execute_result"
    }
   ],
   "source": [
    "# 속성 선택자\n",
    "soup.select('[id=subject]')\n",
    "soup.select('[class=contents]')"
   ]
  },
  {
   "cell_type": "markdown",
   "id": "6dd4561c",
   "metadata": {},
   "source": [
    "# 정규표현식"
   ]
  },
  {
   "cell_type": "markdown",
   "id": "c5b85278",
   "metadata": {},
   "source": [
    "f-string\n",
    "f'ddddd{code}'\n",
    "\n",
    "r-string 패턴 지정\n"
   ]
  },
  {
   "cell_type": "code",
   "execution_count": 40,
   "id": "257a0ba3",
   "metadata": {},
   "outputs": [
    {
     "name": "stdout",
     "output_type": "stream",
     "text": [
      "123\n"
     ]
    }
   ],
   "source": [
    "import re\n",
    "pattern = re.compile(r'\\d+')  # 숫자이면서 1개 이상 반복되는 것\n",
    "match = pattern.match('123abc')\n",
    "if match:\n",
    "    print(match.group())  "
   ]
  },
  {
   "cell_type": "code",
   "execution_count": 41,
   "id": "55ee083a",
   "metadata": {},
   "outputs": [
    {
     "data": {
      "text/plain": [
       "<re.Match object; span=(0, 3), match='123'>"
      ]
     },
     "execution_count": 41,
     "metadata": {},
     "output_type": "execute_result"
    }
   ],
   "source": [
    "match"
   ]
  },
  {
   "cell_type": "code",
   "execution_count": 44,
   "id": "e3d7150f",
   "metadata": {},
   "outputs": [],
   "source": [
    "import re\n",
    "\n",
    "# 1. 전화번호 추출\n",
    "string = 'hello grovy04@gmail.com 010-222-3333 world 02-5678-9988'"
   ]
  },
  {
   "cell_type": "code",
   "execution_count": null,
   "id": "a4aeb2f7",
   "metadata": {},
   "outputs": [
    {
     "data": {
      "text/plain": [
       "['010-222-3333', '02-5678-9988']"
      ]
     },
     "execution_count": 48,
     "metadata": {},
     "output_type": "execute_result"
    }
   ],
   "source": [
    "# 2. 패턴 정하기\n",
    "\n",
    "# d는 숫자 찾기, {이상, 이하} 반복횟수 지정\n",
    "pattern = re.compile(r'\\d{2,3}-\\d{3,4}-\\d{4}')\n",
    "# match_list = pattern.match(string) # 처음부터 찾기\n",
    "# match_list = pattern.search(string) # 1개 찾기\n",
    "match_list = pattern.findall(string) # 모두 찾기\n",
    "match_list"
   ]
  },
  {
   "cell_type": "code",
   "execution_count": 50,
   "id": "b58d6e55",
   "metadata": {},
   "outputs": [
    {
     "data": {
      "text/plain": [
       "['grovy04@gmail.com']"
      ]
     },
     "execution_count": 50,
     "metadata": {},
     "output_type": "execute_result"
    }
   ],
   "source": [
    "# 이메일 패턴\n",
    "email_pattern = re.compile(r'[a-zA-Z0-9._%+-]+@[a-zA-Z0-9.-]+\\.[a-zA-Z]{2,}') \n",
    "email_pattern= email_pattern.findall(string)\n",
    "email_pattern"
   ]
  },
  {
   "cell_type": "code",
   "execution_count": 55,
   "id": "76e1d0c6",
   "metadata": {},
   "outputs": [
    {
     "data": {
      "text/plain": [
       "'abc***ef***'"
      ]
     },
     "execution_count": 55,
     "metadata": {},
     "output_type": "execute_result"
    }
   ],
   "source": [
    "string2 = 'abc123ef456'\n",
    "result = re.compile(r'\\d+')\n",
    "# result.findall(string2)\n",
    "result.sub('***', string2)"
   ]
  },
  {
   "cell_type": "markdown",
   "id": "644fc134",
   "metadata": {},
   "source": [
    "# selenium"
   ]
  },
  {
   "cell_type": "code",
   "execution_count": 56,
   "id": "ee0b3fa5",
   "metadata": {},
   "outputs": [
    {
     "name": "stdout",
     "output_type": "stream",
     "text": [
      "4.34.2\n"
     ]
    }
   ],
   "source": [
    "import selenium\n",
    "print(selenium.__version__)"
   ]
  },
  {
   "cell_type": "code",
   "execution_count": 59,
   "id": "da1d549d",
   "metadata": {},
   "outputs": [],
   "source": [
    "from selenium import webdriver\n",
    "\n",
    "driver = webdriver.Chrome() # 웹드라이버 객체. 미니 크롬 열림\n",
    "driver.get('https://www.python.org/')"
   ]
  },
  {
   "cell_type": "code",
   "execution_count": 60,
   "id": "e540c666",
   "metadata": {},
   "outputs": [],
   "source": [
    "driver.close()"
   ]
  },
  {
   "cell_type": "code",
   "execution_count": null,
   "id": "906b83d4",
   "metadata": {},
   "outputs": [],
   "source": []
  }
 ],
 "metadata": {
  "kernelspec": {
   "display_name": "webcrawl_env",
   "language": "python",
   "name": "python3"
  },
  "language_info": {
   "codemirror_mode": {
    "name": "ipython",
    "version": 3
   },
   "file_extension": ".py",
   "mimetype": "text/x-python",
   "name": "python",
   "nbconvert_exporter": "python",
   "pygments_lexer": "ipython3",
   "version": "3.10.18"
  }
 },
 "nbformat": 4,
 "nbformat_minor": 5
}
