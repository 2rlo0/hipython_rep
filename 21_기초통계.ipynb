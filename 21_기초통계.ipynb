{
 "cells": [
  {
   "cell_type": "markdown",
   "id": "f726a1ec",
   "metadata": {},
   "source": [
    "# 대표값 - 평균값"
   ]
  },
  {
   "cell_type": "code",
   "execution_count": null,
   "id": "1d9c0a29",
   "metadata": {},
   "outputs": [
    {
     "name": "stdout",
     "output_type": "stream",
     "text": [
      "30.0\n"
     ]
    }
   ],
   "source": [
    "import numpy as np\n",
    "\n",
    "# 산술평균\n",
    "data = [10, 20, 30, 40, 50]\n",
    "mean_value = np.mean(data)\n",
    "print(mean_value)  # 30.0"
   ]
  },
  {
   "cell_type": "code",
   "execution_count": 3,
   "id": "cd5b4a69",
   "metadata": {},
   "outputs": [
    {
     "data": {
      "text/plain": [
       "np.float64(26.051710846973528)"
      ]
     },
     "execution_count": 3,
     "metadata": {},
     "output_type": "execute_result"
    }
   ],
   "source": [
    "# 기하평균\n",
    "from scipy.stats import hmean, gmean\n",
    "gmean(data)"
   ]
  },
  {
   "cell_type": "code",
   "execution_count": 4,
   "id": "8c15cbc0",
   "metadata": {},
   "outputs": [
    {
     "data": {
      "text/plain": [
       "np.float64(21.8978102189781)"
      ]
     },
     "execution_count": 4,
     "metadata": {},
     "output_type": "execute_result"
    }
   ],
   "source": [
    "# 조화평균\n",
    "hmean(data)"
   ]
  },
  {
   "cell_type": "code",
   "execution_count": 5,
   "id": "0476fd42",
   "metadata": {},
   "outputs": [
    {
     "data": {
      "text/plain": [
       "np.float64(5800.0)"
      ]
     },
     "execution_count": 5,
     "metadata": {},
     "output_type": "execute_result"
    }
   ],
   "source": [
    "# 가중평균\n",
    "# 가격과 개수\n",
    "prices = [5000, 9000]\n",
    "counts = [8,2]\n",
    "\n",
    "np.average(prices, weights=counts)"
   ]
  },
  {
   "cell_type": "markdown",
   "id": "655ec2d6",
   "metadata": {},
   "source": [
    "# 대표값 - 중앙값"
   ]
  },
  {
   "cell_type": "code",
   "execution_count": 6,
   "id": "5c1cdfae",
   "metadata": {},
   "outputs": [
    {
     "data": {
      "text/plain": [
       "[10, 20, 30, 40, 50]"
      ]
     },
     "execution_count": 6,
     "metadata": {},
     "output_type": "execute_result"
    }
   ],
   "source": [
    "data"
   ]
  },
  {
   "cell_type": "code",
   "execution_count": 7,
   "id": "5151e325",
   "metadata": {},
   "outputs": [
    {
     "name": "stdout",
     "output_type": "stream",
     "text": [
      "30.0\n"
     ]
    }
   ],
   "source": [
    "import numpy as np\n",
    "\n",
    "data = [10, 20, 30, 40, 50]\n",
    "median_value = np.median(data)\n",
    "print(median_value)  # 30"
   ]
  },
  {
   "cell_type": "markdown",
   "id": "a0b758b7",
   "metadata": {},
   "source": [
    "# 백분위수"
   ]
  },
  {
   "cell_type": "code",
   "execution_count": 11,
   "id": "efda9081",
   "metadata": {},
   "outputs": [
    {
     "data": {
      "text/plain": [
       "(np.float64(75.0), np.float64(80.0), np.float64(85.0))"
      ]
     },
     "execution_count": 11,
     "metadata": {},
     "output_type": "execute_result"
    }
   ],
   "source": [
    "import numpy as np\n",
    "\n",
    "# scores = [65, 75, 80, 85, 95]\n",
    "scores = [15, 75, 80, 85, 95]\n",
    "p25 = np.percentile(scores, 25) # Q1\n",
    "p50 = np.percentile(scores, 50) # Q2\n",
    "p75 = np.percentile(scores, 75) # Q3\n",
    "\n",
    "p25, p50, p75"
   ]
  },
  {
   "cell_type": "code",
   "execution_count": 12,
   "id": "8d5628ab",
   "metadata": {},
   "outputs": [
    {
     "data": {
      "text/plain": [
       "np.float64(10.0)"
      ]
     },
     "execution_count": 12,
     "metadata": {},
     "output_type": "execute_result"
    }
   ],
   "source": [
    "# IQR : 사분위범위 Q3-Q1 = 85- 75 = 10\n",
    "p75 - p25"
   ]
  },
  {
   "cell_type": "markdown",
   "id": "e53a717d",
   "metadata": {},
   "source": [
    "중앙값, 분위수는 개수(위치)를 중요시하는 통계량\n",
    "이상값/극단적인 값이 중요하지 않다."
   ]
  },
  {
   "cell_type": "markdown",
   "id": "f200537a",
   "metadata": {},
   "source": [
    "# 대표값 - 최빈값"
   ]
  },
  {
   "cell_type": "code",
   "execution_count": 13,
   "id": "d29acc62",
   "metadata": {},
   "outputs": [
    {
     "name": "stdout",
     "output_type": "stream",
     "text": [
      "0    3\n",
      "dtype: int64\n"
     ]
    }
   ],
   "source": [
    "import pandas as pd\n",
    "\n",
    "data = pd.Series([1, 2, 2, 3, 3, 3, 4, 4])\n",
    "mode_value = data.mode()\n",
    "print(mode_value)  # 3 (가장 많이 등장한 값)"
   ]
  },
  {
   "cell_type": "markdown",
   "id": "efa81680",
   "metadata": {},
   "source": [
    "# 범위의 계산 > 변동성을 측정하는 일반 지표 > 극단적인값에 민감\n",
    "\n",
    "- 최대/최소 2개의 값만 사용\n",
    "- 개별점수들이 다른 점수들과 얼마나 차이가 있나 x\n",
    "- 실제 데이터가 어떤 값들로 구성되어 있는지를 설명할 수 없다."
   ]
  },
  {
   "cell_type": "code",
   "execution_count": 14,
   "id": "f19235e1",
   "metadata": {},
   "outputs": [
    {
     "name": "stdout",
     "output_type": "stream",
     "text": [
      "40\n"
     ]
    }
   ],
   "source": [
    "data = [10, 20, 30, 40, 50]\n",
    "range_value = max(data) - min(data)\n",
    "print(range_value)  # 40"
   ]
  },
  {
   "cell_type": "code",
   "execution_count": 17,
   "id": "4f64691c",
   "metadata": {},
   "outputs": [
    {
     "data": {
      "text/plain": [
       "<matplotlib.collections.PathCollection at 0x1e5eef13050>"
      ]
     },
     "execution_count": 17,
     "metadata": {},
     "output_type": "execute_result"
    },
    {
     "data": {
      "image/png": "[encoded data removed]",
      "text/plain": [
       "<Figure size 640x480 with 1 Axes>"
      ]
     },
     "metadata": {},
     "output_type": "display_data"
    }
   ],
   "source": [
    "import matplotlib.pyplot as plt\n",
    "plt.scatter(data, np.zeros_like(data))\n"
   ]
  },
  {
   "cell_type": "code",
   "execution_count": 18,
   "id": "7561906f",
   "metadata": {},
   "outputs": [
    {
     "data": {
      "text/html": [
       "<div>\n",
       "<style scoped>\n",
       "    .dataframe tbody tr th:only-of-type {\n",
       "        vertical-align: middle;\n",
       "    }\n",
       "\n",
       "    .dataframe tbody tr th {\n",
       "        vertical-align: top;\n",
       "    }\n",
       "\n",
       "    .dataframe thead th {\n",
       "        text-align: right;\n",
       "    }\n",
       "</style>\n",
       "<table border=\"1\" class=\"dataframe\">\n",
       "  <thead>\n",
       "    <tr style=\"text-align: right;\">\n",
       "      <th></th>\n",
       "      <th>sepal_length</th>\n",
       "      <th>sepal_width</th>\n",
       "      <th>petal_length</th>\n",
       "      <th>petal_width</th>\n",
       "      <th>species</th>\n",
       "    </tr>\n",
       "  </thead>\n",
       "  <tbody>\n",
       "    <tr>\n",
       "      <th>0</th>\n",
       "      <td>5.1</td>\n",
       "      <td>3.5</td>\n",
       "      <td>1.4</td>\n",
       "      <td>0.2</td>\n",
       "      <td>setosa</td>\n",
       "    </tr>\n",
       "    <tr>\n",
       "      <th>1</th>\n",
       "      <td>4.9</td>\n",
       "      <td>3.0</td>\n",
       "      <td>1.4</td>\n",
       "      <td>0.2</td>\n",
       "      <td>setosa</td>\n",
       "    </tr>\n",
       "    <tr>\n",
       "      <th>2</th>\n",
       "      <td>4.7</td>\n",
       "      <td>3.2</td>\n",
       "      <td>1.3</td>\n",
       "      <td>0.2</td>\n",
       "      <td>setosa</td>\n",
       "    </tr>\n",
       "    <tr>\n",
       "      <th>3</th>\n",
       "      <td>4.6</td>\n",
       "      <td>3.1</td>\n",
       "      <td>1.5</td>\n",
       "      <td>0.2</td>\n",
       "      <td>setosa</td>\n",
       "    </tr>\n",
       "    <tr>\n",
       "      <th>4</th>\n",
       "      <td>5.0</td>\n",
       "      <td>3.6</td>\n",
       "      <td>1.4</td>\n",
       "      <td>0.2</td>\n",
       "      <td>setosa</td>\n",
       "    </tr>\n",
       "  </tbody>\n",
       "</table>\n",
       "</div>"
      ],
      "text/plain": [
       "   sepal_length  sepal_width  petal_length  petal_width species\n",
       "0           5.1          3.5           1.4          0.2  setosa\n",
       "1           4.9          3.0           1.4          0.2  setosa\n",
       "2           4.7          3.2           1.3          0.2  setosa\n",
       "3           4.6          3.1           1.5          0.2  setosa\n",
       "4           5.0          3.6           1.4          0.2  setosa"
      ]
     },
     "execution_count": 18,
     "metadata": {},
     "output_type": "execute_result"
    }
   ],
   "source": [
    "import seaborn as sns\n",
    "\n",
    "vp_df = sns.load_dataset('iris')\n",
    "vp_df.head()"
   ]
  },
  {
   "cell_type": "code",
   "execution_count": 25,
   "id": "5423561c",
   "metadata": {},
   "outputs": [
    {
     "data": {
      "text/plain": [
       "np.float64(3.6000000000000005)"
      ]
     },
     "execution_count": 25,
     "metadata": {},
     "output_type": "execute_result"
    }
   ],
   "source": [
    "# sepal_length 의 범위\n",
    "vp_df['sepal_length'].max() - vp_df['sepal_length'].min()"
   ]
  },
  {
   "cell_type": "code",
   "execution_count": 35,
   "id": "0fc263f6",
   "metadata": {},
   "outputs": [
    {
     "name": "stdout",
     "output_type": "stream",
     "text": [
      "sepal_length의 범위: 3.6000000000000005\n",
      "sepal_width의 범위: 2.4000000000000004\n",
      "petal_length의 범위: 5.9\n",
      "petal_width의 범위: 2.4\n"
     ]
    }
   ],
   "source": [
    "# 모든 속성의 범위를 확인\n",
    "\n",
    "for column in vp_df.columns:\n",
    "    if vp_df[column].dtype != 'object':  # 숫자형 컬럼만 대상\n",
    "        value_range = vp_df[column].max() - vp_df[column].min()\n",
    "        print(f\"{column}의 범위: {value_range}\")\n",
    "    else:\n",
    "        pass"
   ]
  },
  {
   "cell_type": "markdown",
   "id": "72befe14",
   "metadata": {},
   "source": [
    "변동성일 가장 큰 속성은 petal_length입니다.\n",
    "petal_length와 petal_width가 sepal_length와 sepal_width보다 상대적으로 변동성이 큽니다.\n",
    "\n",
    "모델 생성시에 다루어야하는 속성으로 볼 수 있습니다."
   ]
  },
  {
   "cell_type": "code",
   "execution_count": null,
   "id": "01ea90ec",
   "metadata": {},
   "outputs": [
    {
     "data": {
      "text/plain": [
       "<matplotlib.collections.PathCollection at 0x1e5f2566060>"
      ]
     },
     "execution_count": 32,
     "metadata": {},
     "output_type": "execute_result"
    },
    {
     "data": {
      "image/png": "[encoded data removed]",
      "text/plain": [
       "<Figure size 640x480 with 1 Axes>"
      ]
     },
     "metadata": {},
     "output_type": "display_data"
    }
   ],
   "source": [
    "# 산포도로 변동성 확인하기\n",
    "# petal_length와 petal_width\n",
    "plt.scatter(vp_df['petal_length'], vp_df['petal_width'])"
   ]
  },
  {
   "cell_type": "code",
   "execution_count": 34,
   "id": "34ff74d9",
   "metadata": {},
   "outputs": [
    {
     "data": {
      "text/plain": [
       "<matplotlib.collections.PathCollection at 0x1e5f2a91310>"
      ]
     },
     "execution_count": 34,
     "metadata": {},
     "output_type": "execute_result"
    },
    {
     "data": {
      "image/png": "[encoded data removed]",
      "text/plain": [
       "<Figure size 640x480 with 1 Axes>"
      ]
     },
     "metadata": {},
     "output_type": "display_data"
    }
   ],
   "source": [
    "# sepal_length와 sepal_width\n",
    "plt.scatter(vp_df['sepal_length'], vp_df['sepal_width'])"
   ]
  },
  {
   "cell_type": "markdown",
   "id": "91d206ce",
   "metadata": {},
   "source": [
    "산포도를 이용해 극단적인 다른 데이터(이상치)가 있는지를 확인해야 한다."
   ]
  }
 ],
 "metadata": {
  "kernelspec": {
   "display_name": "anal_env",
   "language": "python",
   "name": "python3"
  },
  "language_info": {
   "codemirror_mode": {
    "name": "ipython",
    "version": 3
   },
   "file_extension": ".py",
   "mimetype": "text/x-python",
   "name": "python",
   "nbconvert_exporter": "python",
   "pygments_lexer": "ipython3",
   "version": "3.12.11"
  }
 },
 "nbformat": 4,
 "nbformat_minor": 5
}
