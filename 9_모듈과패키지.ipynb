{
 "cells": [
  {
   "cell_type": "markdown",
   "id": "5a4a7c33-1935-4544-b71e-82e011e46226",
   "metadata": {},
   "source": [
    "모듈은 파이썬 파일이다. 확장자가 `.py` 여야 한다."
   ]
  },
  {
   "cell_type": "code",
   "execution_count": 1,
   "id": "0b21a6fe-6c07-4da1-842e-08086535b8fe",
   "metadata": {},
   "outputs": [
    {
     "name": "stdout",
     "output_type": "stream",
     "text": [
      "first module입니다.\n",
      "the end..\n",
      "hello\n",
      "hello\n",
      "2nd hello\n"
     ]
    }
   ],
   "source": [
    "import first\n",
    "\n",
    "first.my_func()\n",
    "first.my_func1()"
   ]
  },
  {
   "cell_type": "code",
   "execution_count": 2,
   "id": "9a362d70-63c2-4851-9a68-d8c9ba361765",
   "metadata": {},
   "outputs": [
    {
     "name": "stdout",
     "output_type": "stream",
     "text": [
      "3rd hello 나올까?\n"
     ]
    }
   ],
   "source": [
    "import first as fr\n",
    "fr.my_func2()"
   ]
  },
  {
   "cell_type": "code",
   "execution_count": 1,
   "id": "c81fce27-d3d0-4ec0-8a90-938cfa6ec333",
   "metadata": {},
   "outputs": [
    {
     "name": "stdout",
     "output_type": "stream",
     "text": [
      "first module입니다.\n",
      "the end..\n",
      "hello\n"
     ]
    }
   ],
   "source": [
    "from first import my_func\n",
    "my_func()"
   ]
  },
  {
   "cell_type": "code",
   "execution_count": 1,
   "id": "73921da3-da84-48d8-9c36-a5ef757f2c75",
   "metadata": {},
   "outputs": [
    {
     "name": "stdout",
     "output_type": "stream",
     "text": [
      "first module입니다.\n",
      "the end..\n",
      "hello\n",
      "hello\n"
     ]
    }
   ],
   "source": [
    "from first import *\n",
    "my_func()"
   ]
  },
  {
   "cell_type": "code",
   "execution_count": 2,
   "id": "fb534852-e49e-4024-a3cd-ed200f0d4d14",
   "metadata": {},
   "outputs": [
    {
     "ename": "NameError",
     "evalue": "name 'my_func1' is not defined",
     "output_type": "error",
     "traceback": [
      "\u001b[31m---------------------------------------------------------------------------\u001b[39m",
      "\u001b[31mNameError\u001b[39m                                 Traceback (most recent call last)",
      "\u001b[36mCell\u001b[39m\u001b[36m \u001b[39m\u001b[32mIn[2]\u001b[39m\u001b[32m, line 1\u001b[39m\n\u001b[32m----> \u001b[39m\u001b[32m1\u001b[39m my_func1()\n",
      "\u001b[31mNameError\u001b[39m: name 'my_func1' is not defined"
     ]
    }
   ],
   "source": [
    "my_func1()"
   ]
  },
  {
   "cell_type": "code",
   "execution_count": 3,
   "id": "19b6df38-4e93-47af-8907-8190311b6fe8",
   "metadata": {
    "scrolled": true
   },
   "outputs": [
    {
     "data": {
      "text/plain": [
       "['__annotations__',\n",
       " '__builtins__',\n",
       " '__call__',\n",
       " '__class__',\n",
       " '__closure__',\n",
       " '__code__',\n",
       " '__defaults__',\n",
       " '__delattr__',\n",
       " '__dict__',\n",
       " '__dir__',\n",
       " '__doc__',\n",
       " '__eq__',\n",
       " '__format__',\n",
       " '__ge__',\n",
       " '__get__',\n",
       " '__getattribute__',\n",
       " '__getstate__',\n",
       " '__globals__',\n",
       " '__gt__',\n",
       " '__hash__',\n",
       " '__init__',\n",
       " '__init_subclass__',\n",
       " '__kwdefaults__',\n",
       " '__le__',\n",
       " '__lt__',\n",
       " '__module__',\n",
       " '__name__',\n",
       " '__ne__',\n",
       " '__new__',\n",
       " '__qualname__',\n",
       " '__reduce__',\n",
       " '__reduce_ex__',\n",
       " '__repr__',\n",
       " '__setattr__',\n",
       " '__sizeof__',\n",
       " '__str__',\n",
       " '__subclasshook__',\n",
       " '__type_params__']"
      ]
     },
     "execution_count": 3,
     "metadata": {},
     "output_type": "execute_result"
    }
   ],
   "source": [
    "dir(my_func)"
   ]
  },
  {
   "cell_type": "code",
   "execution_count": 5,
   "id": "91712e7a-eabd-4e9d-8863-a93316875531",
   "metadata": {},
   "outputs": [
    {
     "name": "stdout",
     "output_type": "stream",
     "text": [
      "first module입니다.\n",
      "the end..\n",
      "hello\n"
     ]
    }
   ],
   "source": [
    "import my_first_package.second"
   ]
  },
  {
   "cell_type": "markdown",
   "id": "bb202763-0946-497e-9a48-b72ca5e2fbf9",
   "metadata": {},
   "source": [
    "# 모듈의 실행 vs 모듈의 import 구분\n",
    "\n",
    "- 모듈 단독 실행시에만 호출되는 코드\n",
    "```python\n",
    "if __name__ == \"__main__\":\n",
    "    실행함수()\n",
    "else:\n",
    "    변수설정\n",
    "- import 할 때는 실행되지 않는다."
   ]
  },
  {
   "cell_type": "markdown",
   "id": "c58bfd8c-ce63-41bf-84b7-51b9311c8d1b",
   "metadata": {},
   "source": [
    "# 패키지: 모듈의 묶음\n",
    "\n",
    "윈도우, 리눅스: 디렉토리/폴더\n",
    "\n",
    "import 폴더명, 파일명"
   ]
  },
  {
   "cell_type": "code",
   "execution_count": 2,
   "id": "f58c9b25-e552-49ca-b1ca-3fe94cbb4f43",
   "metadata": {},
   "outputs": [
    {
     "name": "stdout",
     "output_type": "stream",
     "text": [
      "first module입니다.\n",
      "the end..\n",
      "hello\n"
     ]
    }
   ],
   "source": [
    "import my_first_package.second"
   ]
  },
  {
   "cell_type": "code",
   "execution_count": null,
   "id": "2033054a-1441-4eb1-b3ec-5314878504ab",
   "metadata": {},
   "outputs": [],
   "source": [
    "%%writefile my_first_package.magic_calc.basic."
   ]
  },
  {
   "cell_type": "code",
   "execution_count": 3,
   "id": "19d57309-c9f9-46ac-a6ac-11832f7f4eb6",
   "metadata": {},
   "outputs": [
    {
     "ename": "ModuleNotFoundError",
     "evalue": "No module named 'magic_calc'",
     "output_type": "error",
     "traceback": [
      "\u001b[31m---------------------------------------------------------------------------\u001b[39m",
      "\u001b[31mModuleNotFoundError\u001b[39m                       Traceback (most recent call last)",
      "\u001b[36mCell\u001b[39m\u001b[36m \u001b[39m\u001b[32mIn[3]\u001b[39m\u001b[32m, line 4\u001b[39m\n\u001b[32m      1\u001b[39m \u001b[38;5;66;03m#my_project\\main_app.py\u001b[39;00m\n\u001b[32m      2\u001b[39m \n\u001b[32m      3\u001b[39m \u001b[38;5;66;03m#방법1\u001b[39;00m\n\u001b[32m----> \u001b[39m\u001b[32m4\u001b[39m \u001b[38;5;28;01mimport\u001b[39;00m\u001b[38;5;250m \u001b[39m\u001b[34;01mmagic_calc\u001b[39;00m\n\u001b[32m      6\u001b[39m result_add = magic_calc.basic_ops.add(\u001b[32m10\u001b[39m,\u001b[32m5\u001b[39m)\n\u001b[32m      7\u001b[39m \u001b[38;5;28mprint\u001b[39m(result_add)\n",
      "\u001b[31mModuleNotFoundError\u001b[39m: No module named 'magic_calc'"
     ]
    }
   ],
   "source": [
    "#my_project\\main_app.py\n",
    "\n",
    "#방법1\n",
    "import magic_calc\n",
    "\n",
    "result_add = magic_calc.basic_ops.add(10,5)\n",
    "print(result_add)\n"
   ]
  }
 ],
 "metadata": {
  "kernelspec": {
   "display_name": "Python 3 (ipykernel)",
   "language": "python",
   "name": "python3"
  },
  "language_info": {
   "codemirror_mode": {
    "name": "ipython",
    "version": 3
   },
   "file_extension": ".py",
   "mimetype": "text/x-python",
   "name": "python",
   "nbconvert_exporter": "python",
   "pygments_lexer": "ipython3",
   "version": "3.12.9"
  }
 },
 "nbformat": 4,
 "nbformat_minor": 5
}
