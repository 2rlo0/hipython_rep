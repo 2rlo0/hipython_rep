{
 "cells": [
  {
   "cell_type": "code",
   "execution_count": null,
   "id": "5831fc02",
   "metadata": {},
   "outputs": [
    {
     "name": "stdout",
     "output_type": "stream",
     "text": [
      "c:\\githome\\hipython_rep/html/basic2.html\n"
     ]
    }
   ],
   "source": [
    "from selenium.webdriver import Chrome\n",
    "import os\n",
    "\n",
    "# 파일의 절대경로\n",
    "file_path = os.getcwd() + '/html/basic2.html'\n",
    "print(file_path)"
   ]
  },
  {
   "cell_type": "code",
   "execution_count": 11,
   "id": "f5d8ceb5",
   "metadata": {},
   "outputs": [
    {
     "data": {
      "text/plain": [
       "'file:///c:\\\\githome\\\\hipython_rep/html/basic2.html'"
      ]
     },
     "execution_count": 11,
     "metadata": {},
     "output_type": "execute_result"
    }
   ],
   "source": [
    "url = 'file:///' + file_path\n",
    "url"
   ]
  },
  {
   "cell_type": "code",
   "execution_count": 12,
   "id": "a81509e7",
   "metadata": {},
   "outputs": [],
   "source": [
    "from selenium import webdriver\n",
    "\n",
    "driver = webdriver.Chrome() # 웹드라이버 객체. 미니 크롬 열림\n",
    "driver.get(url)"
   ]
  },
  {
   "cell_type": "code",
   "execution_count": null,
   "id": "ed92b624",
   "metadata": {},
   "outputs": [],
   "source": [
    "# username 값 설정\n",
    "username_el = driver.find_element(by='name', value='username')\n",
    "username_el.send_keys('young')\n",
    "\n",
    "# password 값 설정\n",
    "password_el = driver.find_element(by='name', value='password')\n",
    "password_el.send_keys('lee')"
   ]
  },
  {
   "cell_type": "code",
   "execution_count": null,
   "id": "56110b54",
   "metadata": {},
   "outputs": [],
   "source": [
    "# 파이썬전문가그룹 링크값\n",
    "link = driver.find_element(by='link text', value='파이썬전문가그룹')\n",
    "link.click() # 링크 클릭하기"
   ]
  },
  {
   "cell_type": "code",
   "execution_count": 25,
   "id": "2a1edc2a",
   "metadata": {},
   "outputs": [],
   "source": [
    "driver.back() # 돌아가기"
   ]
  },
  {
   "cell_type": "markdown",
   "id": "edf7e892",
   "metadata": {},
   "source": [
    "# 검색 결과 가져오기"
   ]
  },
  {
   "cell_type": "code",
   "execution_count": 32,
   "id": "e237c37a",
   "metadata": {},
   "outputs": [],
   "source": [
    "from selenium import webdriver\n",
    "\n",
    "driver = webdriver.Chrome() # 웹드라이버 객체. 미니 크롬 열림\n",
    "driver.get('https://www.python.org/')"
   ]
  },
  {
   "cell_type": "code",
   "execution_count": 33,
   "id": "0905a6d3",
   "metadata": {},
   "outputs": [],
   "source": [
    "from selenium.webdriver.common.by import By"
   ]
  },
  {
   "cell_type": "code",
   "execution_count": null,
   "id": "ff5d5581",
   "metadata": {},
   "outputs": [],
   "source": [
    "input_el = driver.find_element(by=By.ID, value=\"id-search-field\")\n",
    "input_el.send_keys('pycon') # 검색어 입력"
   ]
  },
  {
   "cell_type": "code",
   "execution_count": 35,
   "id": "ef2624b1",
   "metadata": {},
   "outputs": [],
   "source": [
    "input_el2 = driver.find_element(by='css selector', value=\"#id-search-field\")\n",
    "input_el2.send_keys('hahhaha')"
   ]
  },
  {
   "cell_type": "code",
   "execution_count": null,
   "id": "fbe9db44",
   "metadata": {},
   "outputs": [],
   "source": [
    "from selenium import webdriver\n",
    "from selenium.webdriver.common.keys import Keys\n",
    "\n",
    "driver = webdriver.Chrome() # 웹드라이버 객체. 미니 크롬 열림\n",
    "driver.get('https://www.python.org/')\n",
    "\n",
    "input_el = driver.find_element(by=By.ID, value=\"id-search-field\")\n",
    "input_el.send_keys('pycon') # 검색어 입력\n",
    "\n",
    "input_el.send_keys(Keys.RETURN) # 엔터키 입력"
   ]
  },
  {
   "cell_type": "code",
   "execution_count": 41,
   "id": "44ff418b",
   "metadata": {},
   "outputs": [
    {
     "name": "stdout",
     "output_type": "stream",
     "text": [
      "20\n",
      "PSF PyCon Trademark Usage Policy\n",
      "PyCon Italia 2016 (PyCon Sette)\n",
      "PyCon Australia 2013\n",
      "PyCon AU 2019\n",
      "PyCon NL 2025\n",
      "PyCon Australia 2014\n",
      "PyCon Ireland 2012\n",
      "PyCon Ireland 2016\n",
      "PyCon Ireland 2022\n",
      "PyCon Australia 2014\n",
      "PyCon Ireland 2024\n",
      "PyCon APAC 2025\n",
      "PyCon AU 2018\n",
      "PyCon APAC 2022\n",
      "PyCon PH 2024\n",
      "PyCon Ireland 2023\n",
      "PyCon PL 2014\n",
      "PyCon MY 2015\n",
      "PyCon Ireland 2015\n",
      "PyCon AU 2015\n"
     ]
    }
   ],
   "source": [
    "#content > div > section > form > ul > li:nth-child(2) > h3 > a\n",
    "result_list = driver.find_elements(by='css selector', value='form li h3 > a')\n",
    "print(len(result_list))\n",
    "for result in result_list:\n",
    "    print(result.text)"
   ]
  },
  {
   "cell_type": "code",
   "execution_count": 46,
   "id": "09da449a",
   "metadata": {},
   "outputs": [
    {
     "name": "stdout",
     "output_type": "stream",
     "text": [
      "20\n",
      "PSF PyCon Trademark Usage Policy\n",
      "PyCon Italia 2016 (PyCon Sette)\n",
      "PyCon Australia 2013\n",
      "PyCon AU 2019\n",
      "PyCon NL 2025\n",
      "PyCon Australia 2014\n",
      "PyCon Ireland 2012\n",
      "PyCon Ireland 2016\n",
      "PyCon Ireland 2022\n",
      "PyCon Australia 2014\n",
      "PyCon Ireland 2024\n",
      "PyCon APAC 2025\n",
      "PyCon AU 2018\n",
      "PyCon APAC 2022\n",
      "PyCon PH 2024\n",
      "PyCon Ireland 2023\n",
      "PyCon PL 2014\n",
      "PyCon MY 2015\n",
      "PyCon Ireland 2015\n",
      "PyCon AU 2015\n"
     ]
    }
   ],
   "source": [
    "from selenium import webdriver\n",
    "from selenium.webdriver.common.keys import Keys\n",
    "\n",
    "driver = webdriver.Chrome() # 웹드라이버 객체. 미니 크롬 열림\n",
    "driver.get('https://www.python.org/')\n",
    "input_el = driver.find_element(by=By.ID, value=\"id-search-field\")\n",
    "input_el.send_keys('pycon') # 검색어 입력\n",
    "input_el.send_keys(Keys.RETURN) # 엔터키 입력\n",
    "\n",
    "driver.implicitly_wait(1) # 명시적 대기\n",
    "\n",
    "#content > div > section > form > ul > li:nth-child(2) > h3 > a\n",
    "result_list = driver.find_elements(by='css selector', value='form li h3 > a')\n",
    "print(len(result_list))\n",
    "for result in result_list:\n",
    "    print(result.text)"
   ]
  },
  {
   "cell_type": "markdown",
   "id": "44b061fb",
   "metadata": {},
   "source": [
    "# 날씨 정보를 일반적 조건으로 대기해서 가져오기"
   ]
  },
  {
   "cell_type": "code",
   "execution_count": 48,
   "id": "0efe554a",
   "metadata": {},
   "outputs": [],
   "source": [
    "import requests"
   ]
  },
  {
   "cell_type": "code",
   "execution_count": 56,
   "id": "5833742f",
   "metadata": {},
   "outputs": [
    {
     "data": {
      "text/plain": [
       "<Response [200]>"
      ]
     },
     "execution_count": 56,
     "metadata": {},
     "output_type": "execute_result"
    }
   ],
   "source": [
    "url = 'https://www.weather.go.kr/w/index.do'\n",
    "res = requests.get(url)\n",
    "res"
   ]
  },
  {
   "cell_type": "code",
   "execution_count": 57,
   "id": "fd713079",
   "metadata": {},
   "outputs": [
    {
     "data": {
      "text/plain": [
       "[]"
      ]
     },
     "execution_count": 57,
     "metadata": {},
     "output_type": "execute_result"
    }
   ],
   "source": [
    "from bs4 import BeautifulSoup\n",
    "soup = BeautifulSoup(res.text, 'html.parser')\n",
    "soup.select(\".tmp\") # 비동기 방식"
   ]
  },
  {
   "cell_type": "code",
   "execution_count": 58,
   "id": "dc844367",
   "metadata": {},
   "outputs": [],
   "source": [
    "#current-weather > div.cmp-cur-weather.wbg.wbg-type2.BGDB00 > ul.wrap-1 > li.w-icon.w-temp.no-w > span.tmp"
   ]
  },
  {
   "cell_type": "code",
   "execution_count": 63,
   "id": "6bb94f6a",
   "metadata": {},
   "outputs": [
    {
     "data": {
      "text/plain": [
       "'35.7℃'"
      ]
     },
     "execution_count": 63,
     "metadata": {},
     "output_type": "execute_result"
    }
   ],
   "source": [
    "from selenium.webdriver import Chrome\n",
    "import time \n",
    "# res = requests.get(url)\n",
    "driver = Chrome()\n",
    "driver.get(url)\n",
    "time.sleep(3) # 명시적 대기\n",
    "element = driver.find_element(by='css selector', value='div#current-weather span.tmp')\n",
    "element.text"
   ]
  },
  {
   "cell_type": "code",
   "execution_count": 62,
   "id": "fdd946f9",
   "metadata": {},
   "outputs": [
    {
     "name": "stdout",
     "output_type": "stream",
     "text": [
      "35.7℃\n"
     ]
    }
   ],
   "source": [
    "# 일반적 대기\n",
    "from selenium.webdriver.support import expected_conditions as EC\n",
    "from selenium.webdriver.support.ui import WebDriverWait\n",
    "driver = Chrome()\n",
    "driver.get(url)\n",
    "wait = WebDriverWait(driver, 3)\n",
    "element2 = wait.until(\n",
    "    # element = driver.(by='css selector', value='div#current-weather span.tmp')\n",
    "    EC.presence_of_element_located(('css selector', 'div#current-weather span.tmp'))\n",
    ")\n",
    "print(element2.text)\n",
    "driver.close()"
   ]
  },
  {
   "cell_type": "code",
   "execution_count": null,
   "id": "b5a1731b",
   "metadata": {},
   "outputs": [],
   "source": []
  }
 ],
 "metadata": {
  "kernelspec": {
   "display_name": "webcrawl_env",
   "language": "python",
   "name": "python3"
  },
  "language_info": {
   "codemirror_mode": {
    "name": "ipython",
    "version": 3
   },
   "file_extension": ".py",
   "mimetype": "text/x-python",
   "name": "python",
   "nbconvert_exporter": "python",
   "pygments_lexer": "ipython3",
   "version": "3.10.18"
  }
 },
 "nbformat": 4,
 "nbformat_minor": 5
}
