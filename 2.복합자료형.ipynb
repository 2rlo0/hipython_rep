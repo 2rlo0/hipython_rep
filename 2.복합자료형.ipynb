{
 "cells": [
  {
   "cell_type": "markdown",
   "id": "d904e274-dab6-452b-b4b0-98c74bd72bb2",
   "metadata": {},
   "source": [
    "# 복합자료"
   ]
  },
  {
   "cell_type": "code",
   "execution_count": null,
   "id": "33f34194-c783-47f2-b070-25079703ecf4",
   "metadata": {},
   "outputs": [],
   "source": []
  },
  {
   "cell_type": "code",
   "execution_count": null,
   "id": "b1c8c675-0fbc-4d01-b8fb-430532b08ff7",
   "metadata": {},
   "outputs": [],
   "source": []
  },
  {
   "cell_type": "code",
   "execution_count": null,
   "id": "8a74b8fe-cb05-4f8b-9b02-12cf7e8a6eb2",
   "metadata": {},
   "outputs": [],
   "source": []
  },
  {
   "cell_type": "code",
   "execution_count": null,
   "id": "d6aab495-4cbb-40fa-95b5-600e80f8cf63",
   "metadata": {},
   "outputs": [],
   "source": []
  },
  {
   "cell_type": "code",
   "execution_count": null,
   "id": "a080cbfd-fb58-4b6d-ac13-10e8181d4591",
   "metadata": {},
   "outputs": [],
   "source": []
  },
  {
   "cell_type": "code",
   "execution_count": null,
   "id": "6380c456-4aec-4249-afb4-cefe98db37e1",
   "metadata": {},
   "outputs": [],
   "source": []
  }
 ],
 "metadata": {
  "kernelspec": {
   "display_name": "Python 3 (ipykernel)",
   "language": "python",
   "name": "python3"
  },
  "language_info": {
   "codemirror_mode": {
    "name": "ipython",
    "version": 3
   },
   "file_extension": ".py",
   "mimetype": "text/x-python",
   "name": "python",
   "nbconvert_exporter": "python",
   "pygments_lexer": "ipython3",
   "version": "3.12.9"
  }
 },
 "nbformat": 4,
 "nbformat_minor": 5
}
