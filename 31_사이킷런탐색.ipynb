{
 "cells": [
  {
   "cell_type": "code",
   "execution_count": null,
   "id": "cf3bcda3",
   "metadata": {},
   "outputs": [],
   "source": [
    "from sklearn.datasets import load_diabetes\n",
    "import pandas as pd\n",
    "load_diabetes = load_diabetes()\n",
    "load_diabetes.keys()\n"
   ]
  },
  {
   "cell_type": "code",
   "execution_count": null,
   "id": "346ae547",
   "metadata": {},
   "outputs": [],
   "source": [
    "df = pd.DataFrame(data = load_diabetes.data, columns = load_diabetes.feature_names)\n",
    "df.head()"
   ]
  },
  {
   "cell_type": "markdown",
   "id": "c00f6b6f",
   "metadata": {},
   "source": [
    "# 머신러닝 프로세스\n",
    "1. 데이터 수집\n",
    "2. 데이터 전처리\n",
    "3. 데이터 탐색\n",
    "\n",
    "4. 모델 선택\n",
    "5. 모델 학습\n",
    "6. 모델 평가\n",
    "7. 모델 개선\n",
    "8. 모델 배포"
   ]
  },
  {
   "cell_type": "markdown",
   "id": "6cb1bfac",
   "metadata": {},
   "source": [
    "# 데이터 수집"
   ]
  },
  {
   "cell_type": "code",
   "execution_count": null,
   "id": "32474c64",
   "metadata": {},
   "outputs": [],
   "source": [
    "from sklearn.datasets import load_iris\n",
    "load_iris = load_iris()\n",
    "iris_data = load_iris.data\n",
    "iris_data # X"
   ]
  },
  {
   "cell_type": "code",
   "execution_count": null,
   "id": "ba0bbd0b",
   "metadata": {},
   "outputs": [],
   "source": [
    "iris_label = load_iris.target #y\n",
    "iris_label"
   ]
  },
  {
   "cell_type": "code",
   "execution_count": null,
   "id": "0db8d583",
   "metadata": {},
   "outputs": [],
   "source": [
    "load_iris.target_names, load_iris.feature_names"
   ]
  },
  {
   "cell_type": "markdown",
   "id": "4ce9de70",
   "metadata": {},
   "source": [
    "## 데이터 분할"
   ]
  },
  {
   "cell_type": "code",
   "execution_count": 8,
   "id": "2fd03019",
   "metadata": {},
   "outputs": [],
   "source": [
    "from sklearn.model_selection import train_test_split\n",
    "X_train, X_test, y_train, y_test = train_test_split(iris_data, iris_label, test_size=0.2, random_state=42) # x, y, 8:2"
   ]
  },
  {
   "cell_type": "markdown",
   "id": "c2a2c869",
   "metadata": {},
   "source": [
    "## 모델 생성"
   ]
  },
  {
   "cell_type": "code",
   "execution_count": null,
   "id": "d147fc12",
   "metadata": {},
   "outputs": [],
   "source": [
    "from sklearn.tree import DecisionTreeClassifier\n",
    "dt_clf = DecisionTreeClassifier()\n",
    "dt_clf"
   ]
  },
  {
   "cell_type": "markdown",
   "id": "2919dad6",
   "metadata": {},
   "source": [
    "## 모델 학습"
   ]
  },
  {
   "cell_type": "code",
   "execution_count": null,
   "id": "9fdf9819",
   "metadata": {},
   "outputs": [],
   "source": [
    "dt_clf.fit(X_train, y_train)"
   ]
  },
  {
   "cell_type": "code",
   "execution_count": null,
   "id": "99da2dcb",
   "metadata": {},
   "outputs": [],
   "source": [
    "pred = dt_clf.predict(X_test)\n",
    "pred"
   ]
  },
  {
   "cell_type": "markdown",
   "id": "020d05e4",
   "metadata": {},
   "source": [
    "## 평가"
   ]
  },
  {
   "cell_type": "code",
   "execution_count": null,
   "id": "7deb2f7a",
   "metadata": {},
   "outputs": [],
   "source": [
    "from sklearn.metrics import accuracy_score\n",
    "accuracy_score(y_test, pred) # 정확도"
   ]
  },
  {
   "cell_type": "markdown",
   "id": "a7ce9e9a",
   "metadata": {},
   "source": [
    "# 의사결정 나무 시각화"
   ]
  },
  {
   "cell_type": "code",
   "execution_count": 87,
   "id": "6eac4f42",
   "metadata": {},
   "outputs": [],
   "source": [
    "import graphviz\n",
    "from sklearn.tree import export_graphviz"
   ]
  },
  {
   "cell_type": "code",
   "execution_count": null,
   "id": "68ff8cc3",
   "metadata": {},
   "outputs": [],
   "source": [
    "export_graphviz(dt_clf, out_file=\"tree.dot\", \n",
    "                class_names=load_iris.target_names,)\n",
    "with open(\"tree.dot\") as f:\n",
    "    dot_graph = f.read()\n",
    "graphviz.Source(dot_graph)"
   ]
  },
  {
   "cell_type": "markdown",
   "id": "e434ab83",
   "metadata": {},
   "source": [
    "# 교차검증"
   ]
  },
  {
   "cell_type": "code",
   "execution_count": null,
   "id": "d5ba84b2",
   "metadata": {},
   "outputs": [],
   "source": [
    "from sklearn.model_selection import KFold\n",
    "kfold = KFold(n_splits=5)\n",
    "iris_clf = DecisionTreeClassifier(random_state=156)\n",
    "iris_data, iris_label"
   ]
  },
  {
   "cell_type": "code",
   "execution_count": null,
   "id": "461c87b9",
   "metadata": {},
   "outputs": [],
   "source": [
    "for train_index, test_index in kfold.split(iris_data):\n",
    "    X_train, X_test = iris_data[train_index], iris_data[test_index]\n",
    "    y_train, y_test = iris_label[train_index], iris_label[test_index]\n",
    "    \n",
    "    iris_clf.fit(X_train, y_train)\n",
    "    pred = iris_clf.predict(X_test)\n",
    "    accuracy = accuracy_score(y_test, pred)\n",
    "    print(f\"Accuracy: {accuracy:.4f}\")"
   ]
  },
  {
   "cell_type": "markdown",
   "id": "932dfd74",
   "metadata": {},
   "source": [
    "# stratified split"
   ]
  },
  {
   "cell_type": "code",
   "execution_count": null,
   "id": "0f3ed1b6",
   "metadata": {},
   "outputs": [],
   "source": [
    "from sklearn.datasets import load_iris\n",
    "iris = load_iris()\n",
    "iris_df = pd.DataFrame(data = iris.data, columns=iris.feature_names )\n",
    "iris_df['label']  = iris.target\n",
    "iris_df['label'].value_counts()"
   ]
  },
  {
   "cell_type": "code",
   "execution_count": null,
   "id": "4f3aff8f",
   "metadata": {},
   "outputs": [],
   "source": [
    "from sklearn.model_selection import StratifiedKFold\n",
    "skf = StratifiedKFold(n_splits=5)\n",
    "for train_index, test_index in skf.split(iris_df, iris_df['label']):\n",
    "  y_train = iris_df['label'].iloc[train_index]\n",
    "  y_test =  iris_df['label'].iloc[test_index]\n",
    "  print(f'train 분포: {y_train.value_counts()}')\n",
    "  print(f'test 분포: {y_test.value_counts()}')"
   ]
  },
  {
   "cell_type": "code",
   "execution_count": null,
   "id": "594b44b6",
   "metadata": {},
   "outputs": [],
   "source": [
    "from sklearn.model_selection import StratifiedKFold\n",
    "skf = StratifiedKFold(n_splits=5)\n",
    "\n",
    "for train_index, test_index in skf.split(iris_df, iris_df['label']):\n",
    "  train_data = iris_df.iloc[train_index]\n",
    "  test_data = iris_df.iloc[test_index]\n",
    "  X_train = train_data[iris.feature_names]\n",
    "  X_test = test_data[iris.feature_names]\n",
    "\n",
    "  y_train = train_data['label']\n",
    "  y_test =  test_data['label']\n",
    "\n",
    "  model = DecisionTreeClassifier(random_state=156)\n",
    "  model.fit(X_train, y_train)\n",
    "  pred = model.predict(X_test)\n",
    "  acc = accuracy_score(y_test, pred)\n",
    "  print(f'acc : {acc}')"
   ]
  },
  {
   "cell_type": "markdown",
   "id": "c27afc4a",
   "metadata": {},
   "source": [
    "# cross_val_score()의 적용"
   ]
  },
  {
   "cell_type": "code",
   "execution_count": 130,
   "id": "b024b504",
   "metadata": {},
   "outputs": [],
   "source": [
    "from sklearn.model_selection import cross_val_score, cross_validate"
   ]
  },
  {
   "cell_type": "code",
   "execution_count": null,
   "id": "a6ae9811",
   "metadata": {},
   "outputs": [],
   "source": [
    "X = iris.data\n",
    "y = iris.target\n",
    "model = DecisionTreeClassifier(random_state=156)\n",
    "cross_val_score(model,X,y, cv = 5, scoring='accuracy')"
   ]
  },
  {
   "cell_type": "code",
   "execution_count": null,
   "id": "c2eafd6f",
   "metadata": {},
   "outputs": [],
   "source": [
    "skf = StratifiedKFold(n_splits=5)\n",
    "cross_val_score(model,X,y,cv=skf, scoring='accuracy')"
   ]
  },
  {
   "cell_type": "code",
   "execution_count": null,
   "id": "da255424",
   "metadata": {},
   "outputs": [],
   "source": [
    "results = cross_validate(model, X,y, cv=skf, scoring='accuracy')\n",
    "results['test_score']"
   ]
  },
  {
   "cell_type": "markdown",
   "id": "a6f5a0ca",
   "metadata": {},
   "source": [
    "# GridSearchCV - 하이퍼파라미터 + 교차검증"
   ]
  },
  {
   "cell_type": "code",
   "execution_count": 118,
   "id": "1e9486e5",
   "metadata": {},
   "outputs": [],
   "source": [
    "X_train, X_test, y_train, y_test = train_test_split(iris_data, iris_label, test_size=0.2, random_state=121)"
   ]
  },
  {
   "cell_type": "code",
   "execution_count": null,
   "id": "7041df32",
   "metadata": {},
   "outputs": [],
   "source": [
    "from sklearn.model_selection import GridSearchCV\n",
    "dt_clf2 = DecisionTreeClassifier(random_state=121)\n",
    "params = {'max_depth': [1,2,3], 'min_samples_split':[2,3]}\n",
    "grid_dtree = GridSearchCV(dt_clf2, param_grid=params, cv=3, refit=True)\n",
    "grid_dtree.fit(X_train,y_train)"
   ]
  },
  {
   "cell_type": "code",
   "execution_count": null,
   "id": "17ab8cd9",
   "metadata": {},
   "outputs": [],
   "source": [
    "pd.DataFrame(grid_dtree.cv_results_)"
   ]
  },
  {
   "cell_type": "code",
   "execution_count": null,
   "id": "b30aa296",
   "metadata": {},
   "outputs": [],
   "source": [
    "b_model = grid_dtree.best_estimator_ # 최적의 모델\n",
    "pred = b_model.predict(X_test)\n",
    "accuracy_score(y_test, pred)"
   ]
  },
  {
   "cell_type": "code",
   "execution_count": null,
   "id": "9147bdbc",
   "metadata": {},
   "outputs": [],
   "source": [
    "grid_dtree.best_params_# 가장 성능이 좋았던 파라미터들"
   ]
  },
  {
   "cell_type": "code",
   "execution_count": null,
   "id": "e1555b81",
   "metadata": {},
   "outputs": [],
   "source": []
  },
  {
   "cell_type": "markdown",
   "id": "179c7288",
   "metadata": {},
   "source": [
    "# titanic dataset 으로 분류 모델 만들기"
   ]
  },
  {
   "cell_type": "code",
   "execution_count": null,
   "id": "534c7ebd",
   "metadata": {},
   "outputs": [],
   "source": [
    "import pandas as pd\n",
    "df = pd.read_csv('./data/titanic.csv')\n",
    "df"
   ]
  },
  {
   "cell_type": "code",
   "execution_count": null,
   "id": "caf41180",
   "metadata": {},
   "outputs": [],
   "source": [
    "print(df.isnull().sum())\n",
    "df.info()"
   ]
  },
  {
   "cell_type": "code",
   "execution_count": 137,
   "id": "5800c1b1",
   "metadata": {},
   "outputs": [],
   "source": [
    "X = df[['Pclass', 'SibSp']]\n",
    "y = df['Survived']\n",
    "\n",
    "# 훈련, 테스트 분리\n",
    "X_train, X_test, y_train, y_test = train_test_split(X, y, test_size=0.2, random_state=42)"
   ]
  },
  {
   "cell_type": "code",
   "execution_count": null,
   "id": "b67318b9",
   "metadata": {},
   "outputs": [],
   "source": [
    "# 모델생성\n",
    "from sklearn.tree import DecisionTreeClassifier\n",
    "dt_clf = DecisionTreeClassifier()\n",
    "dt_clf\n",
    "\n",
    "# 모델학습\n",
    "dt_clf.fit(X_train, y_train)\n",
    "\n",
    "# 모델예측\n",
    "pred = dt_clf.predict(X_test)\n",
    "pred"
   ]
  },
  {
   "cell_type": "code",
   "execution_count": null,
   "id": "f9814df4",
   "metadata": {},
   "outputs": [],
   "source": [
    "# 모델 평가\n",
    "from sklearn.metrics import accuracy_score\n",
    "accuracy_score(y_test, pred) # 정확도"
   ]
  },
  {
   "cell_type": "code",
   "execution_count": null,
   "id": "0caca83f",
   "metadata": {},
   "outputs": [],
   "source": [
    "print(df.isnull().sum())\n",
    "df.info()"
   ]
  },
  {
   "cell_type": "code",
   "execution_count": null,
   "id": "00eb44a7",
   "metadata": {},
   "outputs": [],
   "source": [
    "# 성별: male=1, female=0\n",
    "df['Sex'] = df['Sex'].map({'male': 1, 'female': 0})\n",
    "df.head()"
   ]
  },
  {
   "cell_type": "code",
   "execution_count": null,
   "id": "e4947faf",
   "metadata": {},
   "outputs": [],
   "source": [
    "# Age 평균으로 채우기\n",
    "df['Age'].fillna(df['Age'].mean(), inplace=True)"
   ]
  },
  {
   "cell_type": "code",
   "execution_count": null,
   "id": "c1fbe472",
   "metadata": {},
   "outputs": [],
   "source": [
    "print(df.isnull().sum())"
   ]
  },
  {
   "cell_type": "code",
   "execution_count": 145,
   "id": "a475346b",
   "metadata": {},
   "outputs": [],
   "source": [
    "X = df[['Pclass','Sex', 'Age', 'SibSp']]\n",
    "y = df['Survived']\n",
    "\n",
    "# 훈련, 테스트 분리\n",
    "X_train, X_test, y_train, y_test = train_test_split(X, y, test_size=0.2, random_state=42)"
   ]
  },
  {
   "cell_type": "code",
   "execution_count": null,
   "id": "ae350455",
   "metadata": {},
   "outputs": [],
   "source": [
    "# 모델생성\n",
    "from sklearn.tree import DecisionTreeClassifier\n",
    "dt_clf = DecisionTreeClassifier()\n",
    "dt_clf\n",
    "\n",
    "# 모델학습\n",
    "dt_clf.fit(X_train, y_train)\n",
    "\n",
    "# 모델예측\n",
    "pred = dt_clf.predict(X_test)\n",
    "pred"
   ]
  },
  {
   "cell_type": "code",
   "execution_count": null,
   "id": "5dd6f419",
   "metadata": {},
   "outputs": [],
   "source": [
    "# 모델 평가\n",
    "from sklearn.metrics import accuracy_score\n",
    "accuracy_score(y_test, pred) # 정확도"
   ]
  },
  {
   "cell_type": "code",
   "execution_count": 175,
   "id": "3f31ffd6",
   "metadata": {},
   "outputs": [],
   "source": [
    "X_train, X_test, y_train, y_test = train_test_split(X, \n",
    "                                                  y,\n",
    "                                                  test_size=0.2,\n",
    "                                                  random_state=121)"
   ]
  },
  {
   "cell_type": "code",
   "execution_count": null,
   "id": "6fb0b1a2",
   "metadata": {},
   "outputs": [],
   "source": [
    "from sklearn.model_selection import GridSearchCV\n",
    "dt_clf2 = DecisionTreeClassifier(random_state=121)\n",
    "params = {'max_depth':[1,2,3], 'min_samples_split':[2,3]}\n",
    "grid_dtree = GridSearchCV(dt_clf2, param_grid=params, cv=3, refit=True)\n",
    "grid_dtree.fit(X_train, y_train)"
   ]
  },
  {
   "cell_type": "code",
   "execution_count": null,
   "id": "abef7cd0",
   "metadata": {},
   "outputs": [],
   "source": [
    "pd.DataFrame(grid_dtree.cv_results_)"
   ]
  },
  {
   "cell_type": "code",
   "execution_count": null,
   "id": "ca5b02ab",
   "metadata": {},
   "outputs": [],
   "source": [
    "b_model = grid_dtree.best_estimator_\n",
    "pred = b_model.predict(X_test)\n",
    "accuracy_score(y_test, pred)"
   ]
  },
  {
   "cell_type": "markdown",
   "id": "e7b0a01b",
   "metadata": {},
   "source": [
    "# 피처 스케일링"
   ]
  },
  {
   "cell_type": "code",
   "execution_count": null,
   "id": "bf167339",
   "metadata": {},
   "outputs": [],
   "source": [
    "from sklearn.datasets import load_iris\n",
    "iris = load_iris()\n",
    "iris_df = pd.DataFrame(data=iris.data, columns=iris.feature_names)\n",
    "iris_df.mean()"
   ]
  },
  {
   "cell_type": "code",
   "execution_count": null,
   "id": "84127c29",
   "metadata": {},
   "outputs": [],
   "source": [
    "iris_df.var()"
   ]
  },
  {
   "cell_type": "code",
   "execution_count": null,
   "id": "fe8b63fb",
   "metadata": {},
   "outputs": [],
   "source": [
    "from sklearn.preprocessing import StandardScaler\n",
    "scaler = StandardScaler()\n",
    "scaler.fit(iris_df)\n",
    "iris_scaled = scaler.transform(iris_df)\n",
    "iris_scaled.mean(), iris_scaled.var()"
   ]
  },
  {
   "cell_type": "markdown",
   "id": "5d3364a5",
   "metadata": {},
   "source": [
    "# LogisticRegression 모델\n",
    "\n",
    "- 스케일링 안 한 데이터\n",
    "- 스케일링 한 데이터"
   ]
  },
  {
   "cell_type": "code",
   "execution_count": 186,
   "id": "171217dc",
   "metadata": {},
   "outputs": [],
   "source": [
    "from sklearn.linear_model import LogisticRegression\n",
    "X_train, X_test, y_train, y_test = train_test_split(iris.data, iris.target, test_size=0.2, random_state=11)"
   ]
  },
  {
   "cell_type": "code",
   "execution_count": null,
   "id": "af6f58fa",
   "metadata": {},
   "outputs": [],
   "source": [
    "no_scaling_model = LogisticRegression(random_state=11)\n",
    "no_scaling_model.fit(X_train, y_train)\n",
    "pred_1 = no_scaling_model.predict(X_test)\n",
    "acc_1 = accuracy_score(y_test, pred_1)\n",
    "acc_1"
   ]
  },
  {
   "cell_type": "code",
   "execution_count": 190,
   "id": "3398d2b4",
   "metadata": {},
   "outputs": [],
   "source": [
    "from sklearn.preprocessing import StandardScaler\n",
    "scaler1 = StandardScaler()\n",
    "scaler1.fit(X_train)\n",
    "X_train_scaled = scaler1.transform(X_train)\n",
    "X_test_scaled = scaler1.transform(X_test)"
   ]
  },
  {
   "cell_type": "code",
   "execution_count": null,
   "id": "d1e72ad7",
   "metadata": {},
   "outputs": [],
   "source": [
    "scaling_model = LogisticRegression(random_state=11)\n",
    "scaling_model.fit(X_train_scaled, y_train)\n",
    "pred_2 = scaling_model.predict(X_test_scaled)\n",
    "acc_2 = accuracy_score(y_test, pred_2)\n",
    "acc_2, acc_1"
   ]
  },
  {
   "cell_type": "code",
   "execution_count": null,
   "id": "2a791c93",
   "metadata": {},
   "outputs": [],
   "source": []
  }
 ],
 "metadata": {
  "kernelspec": {
   "display_name": "hi_ml_env",
   "language": "python",
   "name": "python3"
  },
  "language_info": {
   "codemirror_mode": {
    "name": "ipython",
    "version": 3
   },
   "file_extension": ".py",
   "mimetype": "text/x-python",
   "name": "python",
   "nbconvert_exporter": "python",
   "pygments_lexer": "ipython3",
   "version": "3.10.16"
  }
 },
 "nbformat": 4,
 "nbformat_minor": 5
}
