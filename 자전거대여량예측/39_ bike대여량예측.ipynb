{
 "cells": [
  {
   "cell_type": "markdown",
   "id": "ee53f47b",
   "metadata": {},
   "source": [
    "https://www.kaggle.com/c/bike-sharing-demand/data?select=train.csv"
   ]
  },
  {
   "cell_type": "markdown",
   "id": "d0be04d1",
   "metadata": {},
   "source": [
    "- datetime: 대여 기록의 날짜와 시간 정보\n",
    "- season: 계절 (1=봄, 2=여름, 3=가을, 4=겨울)\n",
    "- holiday: 공휴일 여부 (0: 공휴일 아님, 1: 공휴일)\n",
    "- workingday: 근무일 여부 (0: 주말 또는 공휴일, 1: 근무일)\n",
    "- weather: 기상상황 (1~4)\n",
    "- temp: 실제 온도\n",
    "- atemp: 체감온도\n",
    "- humidity: 습도\n",
    "- windspeed: 풍속\n",
    "- casual, registered: 비회원, 회원 대여량(train 데이터에만 있음)\n",
    "- count: 총 대여량(타겟, train 데이터에만 있음)"
   ]
  },
  {
   "cell_type": "code",
   "execution_count": 1,
   "id": "790f5068",
   "metadata": {},
   "outputs": [],
   "source": [
    "# LinearRegression,RandomForestRegressor\n",
    "# GradientBoostingRegressor, XGBRegressor, LGBMRegressor"
   ]
  },
  {
   "cell_type": "code",
   "execution_count": 2,
   "id": "9b1d582a",
   "metadata": {},
   "outputs": [],
   "source": [
    "import pandas as pd\n",
    "import numpy as np\n",
    "import matplotlib.pyplot as plt\n",
    "import seaborn as sns\n",
    "\n",
    "import warnings\n",
    "warnings.filterwarnings('ignore')"
   ]
  },
  {
   "cell_type": "code",
   "execution_count": 3,
   "id": "4963a88b",
   "metadata": {},
   "outputs": [],
   "source": [
    "# matplotlib 한글 폰트 설정 \n",
    "plt.rcParams['font.family'] = 'Malgun Gothic'\n",
    "plt.rcParams['axes.unicode_minus'] = False # 마이너스 폰트 깨짐 방지"
   ]
  },
  {
   "cell_type": "markdown",
   "id": "dc949762",
   "metadata": {},
   "source": [
    "# 1. 데이터 불러오기"
   ]
  },
  {
   "cell_type": "code",
   "execution_count": 4,
   "id": "cd0c855e",
   "metadata": {},
   "outputs": [],
   "source": [
    "# 데이터 로드\n",
    "df = pd.read_csv(\"../data/bike-sharing-demand/train.csv\")\n",
    "test_df = pd.read_csv(\"../data/bike-sharing-demand/test.csv\")"
   ]
  },
  {
   "cell_type": "code",
   "execution_count": 5,
   "id": "a24a5325",
   "metadata": {},
   "outputs": [
    {
     "name": "stdout",
     "output_type": "stream",
     "text": [
      "<class 'pandas.core.frame.DataFrame'>\n",
      "RangeIndex: 10886 entries, 0 to 10885\n",
      "Data columns (total 12 columns):\n",
      " #   Column      Non-Null Count  Dtype  \n",
      "---  ------      --------------  -----  \n",
      " 0   datetime    10886 non-null  object \n",
      " 1   season      10886 non-null  int64  \n",
      " 2   holiday     10886 non-null  int64  \n",
      " 3   workingday  10886 non-null  int64  \n",
      " 4   weather     10886 non-null  int64  \n",
      " 5   temp        10886 non-null  float64\n",
      " 6   atemp       10886 non-null  float64\n",
      " 7   humidity    10886 non-null  int64  \n",
      " 8   windspeed   10886 non-null  float64\n",
      " 9   casual      10886 non-null  int64  \n",
      " 10  registered  10886 non-null  int64  \n",
      " 11  count       10886 non-null  int64  \n",
      "dtypes: float64(3), int64(8), object(1)\n",
      "memory usage: 1020.7+ KB\n"
     ]
    }
   ],
   "source": [
    "df.info()"
   ]
  },
  {
   "cell_type": "code",
   "execution_count": 6,
   "id": "067495ba",
   "metadata": {},
   "outputs": [
    {
     "data": {
      "text/html": [
       "<div>\n",
       "<style scoped>\n",
       "    .dataframe tbody tr th:only-of-type {\n",
       "        vertical-align: middle;\n",
       "    }\n",
       "\n",
       "    .dataframe tbody tr th {\n",
       "        vertical-align: top;\n",
       "    }\n",
       "\n",
       "    .dataframe thead th {\n",
       "        text-align: right;\n",
       "    }\n",
       "</style>\n",
       "<table border=\"1\" class=\"dataframe\">\n",
       "  <thead>\n",
       "    <tr style=\"text-align: right;\">\n",
       "      <th></th>\n",
       "      <th>datetime</th>\n",
       "      <th>season</th>\n",
       "      <th>holiday</th>\n",
       "      <th>workingday</th>\n",
       "      <th>weather</th>\n",
       "      <th>temp</th>\n",
       "      <th>atemp</th>\n",
       "      <th>humidity</th>\n",
       "      <th>windspeed</th>\n",
       "      <th>casual</th>\n",
       "      <th>registered</th>\n",
       "      <th>count</th>\n",
       "    </tr>\n",
       "  </thead>\n",
       "  <tbody>\n",
       "    <tr>\n",
       "      <th>0</th>\n",
       "      <td>2011-01-01 00:00:00</td>\n",
       "      <td>1</td>\n",
       "      <td>0</td>\n",
       "      <td>0</td>\n",
       "      <td>1</td>\n",
       "      <td>9.84</td>\n",
       "      <td>14.395</td>\n",
       "      <td>81</td>\n",
       "      <td>0.0</td>\n",
       "      <td>3</td>\n",
       "      <td>13</td>\n",
       "      <td>16</td>\n",
       "    </tr>\n",
       "    <tr>\n",
       "      <th>1</th>\n",
       "      <td>2011-01-01 01:00:00</td>\n",
       "      <td>1</td>\n",
       "      <td>0</td>\n",
       "      <td>0</td>\n",
       "      <td>1</td>\n",
       "      <td>9.02</td>\n",
       "      <td>13.635</td>\n",
       "      <td>80</td>\n",
       "      <td>0.0</td>\n",
       "      <td>8</td>\n",
       "      <td>32</td>\n",
       "      <td>40</td>\n",
       "    </tr>\n",
       "  </tbody>\n",
       "</table>\n",
       "</div>"
      ],
      "text/plain": [
       "              datetime  season  holiday  workingday  weather  temp   atemp  \\\n",
       "0  2011-01-01 00:00:00       1        0           0        1  9.84  14.395   \n",
       "1  2011-01-01 01:00:00       1        0           0        1  9.02  13.635   \n",
       "\n",
       "   humidity  windspeed  casual  registered  count  \n",
       "0        81        0.0       3          13     16  \n",
       "1        80        0.0       8          32     40  "
      ]
     },
     "execution_count": 6,
     "metadata": {},
     "output_type": "execute_result"
    }
   ],
   "source": [
    "df.head(2)"
   ]
  },
  {
   "cell_type": "markdown",
   "id": "ee8b171b",
   "metadata": {},
   "source": [
    "# 2. 데이터 전처리"
   ]
  },
  {
   "cell_type": "markdown",
   "id": "f0781ce5",
   "metadata": {},
   "source": [
    "## 2.1 datetime 변수 처리"
   ]
  },
  {
   "cell_type": "code",
   "execution_count": 7,
   "id": "7da8bac1",
   "metadata": {},
   "outputs": [],
   "source": [
    "# 1. datetime 변환\n",
    "df['datetime'] = pd.to_datetime(df['datetime'])\n",
    "# 연(year), 월(month), 일(day), 시간(hour), 요일(weekday) 정보 추출\n",
    "df['year'] = df['datetime'].dt.year\n",
    "df['month'] = df['datetime'].dt.month\n",
    "df['day'] = df['datetime'].dt.day\n",
    "df['hour'] = df['datetime'].dt.hour\n",
    "df['weekday'] = df['datetime'].dt.dayofweek # 월요일: 0, 일요일: 6"
   ]
  },
  {
   "cell_type": "code",
   "execution_count": 8,
   "id": "59ba0353",
   "metadata": {},
   "outputs": [],
   "source": [
    "# 1. datetime 변환\n",
    "test_df['datetime'] = pd.to_datetime(test_df['datetime'])\n",
    "# 연(year), 월(month), 일(day), 시간(hour), 요일(weekday) 정보 추출\n",
    "test_df['year'] = test_df['datetime'].dt.year\n",
    "test_df['month'] = test_df['datetime'].dt.month\n",
    "test_df['day'] = test_df['datetime'].dt.day\n",
    "test_df['hour'] = test_df['datetime'].dt.hour\n",
    "test_df['weekday'] = test_df['datetime'].dt.dayofweek # 월요일: 0, 일요일: 6"
   ]
  },
  {
   "cell_type": "markdown",
   "id": "63b5bf6d",
   "metadata": {},
   "source": [
    "## 2.2 불필요한 컬럼 제거"
   ]
  },
  {
   "cell_type": "code",
   "execution_count": 9,
   "id": "e618d38a",
   "metadata": {},
   "outputs": [
    {
     "data": {
      "text/html": [
       "<div>\n",
       "<style scoped>\n",
       "    .dataframe tbody tr th:only-of-type {\n",
       "        vertical-align: middle;\n",
       "    }\n",
       "\n",
       "    .dataframe tbody tr th {\n",
       "        vertical-align: top;\n",
       "    }\n",
       "\n",
       "    .dataframe thead th {\n",
       "        text-align: right;\n",
       "    }\n",
       "</style>\n",
       "<table border=\"1\" class=\"dataframe\">\n",
       "  <thead>\n",
       "    <tr style=\"text-align: right;\">\n",
       "      <th></th>\n",
       "      <th>temp</th>\n",
       "      <th>atemp</th>\n",
       "    </tr>\n",
       "  </thead>\n",
       "  <tbody>\n",
       "    <tr>\n",
       "      <th>temp</th>\n",
       "      <td>1.000000</td>\n",
       "      <td>0.984948</td>\n",
       "    </tr>\n",
       "    <tr>\n",
       "      <th>atemp</th>\n",
       "      <td>0.984948</td>\n",
       "      <td>1.000000</td>\n",
       "    </tr>\n",
       "  </tbody>\n",
       "</table>\n",
       "</div>"
      ],
      "text/plain": [
       "           temp     atemp\n",
       "temp   1.000000  0.984948\n",
       "atemp  0.984948  1.000000"
      ]
     },
     "execution_count": 9,
     "metadata": {},
     "output_type": "execute_result"
    }
   ],
   "source": [
    "df[['temp', 'atemp']].corr()"
   ]
  },
  {
   "cell_type": "markdown",
   "id": "5dfeec59",
   "metadata": {},
   "source": [
    "temp와 atemp 상관계수 0.9840로 높음 -> 동일한 정보를 담고 있다."
   ]
  },
  {
   "cell_type": "code",
   "execution_count": 10,
   "id": "6ed81f73",
   "metadata": {},
   "outputs": [],
   "source": [
    "df = df.drop(['datetime', 'casual', 'registered','day', 'atemp'], axis=1)"
   ]
  },
  {
   "cell_type": "code",
   "execution_count": 11,
   "id": "d39c4a55",
   "metadata": {},
   "outputs": [],
   "source": [
    "test_df = test_df.drop(['datetime','day', 'atemp'], axis=1)"
   ]
  },
  {
   "cell_type": "code",
   "execution_count": 12,
   "id": "84385862",
   "metadata": {},
   "outputs": [
    {
     "data": {
      "text/html": [
       "<div>\n",
       "<style scoped>\n",
       "    .dataframe tbody tr th:only-of-type {\n",
       "        vertical-align: middle;\n",
       "    }\n",
       "\n",
       "    .dataframe tbody tr th {\n",
       "        vertical-align: top;\n",
       "    }\n",
       "\n",
       "    .dataframe thead th {\n",
       "        text-align: right;\n",
       "    }\n",
       "</style>\n",
       "<table border=\"1\" class=\"dataframe\">\n",
       "  <thead>\n",
       "    <tr style=\"text-align: right;\">\n",
       "      <th></th>\n",
       "      <th>season</th>\n",
       "      <th>holiday</th>\n",
       "      <th>workingday</th>\n",
       "      <th>weather</th>\n",
       "      <th>temp</th>\n",
       "      <th>humidity</th>\n",
       "      <th>windspeed</th>\n",
       "      <th>year</th>\n",
       "      <th>month</th>\n",
       "      <th>hour</th>\n",
       "      <th>weekday</th>\n",
       "    </tr>\n",
       "  </thead>\n",
       "  <tbody>\n",
       "    <tr>\n",
       "      <th>0</th>\n",
       "      <td>1</td>\n",
       "      <td>0</td>\n",
       "      <td>1</td>\n",
       "      <td>1</td>\n",
       "      <td>10.66</td>\n",
       "      <td>56</td>\n",
       "      <td>26.0027</td>\n",
       "      <td>2011</td>\n",
       "      <td>1</td>\n",
       "      <td>0</td>\n",
       "      <td>3</td>\n",
       "    </tr>\n",
       "    <tr>\n",
       "      <th>1</th>\n",
       "      <td>1</td>\n",
       "      <td>0</td>\n",
       "      <td>1</td>\n",
       "      <td>1</td>\n",
       "      <td>10.66</td>\n",
       "      <td>56</td>\n",
       "      <td>0.0000</td>\n",
       "      <td>2011</td>\n",
       "      <td>1</td>\n",
       "      <td>1</td>\n",
       "      <td>3</td>\n",
       "    </tr>\n",
       "    <tr>\n",
       "      <th>2</th>\n",
       "      <td>1</td>\n",
       "      <td>0</td>\n",
       "      <td>1</td>\n",
       "      <td>1</td>\n",
       "      <td>10.66</td>\n",
       "      <td>56</td>\n",
       "      <td>0.0000</td>\n",
       "      <td>2011</td>\n",
       "      <td>1</td>\n",
       "      <td>2</td>\n",
       "      <td>3</td>\n",
       "    </tr>\n",
       "    <tr>\n",
       "      <th>3</th>\n",
       "      <td>1</td>\n",
       "      <td>0</td>\n",
       "      <td>1</td>\n",
       "      <td>1</td>\n",
       "      <td>10.66</td>\n",
       "      <td>56</td>\n",
       "      <td>11.0014</td>\n",
       "      <td>2011</td>\n",
       "      <td>1</td>\n",
       "      <td>3</td>\n",
       "      <td>3</td>\n",
       "    </tr>\n",
       "    <tr>\n",
       "      <th>4</th>\n",
       "      <td>1</td>\n",
       "      <td>0</td>\n",
       "      <td>1</td>\n",
       "      <td>1</td>\n",
       "      <td>10.66</td>\n",
       "      <td>56</td>\n",
       "      <td>11.0014</td>\n",
       "      <td>2011</td>\n",
       "      <td>1</td>\n",
       "      <td>4</td>\n",
       "      <td>3</td>\n",
       "    </tr>\n",
       "    <tr>\n",
       "      <th>...</th>\n",
       "      <td>...</td>\n",
       "      <td>...</td>\n",
       "      <td>...</td>\n",
       "      <td>...</td>\n",
       "      <td>...</td>\n",
       "      <td>...</td>\n",
       "      <td>...</td>\n",
       "      <td>...</td>\n",
       "      <td>...</td>\n",
       "      <td>...</td>\n",
       "      <td>...</td>\n",
       "    </tr>\n",
       "    <tr>\n",
       "      <th>6488</th>\n",
       "      <td>1</td>\n",
       "      <td>0</td>\n",
       "      <td>1</td>\n",
       "      <td>2</td>\n",
       "      <td>10.66</td>\n",
       "      <td>60</td>\n",
       "      <td>11.0014</td>\n",
       "      <td>2012</td>\n",
       "      <td>12</td>\n",
       "      <td>19</td>\n",
       "      <td>0</td>\n",
       "    </tr>\n",
       "    <tr>\n",
       "      <th>6489</th>\n",
       "      <td>1</td>\n",
       "      <td>0</td>\n",
       "      <td>1</td>\n",
       "      <td>2</td>\n",
       "      <td>10.66</td>\n",
       "      <td>60</td>\n",
       "      <td>11.0014</td>\n",
       "      <td>2012</td>\n",
       "      <td>12</td>\n",
       "      <td>20</td>\n",
       "      <td>0</td>\n",
       "    </tr>\n",
       "    <tr>\n",
       "      <th>6490</th>\n",
       "      <td>1</td>\n",
       "      <td>0</td>\n",
       "      <td>1</td>\n",
       "      <td>1</td>\n",
       "      <td>10.66</td>\n",
       "      <td>60</td>\n",
       "      <td>11.0014</td>\n",
       "      <td>2012</td>\n",
       "      <td>12</td>\n",
       "      <td>21</td>\n",
       "      <td>0</td>\n",
       "    </tr>\n",
       "    <tr>\n",
       "      <th>6491</th>\n",
       "      <td>1</td>\n",
       "      <td>0</td>\n",
       "      <td>1</td>\n",
       "      <td>1</td>\n",
       "      <td>10.66</td>\n",
       "      <td>56</td>\n",
       "      <td>8.9981</td>\n",
       "      <td>2012</td>\n",
       "      <td>12</td>\n",
       "      <td>22</td>\n",
       "      <td>0</td>\n",
       "    </tr>\n",
       "    <tr>\n",
       "      <th>6492</th>\n",
       "      <td>1</td>\n",
       "      <td>0</td>\n",
       "      <td>1</td>\n",
       "      <td>1</td>\n",
       "      <td>10.66</td>\n",
       "      <td>65</td>\n",
       "      <td>8.9981</td>\n",
       "      <td>2012</td>\n",
       "      <td>12</td>\n",
       "      <td>23</td>\n",
       "      <td>0</td>\n",
       "    </tr>\n",
       "  </tbody>\n",
       "</table>\n",
       "<p>6493 rows × 11 columns</p>\n",
       "</div>"
      ],
      "text/plain": [
       "      season  holiday  workingday  weather   temp  humidity  windspeed  year  \\\n",
       "0          1        0           1        1  10.66        56    26.0027  2011   \n",
       "1          1        0           1        1  10.66        56     0.0000  2011   \n",
       "2          1        0           1        1  10.66        56     0.0000  2011   \n",
       "3          1        0           1        1  10.66        56    11.0014  2011   \n",
       "4          1        0           1        1  10.66        56    11.0014  2011   \n",
       "...      ...      ...         ...      ...    ...       ...        ...   ...   \n",
       "6488       1        0           1        2  10.66        60    11.0014  2012   \n",
       "6489       1        0           1        2  10.66        60    11.0014  2012   \n",
       "6490       1        0           1        1  10.66        60    11.0014  2012   \n",
       "6491       1        0           1        1  10.66        56     8.9981  2012   \n",
       "6492       1        0           1        1  10.66        65     8.9981  2012   \n",
       "\n",
       "      month  hour  weekday  \n",
       "0         1     0        3  \n",
       "1         1     1        3  \n",
       "2         1     2        3  \n",
       "3         1     3        3  \n",
       "4         1     4        3  \n",
       "...     ...   ...      ...  \n",
       "6488     12    19        0  \n",
       "6489     12    20        0  \n",
       "6490     12    21        0  \n",
       "6491     12    22        0  \n",
       "6492     12    23        0  \n",
       "\n",
       "[6493 rows x 11 columns]"
      ]
     },
     "execution_count": 12,
     "metadata": {},
     "output_type": "execute_result"
    }
   ],
   "source": [
    "test_df"
   ]
  },
  {
   "cell_type": "code",
   "execution_count": 13,
   "id": "a52dd274",
   "metadata": {},
   "outputs": [],
   "source": [
    "categorical_features = ['season', 'weather']\n",
    "df = pd.get_dummies(df, columns=categorical_features, drop_first=True)"
   ]
  },
  {
   "cell_type": "code",
   "execution_count": 14,
   "id": "9006d3a4",
   "metadata": {},
   "outputs": [],
   "source": [
    "categorical_features = ['season', 'weather']\n",
    "test_df = pd.get_dummies(test_df, columns=categorical_features, drop_first=True)"
   ]
  },
  {
   "cell_type": "code",
   "execution_count": 15,
   "id": "2dc4bce2",
   "metadata": {},
   "outputs": [
    {
     "data": {
      "text/plain": [
       "holiday       0\n",
       "workingday    0\n",
       "temp          0\n",
       "humidity      0\n",
       "windspeed     0\n",
       "count         0\n",
       "year          0\n",
       "month         0\n",
       "hour          0\n",
       "weekday       0\n",
       "season_2      0\n",
       "season_3      0\n",
       "season_4      0\n",
       "weather_2     0\n",
       "weather_3     0\n",
       "weather_4     0\n",
       "dtype: int64"
      ]
     },
     "execution_count": 15,
     "metadata": {},
     "output_type": "execute_result"
    }
   ],
   "source": [
    "df.isnull().sum()"
   ]
  },
  {
   "cell_type": "markdown",
   "id": "cff2c79a",
   "metadata": {},
   "source": [
    "# 3. 데이터 탐색 및 시각화"
   ]
  },
  {
   "cell_type": "code",
   "execution_count": 16,
   "id": "8a1728c0",
   "metadata": {},
   "outputs": [
    {
     "data": {
      "image/png": "[encoded data removed]",
      "text/plain": [
       "<Figure size 640x480 with 1 Axes>"
      ]
     },
     "metadata": {},
     "output_type": "display_data"
    }
   ],
   "source": [
    "# 3.1 타겟 변수(count)의 분포 확인\n",
    "sns.histplot(df['count'], bins=30, kde=True)\n",
    "plt.xlabel(\"Count\")\n",
    "plt.ylabel(\"Frequency\")\n",
    "plt.show()"
   ]
  },
  {
   "cell_type": "code",
   "execution_count": 17,
   "id": "29b5b342",
   "metadata": {},
   "outputs": [
    {
     "data": {
      "image/png": "[encoded data removed]",
      "text/plain": [
       "<Figure size 1200x800 with 4 Axes>"
      ]
     },
     "metadata": {},
     "output_type": "display_data"
    }
   ],
   "source": [
    "# 3.2 시간대(hour)별 평균 대여 수요 분석\n",
    "# 시간(hour)별 자전거 대여량\n",
    "fig, axes = plt.subplots(nrows=2, ncols=2, figsize=(12, 8))\n",
    "\n",
    "# 1-1. 시간(hour)별 자전거 대여량\n",
    "sns.barplot(x='hour', y='count', data=df, ax=axes[0,0], palette='viridis')\n",
    "axes[0,0].set_title('시간대별 자전거 대여량 (Bar Plot)', fontsize=14)\n",
    "axes[0,0].set_xlabel('시간')\n",
    "axes[0,0].set_ylabel('평균 대여량')\n",
    "axes[0,0].grid(axis='y', linestyle='--', alpha=0.7)\n",
    "\n",
    "# 1-2. 요일(weekday)별 자전거 대여량\n",
    "# 0:월요일, 6:일요일\n",
    "sns.barplot(x='weekday', y='count', data=df, ax=axes[0,1], palette='plasma')\n",
    "axes[0,1].set_title('요일별 자전거 대여량', fontsize=14)\n",
    "axes[0,1].set_xlabel('요일 (0:월, 1:화, ..., 6:일)')\n",
    "axes[0,1].set_ylabel('평균 대여량')\n",
    "axes[0,1].grid(axis='y', linestyle='--', alpha=0.7)\n",
    "\n",
    "# 1-3. 월(month)별 자전거 대여량\n",
    "sns.barplot(x='month', y='count', data=df, ax=axes[1,0], palette='magma')\n",
    "axes[1,0].set_title('월별 자전거 대여량', fontsize=14)\n",
    "axes[1,0].set_xlabel('월')\n",
    "axes[1,0].set_ylabel('평균 대여량')\n",
    "axes[1,0].grid(axis='y', linestyle='--', alpha=0.7)\n",
    "\n",
    "# 1-4. 연도(year)별 자전거 대여량\n",
    "# 2011년과 2012년 데이터를 비교\n",
    "sns.barplot(x='year', y='count', data=df, ax=axes[1,1], palette='cividis')\n",
    "axes[1,1].set_title('연도별 자전거 대여량', fontsize=14)\n",
    "axes[1,1].set_xlabel('연도')\n",
    "axes[1,1].set_ylabel('평균 대여량')\n",
    "axes[1,1].grid(axis='y', linestyle='--', alpha=0.7)\n",
    "\n",
    "plt.tight_layout(rect=[0, 0.03, 1, 0.98]) \n",
    "plt.show()"
   ]
  },
  {
   "cell_type": "markdown",
   "id": "9e807024",
   "metadata": {},
   "source": [
    "- 자전거 대여량이 주로 출퇴근 시간에 집중적인 수요가 발생하며, 낮 시간대에도 꾸준히 사용됨을 알 수 있습니다.\n",
    "- 주중과 주말 모두 자전거 대여 수요가 강하다는 것을 알 수 있습니다. \n",
    "- 자전거 대여량은 강한 계절성을 보인다. 겨울철에는 수요가 감소한다.\n",
    "- 2011년에 비해 2012년에 자전거 대여량이 늘었다."
   ]
  },
  {
   "cell_type": "markdown",
   "id": "dfc35f82",
   "metadata": {},
   "source": [
    "# 4. 모델 학습 및 평가"
   ]
  },
  {
   "cell_type": "code",
   "execution_count": 18,
   "id": "3ee6c7b0",
   "metadata": {},
   "outputs": [],
   "source": [
    "from sklearn.model_selection import train_test_split\n",
    "from sklearn.linear_model import LinearRegression\n",
    "from sklearn.ensemble import RandomForestRegressor, GradientBoostingRegressor\n",
    "from xgboost import XGBRegressor\n",
    "from lightgbm import LGBMRegressor\n",
    "from sklearn.metrics import mean_squared_error, r2_score \n",
    "import numpy as np\n",
    "import matplotlib.pyplot as plt\n",
    "import seaborn as sns\n",
    "\n",
    "# 1. 데이터 분리\n",
    "X = df.drop(['count'], axis=1)\n",
    "y = df['count']\n",
    "\n",
    "X_train, X_test, y_train, y_test = train_test_split(X, y, test_size=0.2, random_state=42)"
   ]
  },
  {
   "cell_type": "code",
   "execution_count": 19,
   "id": "3751ebd1",
   "metadata": {},
   "outputs": [],
   "source": [
    "models = {\n",
    "    \"Linear Regression\": LinearRegression(),\n",
    "    \"Random Forest\": RandomForestRegressor(random_state=42),\n",
    "    \"Gradient Boosting\": GradientBoostingRegressor(random_state=42),\n",
    "    \"XGBoost\": XGBRegressor(random_state=42),\n",
    "    \"LightGBM\": LGBMRegressor(random_state=42)\n",
    "}"
   ]
  },
  {
   "cell_type": "code",
   "execution_count": 20,
   "id": "26b7d266",
   "metadata": {},
   "outputs": [
    {
     "name": "stdout",
     "output_type": "stream",
     "text": [
      "Linear Regression - RMSE: 140.6808, R²: 0.4004\n",
      "Random Forest - RMSE: 39.8305, R²: 0.9519\n",
      "Gradient Boosting - RMSE: 66.3239, R²: 0.8667\n",
      "XGBoost - RMSE: 37.1867, R²: 0.9581\n",
      "LightGBM - RMSE: 38.2788, R²: 0.9556\n"
     ]
    }
   ],
   "source": [
    "results = {}\n",
    "\n",
    "# 모델 반복 학습 및 평가\n",
    "for name, model in models.items():\n",
    "    # 모델 학습\n",
    "    model.fit(X_train.values, y_train)\n",
    "    \n",
    "    # 테스트 데이터 예측\n",
    "    y_pred = model.predict(X_test)\n",
    "    \n",
    "    # 성능 계산: RMSE와 R²\n",
    "    rmse = np.sqrt(mean_squared_error(y_test, y_pred))\n",
    "    r2 = r2_score(y_test, y_pred)\n",
    "    \n",
    "    # 결과 저장\n",
    "    results[name] = {\"RMSE\": rmse, \"R²\": r2}\n",
    "    \n",
    "    print(f\"{name} - RMSE: {rmse:.4f}, R²: {r2:.4f}\")"
   ]
  },
  {
   "cell_type": "markdown",
   "id": "d03aaf75",
   "metadata": {},
   "source": [
    "- lenear regression: 다른 모델들에 비해 성능이 가장 낮음 (복잡한 패턴 포착 불가)\n",
    "- XGBoost, LightGBM: 유사한 RMSE와 R2"
   ]
  },
  {
   "cell_type": "code",
   "execution_count": 21,
   "id": "b02f21b1",
   "metadata": {},
   "outputs": [
    {
     "name": "stdout",
     "output_type": "stream",
     "text": [
      "Fitting 5 folds for each of 16 candidates, totalling 80 fits\n"
     ]
    },
    {
     "name": "stdout",
     "output_type": "stream",
     "text": [
      "Best Parameters: {'max_depth': 20, 'min_samples_leaf': 1, 'min_samples_split': 2, 'n_estimators': 200}\n",
      "Best R2 Score on validation set: 0.9442750542303713\n",
      "Test MSE: 1581.917\n",
      "Test R2: 0.952\n"
     ]
    }
   ],
   "source": [
    "from sklearn.ensemble import RandomForestRegressor\n",
    "from sklearn.model_selection import GridSearchCV\n",
    "\n",
    "# 1. 하이퍼파라미터 후보 정의\n",
    "param_grid = {\n",
    "    'n_estimators': [100, 200],\n",
    "    'max_depth': [10, 20],\n",
    "    'min_samples_split': [2, 5],\n",
    "    'min_samples_leaf': [1, 2]\n",
    "}\n",
    "\n",
    "# 2. 모델 정의\n",
    "rf = RandomForestRegressor(random_state=42)\n",
    "\n",
    "# 3. GridSearchCV 정의\n",
    "grid_search = GridSearchCV(estimator=rf,\n",
    "                           param_grid=param_grid,\n",
    "                           cv=5,\n",
    "                           n_jobs=-1,\n",
    "                           scoring='r2',\n",
    "                           verbose=2)\n",
    "\n",
    "# 4. 학습\n",
    "grid_search.fit(X_train, y_train)\n",
    "\n",
    "# 5. 결과 확인\n",
    "print(\"Best Parameters:\", grid_search.best_params_)\n",
    "print(\"Best R2 Score on validation set:\", grid_search.best_score_)\n",
    "\n",
    "# 6. 테스트셋에 대한 평가\n",
    "best_model = grid_search.best_estimator_\n",
    "y_pred = best_model.predict(X_test)\n",
    "\n",
    "from sklearn.metrics import mean_squared_error, r2_score\n",
    "\n",
    "mse = mean_squared_error(y_test, y_pred)\n",
    "r2 = r2_score(y_test, y_pred)\n",
    "\n",
    "print(f\"Test MSE: {mse:.3f}\")\n",
    "print(f\"Test R2: {r2:.3f}\")\n"
   ]
  },
  {
   "cell_type": "code",
   "execution_count": 22,
   "id": "d66f700d",
   "metadata": {},
   "outputs": [],
   "source": [
    "# from xgboost import XGBRegressor\n",
    "# import pandas as pd\n",
    "# import numpy as np\n",
    "\n",
    "\n",
    "# #NumPy 변환 (XGBoost 호환)\n",
    "# X_np = X.to_numpy(dtype=np.float32)\n",
    "# y_np = y.to_numpy()\n",
    "# X_test_np = test_df.to_numpy(dtype=np.float32)\n",
    "\n",
    "# #모델 정의 및 학습\n",
    "# model = XGBRegressor(random_state=42)\n",
    "# model.fit(X_np, y_np)\n",
    "\n",
    "# # 예측 및 후처리\n",
    "# preds = model.predict(X_test_np)\n",
    "# preds = [max(0, round(p)) for p in preds]\n",
    "\n",
    "# #제출 파일 저장\n",
    "# submission = pd.read_csv('../data/bike-sharing-demand/sampleSubmission.csv')\n",
    "# submission['count'] = preds\n",
    "# submission.to_csv('../data/bike-sharing-demand/submission_xgb.csv', index=False)\n",
    "# print(\"제출 완료: submission_xgb.csv\")"
   ]
  }
 ],
 "metadata": {
  "kernelspec": {
   "display_name": "hi_ml_env",
   "language": "python",
   "name": "python3"
  },
  "language_info": {
   "codemirror_mode": {
    "name": "ipython",
    "version": 3
   },
   "file_extension": ".py",
   "mimetype": "text/x-python",
   "name": "python",
   "nbconvert_exporter": "python",
   "pygments_lexer": "ipython3",
   "version": "3.10.18"
  }
 },
 "nbformat": 4,
 "nbformat_minor": 5
}
