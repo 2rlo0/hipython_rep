{
 "cells": [
  {
   "cell_type": "code",
   "execution_count": 7,
   "id": "03de11fc",
   "metadata": {},
   "outputs": [],
   "source": [
    "import pandas as pd\n",
    "import numpy as np\n",
    "import matplotlib.pyplot as plt\n",
    "import seaborn as sns\n",
    "\n",
    "import warnings\n",
    "warnings.filterwarnings('ignore')\n",
    "\n",
    "# matplotlib 한글 폰트 설정 \n",
    "plt.rcParams['font.family'] = 'Malgun Gothic'\n",
    "plt.rcParams['axes.unicode_minus'] = False # 마이너스 폰트 깨짐 방지"
   ]
  },
  {
   "cell_type": "code",
   "execution_count": 8,
   "id": "1925db60",
   "metadata": {},
   "outputs": [],
   "source": [
    "df = pd.read_csv(\"../data/bike-sharing-demand/train.csv\")"
   ]
  },
  {
   "cell_type": "code",
   "execution_count": 23,
   "id": "2911e813",
   "metadata": {},
   "outputs": [
    {
     "name": "stdout",
     "output_type": "stream",
     "text": [
      "<class 'pandas.core.frame.DataFrame'>\n",
      "RangeIndex: 10886 entries, 0 to 10885\n",
      "Data columns (total 18 columns):\n",
      " #   Column      Non-Null Count  Dtype  \n",
      "---  ------      --------------  -----  \n",
      " 0   holiday     10886 non-null  int64  \n",
      " 1   workingday  10886 non-null  int64  \n",
      " 2   temp        10886 non-null  float64\n",
      " 3   atemp       10886 non-null  float64\n",
      " 4   humidity    10886 non-null  int64  \n",
      " 5   windspeed   10886 non-null  float64\n",
      " 6   count       10886 non-null  int64  \n",
      " 7   year        10886 non-null  int32  \n",
      " 8   month       10886 non-null  int32  \n",
      " 9   day         10886 non-null  int32  \n",
      " 10  hour        10886 non-null  int32  \n",
      " 11  weekday     10886 non-null  int32  \n",
      " 12  season_2    10886 non-null  bool   \n",
      " 13  season_3    10886 non-null  bool   \n",
      " 14  season_4    10886 non-null  bool   \n",
      " 15  weather_2   10886 non-null  bool   \n",
      " 16  weather_3   10886 non-null  bool   \n",
      " 17  weather_4   10886 non-null  bool   \n",
      "dtypes: bool(6), float64(3), int32(5), int64(4)\n",
      "memory usage: 871.9 KB\n",
      "None\n",
      "holiday       0\n",
      "workingday    0\n",
      "temp          0\n",
      "atemp         0\n",
      "humidity      0\n",
      "windspeed     0\n",
      "count         0\n",
      "year          0\n",
      "month         0\n",
      "day           0\n",
      "hour          0\n",
      "weekday       0\n",
      "season_2      0\n",
      "season_3      0\n",
      "season_4      0\n",
      "weather_2     0\n",
      "weather_3     0\n",
      "weather_4     0\n",
      "dtype: int64\n"
     ]
    }
   ],
   "source": [
    "# 데이터프레임 기본 정보 확인\n",
    "print(df.info())\n",
    "\n",
    "# 결측값 확인\n",
    "print(df.isnull().sum())"
   ]
  },
  {
   "cell_type": "code",
   "execution_count": 9,
   "id": "28d878c4",
   "metadata": {},
   "outputs": [],
   "source": [
    "# 1. datetime 변환\n",
    "df['datetime'] = pd.to_datetime(df['datetime'])\n",
    "# 연(year), 월(month), 일(day), 시간(hour), 요일(weekday) 정보 추출\n",
    "df['year'] = df['datetime'].dt.year\n",
    "df['month'] = df['datetime'].dt.month\n",
    "df['day'] = df['datetime'].dt.day\n",
    "df['hour'] = df['datetime'].dt.hour\n",
    "df['weekday'] = df['datetime'].dt.dayofweek # 월요일: 0, 일요일: 6"
   ]
  },
  {
   "cell_type": "code",
   "execution_count": 10,
   "id": "574c2a0a",
   "metadata": {},
   "outputs": [],
   "source": [
    "df = pd.get_dummies(df, columns=['season', 'weather'], drop_first=True)"
   ]
  },
  {
   "cell_type": "code",
   "execution_count": 11,
   "id": "e2efd344",
   "metadata": {},
   "outputs": [],
   "source": [
    "df = df.drop(['datetime', 'casual', 'registered'], axis=1)"
   ]
  },
  {
   "cell_type": "code",
   "execution_count": 13,
   "id": "f0e2348a",
   "metadata": {},
   "outputs": [],
   "source": [
    "X = df.drop(['count'], axis=1)\n",
    "y = df['count']"
   ]
  },
  {
   "cell_type": "code",
   "execution_count": 14,
   "id": "02cfcc8e",
   "metadata": {},
   "outputs": [],
   "source": [
    "from sklearn.preprocessing import StandardScaler\n",
    "scaler = StandardScaler()\n",
    "X_scaled = scaler.fit_transform(X)"
   ]
  },
  {
   "cell_type": "code",
   "execution_count": 15,
   "id": "8d74ea0b",
   "metadata": {},
   "outputs": [],
   "source": [
    "from sklearn.model_selection import train_test_split\n",
    "\n",
    "X_train, X_test, y_train, y_test = train_test_split(X_scaled, y, test_size=0.2, random_state=42)"
   ]
  },
  {
   "cell_type": "code",
   "execution_count": 16,
   "id": "ece59f93",
   "metadata": {},
   "outputs": [],
   "source": [
    "from sklearn.linear_model import LinearRegression\n",
    "\n",
    "model_lr = LinearRegression()\n",
    "model_lr.fit(X_train, y_train)\n",
    "y_pred_lr = model_lr.predict(X_test)"
   ]
  },
  {
   "cell_type": "code",
   "execution_count": 17,
   "id": "08301e4e",
   "metadata": {},
   "outputs": [],
   "source": [
    "from sklearn.ensemble import RandomForestRegressor\n",
    "\n",
    "model_rf = RandomForestRegressor()\n",
    "model_rf.fit(X_train, y_train)\n",
    "y_pred_rf = model_rf.predict(X_test)"
   ]
  },
  {
   "cell_type": "code",
   "execution_count": 18,
   "id": "b9d84822",
   "metadata": {},
   "outputs": [],
   "source": [
    "from sklearn.ensemble import GradientBoostingRegressor\n",
    "\n",
    "model_gbr = GradientBoostingRegressor()\n",
    "model_gbr.fit(X_train, y_train)\n",
    "y_pred_gbr = model_gbr.predict(X_test)"
   ]
  },
  {
   "cell_type": "code",
   "execution_count": 19,
   "id": "afa906f5",
   "metadata": {},
   "outputs": [],
   "source": [
    "from xgboost import XGBRegressor\n",
    "\n",
    "model_xgb = XGBRegressor()\n",
    "model_xgb.fit(X_train, y_train)\n",
    "y_pred_xgb = model_xgb.predict(X_test)"
   ]
  },
  {
   "cell_type": "code",
   "execution_count": 20,
   "id": "443d6a5f",
   "metadata": {},
   "outputs": [],
   "source": [
    "from lightgbm import LGBMRegressor\n",
    "\n",
    "model_lgb = LGBMRegressor()\n",
    "model_lgb.fit(X_train, y_train)\n",
    "y_pred_lgb = model_lgb.predict(X_test)"
   ]
  },
  {
   "cell_type": "code",
   "execution_count": 21,
   "id": "4518192c",
   "metadata": {},
   "outputs": [
    {
     "name": "stdout",
     "output_type": "stream",
     "text": [
      "Linear Regression Performance:\n",
      "RMSE: 140.63099804599423\n",
      "R² Score: 0.4008205520112573\n",
      "\n",
      "Random Forest Performance:\n",
      "RMSE: 38.7429851981764\n",
      "R² Score: 0.9545241367389056\n",
      "\n",
      "Gradient Boosting Performance:\n",
      "RMSE: 68.33733922654201\n",
      "R² Score: 0.8585148299842553\n",
      "\n",
      "XGBoost Performance:\n",
      "RMSE: 37.82438764978134\n",
      "R² Score: 0.956655040415417\n",
      "\n",
      "LightGBM Performance:\n",
      "RMSE: 36.97310004683724\n",
      "R² Score: 0.9585841553828849\n",
      "\n"
     ]
    }
   ],
   "source": [
    "from sklearn.metrics import mean_squared_error, r2_score\n",
    "import numpy as np\n",
    "\n",
    "def evaluate(y_test, y_pred, model_name):\n",
    "    rmse = np.sqrt(mean_squared_error(y_test, y_pred))\n",
    "    r2 = r2_score(y_test, y_pred)\n",
    "    print(f\"{model_name} Performance:\")\n",
    "    print(f\"RMSE: {rmse}\")\n",
    "    print(f\"R² Score: {r2}\\n\")\n",
    "\n",
    "evaluate(y_test, y_pred_lr, 'Linear Regression')\n",
    "evaluate(y_test, y_pred_rf, 'Random Forest')\n",
    "evaluate(y_test, y_pred_gbr, 'Gradient Boosting')\n",
    "evaluate(y_test, y_pred_xgb, 'XGBoost')\n",
    "evaluate(y_test, y_pred_lgb, 'LightGBM')"
   ]
  },
  {
   "cell_type": "code",
   "execution_count": null,
   "id": "1296ed89",
   "metadata": {},
   "outputs": [],
   "source": []
  }
 ],
 "metadata": {
  "kernelspec": {
   "display_name": "hi_ml_env",
   "language": "python",
   "name": "python3"
  },
  "language_info": {
   "codemirror_mode": {
    "name": "ipython",
    "version": 3
   },
   "file_extension": ".py",
   "mimetype": "text/x-python",
   "name": "python",
   "nbconvert_exporter": "python",
   "pygments_lexer": "ipython3",
   "version": "3.10.16"
  }
 },
 "nbformat": 4,
 "nbformat_minor": 5
}
