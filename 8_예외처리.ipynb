{
 "cells": [
  {
   "cell_type": "markdown",
   "id": "c02c4da9-2a4e-40ef-97b3-7e64f3201e7a",
   "metadata": {},
   "source": [
    "# 예외의 종류\n",
    "\n",
    "1. 문법오류: SyntaxError, NameError, TypeError\n",
    "\n",
    "   https://docs.python.org/ko/3/library/exceptions.html#bltin-exceptions\n",
    "3. 논리오류: \n",
    "4. 예외상황"
   ]
  },
  {
   "cell_type": "code",
   "execution_count": 3,
   "id": "f05b624b-7964-4b28-9642-fc477abac34c",
   "metadata": {},
   "outputs": [
    {
     "ename": "SyntaxError",
     "evalue": "expected ':' (1034960825.py, line 1)",
     "output_type": "error",
     "traceback": [
      "  \u001b[36mCell\u001b[39m\u001b[36m \u001b[39m\u001b[32mIn[3]\u001b[39m\u001b[32m, line 1\u001b[39m\n\u001b[31m    \u001b[39m\u001b[31mwhile True\u001b[39m\n              ^\n\u001b[31mSyntaxError\u001b[39m\u001b[31m:\u001b[39m expected ':'\n"
     ]
    }
   ],
   "source": [
    "while True\n",
    "    print('hello')"
   ]
  },
  {
   "cell_type": "code",
   "execution_count": 4,
   "id": "70ec36ca-d8d0-4395-b239-6a733b9c27ea",
   "metadata": {},
   "outputs": [
    {
     "ename": "NameError",
     "evalue": "name 'am' is not defined",
     "output_type": "error",
     "traceback": [
      "\u001b[31m---------------------------------------------------------------------------\u001b[39m",
      "\u001b[31mNameError\u001b[39m                                 Traceback (most recent call last)",
      "\u001b[36mCell\u001b[39m\u001b[36m \u001b[39m\u001b[32mIn[4]\u001b[39m\u001b[32m, line 1\u001b[39m\n\u001b[32m----> \u001b[39m\u001b[32m1\u001b[39m \u001b[32m4\u001b[39m + \u001b[32m2\u001b[39m*am\n",
      "\u001b[31mNameError\u001b[39m: name 'am' is not defined"
     ]
    }
   ],
   "source": [
    "4 + 2*am"
   ]
  },
  {
   "cell_type": "code",
   "execution_count": 5,
   "id": "a878af4b-a346-4146-bc79-83c5dfd9481f",
   "metadata": {
    "scrolled": true
   },
   "outputs": [
    {
     "ename": "TypeError",
     "evalue": "unsupported operand type(s) for +: 'int' and 'str'",
     "output_type": "error",
     "traceback": [
      "\u001b[31m---------------------------------------------------------------------------\u001b[39m",
      "\u001b[31mTypeError\u001b[39m                                 Traceback (most recent call last)",
      "\u001b[36mCell\u001b[39m\u001b[36m \u001b[39m\u001b[32mIn[5]\u001b[39m\u001b[32m, line 1\u001b[39m\n\u001b[32m----> \u001b[39m\u001b[32m1\u001b[39m \u001b[32m2\u001b[39m + \u001b[33m'\u001b[39m\u001b[33m2\u001b[39m\u001b[33m'\u001b[39m\n",
      "\u001b[31mTypeError\u001b[39m: unsupported operand type(s) for +: 'int' and 'str'"
     ]
    }
   ],
   "source": [
    "2 + '2'"
   ]
  },
  {
   "cell_type": "markdown",
   "id": "6d333cc2-eaf4-4ad7-aca7-7fa6994c9630",
   "metadata": {},
   "source": [
    "# try:\n",
    "\n",
    "except"
   ]
  },
  {
   "cell_type": "code",
   "execution_count": 7,
   "id": "5365f85a-c3ac-48dd-ab26-410c070c22a6",
   "metadata": {},
   "outputs": [
    {
     "ename": "ZeroDivisionError",
     "evalue": "division by zero",
     "output_type": "error",
     "traceback": [
      "\u001b[31m---------------------------------------------------------------------------\u001b[39m",
      "\u001b[31mZeroDivisionError\u001b[39m                         Traceback (most recent call last)",
      "\u001b[36mCell\u001b[39m\u001b[36m \u001b[39m\u001b[32mIn[7]\u001b[39m\u001b[32m, line 1\u001b[39m\n\u001b[32m----> \u001b[39m\u001b[32m1\u001b[39m \u001b[32m10\u001b[39m /\u001b[32m0\u001b[39m\n",
      "\u001b[31mZeroDivisionError\u001b[39m: division by zero"
     ]
    }
   ],
   "source": [
    "10 /0 # ZeroDivisionError"
   ]
  },
  {
   "cell_type": "code",
   "execution_count": 10,
   "id": "462284cc-f03e-428f-ad12-7c746220b94e",
   "metadata": {},
   "outputs": [],
   "source": [
    "def divide(m,n):\n",
    "    return m/n"
   ]
  },
  {
   "cell_type": "code",
   "execution_count": 11,
   "id": "6190db8e-5e3a-4646-89cd-9c9884e0d34b",
   "metadata": {},
   "outputs": [
    {
     "data": {
      "text/plain": [
       "1.5"
      ]
     },
     "execution_count": 11,
     "metadata": {},
     "output_type": "execute_result"
    }
   ],
   "source": [
    "result = divide(3,2)\n",
    "result"
   ]
  },
  {
   "cell_type": "code",
   "execution_count": 12,
   "id": "ce1fbe21-f30e-4b1a-ba44-1ec46701d127",
   "metadata": {},
   "outputs": [
    {
     "ename": "ZeroDivisionError",
     "evalue": "division by zero",
     "output_type": "error",
     "traceback": [
      "\u001b[31m---------------------------------------------------------------------------\u001b[39m",
      "\u001b[31mZeroDivisionError\u001b[39m                         Traceback (most recent call last)",
      "\u001b[36mCell\u001b[39m\u001b[36m \u001b[39m\u001b[32mIn[12]\u001b[39m\u001b[32m, line 1\u001b[39m\n\u001b[32m----> \u001b[39m\u001b[32m1\u001b[39m result = divide(\u001b[32m3\u001b[39m,\u001b[32m0\u001b[39m)\n\u001b[32m      2\u001b[39m result\n",
      "\u001b[36mCell\u001b[39m\u001b[36m \u001b[39m\u001b[32mIn[10]\u001b[39m\u001b[32m, line 2\u001b[39m, in \u001b[36mdivide\u001b[39m\u001b[34m(m, n)\u001b[39m\n\u001b[32m      1\u001b[39m \u001b[38;5;28;01mdef\u001b[39;00m\u001b[38;5;250m \u001b[39m\u001b[34mdivide\u001b[39m(m,n):\n\u001b[32m----> \u001b[39m\u001b[32m2\u001b[39m     \u001b[38;5;28;01mreturn\u001b[39;00m m/n\n",
      "\u001b[31mZeroDivisionError\u001b[39m: division by zero"
     ]
    }
   ],
   "source": [
    "result = divide(3,0)\n",
    "result"
   ]
  },
  {
   "cell_type": "code",
   "execution_count": 40,
   "id": "714fd868-81ea-4aa8-ba76-c903929776fc",
   "metadata": {},
   "outputs": [],
   "source": [
    "def divide(m,n):\n",
    "    try:\n",
    "        result = m/n\n",
    "        result += int(s)\n",
    "        return result\n",
    "    except (ValueError, ZeroDivisionError):\n",
    "        print('0으로 나눌 수 없습니다')\n",
    "        return None\n",
    "    except : # 나머지 모든 에러 받기\n",
    "        print('다른 에러가 발생했습니다.')\n",
    "        return None\n",
    "    finally:\n",
    "        print(\"항상 실행되는 코드입니다.\")"
   ]
  },
  {
   "cell_type": "code",
   "execution_count": 38,
   "id": "3ed43c12-df3f-4d6e-98f0-3fa4075843b1",
   "metadata": {},
   "outputs": [
    {
     "name": "stdout",
     "output_type": "stream",
     "text": [
      "0으로 나눌 수 없습니다\n"
     ]
    }
   ],
   "source": [
    "result = divide(3,0)\n",
    "result"
   ]
  },
  {
   "cell_type": "code",
   "execution_count": 31,
   "id": "50b036d6-8275-4534-9b00-55e570e90c4f",
   "metadata": {},
   "outputs": [
    {
     "name": "stdout",
     "output_type": "stream",
     "text": [
      "다른 에러가 발생했습니다.\n"
     ]
    }
   ],
   "source": [
    "divide(None,0)"
   ]
  },
  {
   "cell_type": "code",
   "execution_count": 36,
   "id": "236da942-71fc-4917-98e6-40f7faa2cb2e",
   "metadata": {},
   "outputs": [
    {
     "ename": "TypeError",
     "evalue": "divide() takes 2 positional arguments but 3 were given",
     "output_type": "error",
     "traceback": [
      "\u001b[31m---------------------------------------------------------------------------\u001b[39m",
      "\u001b[31mTypeError\u001b[39m                                 Traceback (most recent call last)",
      "\u001b[36mCell\u001b[39m\u001b[36m \u001b[39m\u001b[32mIn[36]\u001b[39m\u001b[32m, line 1\u001b[39m\n\u001b[32m----> \u001b[39m\u001b[32m1\u001b[39m divide(\u001b[32m3\u001b[39m,\u001b[32m2\u001b[39m,\u001b[33m'\u001b[39m\u001b[33ma\u001b[39m\u001b[33m'\u001b[39m)\n",
      "\u001b[31mTypeError\u001b[39m: divide() takes 2 positional arguments but 3 were given"
     ]
    }
   ],
   "source": [
    "divide(3,2,'a')"
   ]
  },
  {
   "cell_type": "markdown",
   "id": "493fc1bb-3986-4271-ac7a-f926932ef9d0",
   "metadata": {},
   "source": [
    "# 예외시키기"
   ]
  },
  {
   "cell_type": "code",
   "execution_count": 44,
   "id": "fdb311fa-25a2-480e-9692-f0ae609173e8",
   "metadata": {},
   "outputs": [
    {
     "ename": "TypeError",
     "evalue": "입력값오류",
     "output_type": "error",
     "traceback": [
      "\u001b[31m---------------------------------------------------------------------------\u001b[39m",
      "\u001b[31mTypeError\u001b[39m                                 Traceback (most recent call last)",
      "\u001b[36mCell\u001b[39m\u001b[36m \u001b[39m\u001b[32mIn[44]\u001b[39m\u001b[32m, line 1\u001b[39m\n\u001b[32m----> \u001b[39m\u001b[32m1\u001b[39m \u001b[38;5;28;01mraise\u001b[39;00m \u001b[38;5;167;01mTypeError\u001b[39;00m(\u001b[33m'\u001b[39m\u001b[33m입력값오류\u001b[39m\u001b[33m'\u001b[39m)\n",
      "\u001b[31mTypeError\u001b[39m: 입력값오류"
     ]
    }
   ],
   "source": [
    "raise TypeError('입력값오류')"
   ]
  },
  {
   "cell_type": "code",
   "execution_count": 45,
   "id": "9a0dbce7-2969-423e-a26b-0dec37933bc7",
   "metadata": {},
   "outputs": [
    {
     "name": "stdout",
     "output_type": "stream",
     "text": [
      "('입력값오류',)\n"
     ]
    }
   ],
   "source": [
    "try:\n",
    "    raise TypeError('입력값오류')\n",
    "except TypeError as e:\n",
    "    print(e.args)"
   ]
  },
  {
   "cell_type": "markdown",
   "id": "0c941258-3a32-4a7e-aa6a-a6d94ca9e010",
   "metadata": {},
   "source": [
    "# 내가 정의하는 예외\n",
    "\n",
    "1. 예외 클래스 작성: 각 예외상황에 맞는 메시지를 작성\n",
    "2. 호출할 때 try:except로 받아줍니다."
   ]
  },
  {
   "cell_type": "code",
   "execution_count": 59,
   "id": "92b041ea-9c95-4e87-9185-a7bf64afcbe0",
   "metadata": {},
   "outputs": [],
   "source": [
    "class AgeException(Exception):\n",
    "    def __init__(self, msg):\n",
    "        self._message = msg\n",
    "\n",
    "def input_age():\n",
    "    age = int(input('나이를 입력하세요 : '))\n",
    "\n",
    "    if age < 0:\n",
    "        raise AgeException('나이는 양수입니다.')\n",
    "    elif age > 150:\n",
    "        raise AgeException('150살 이상?')\n",
    "    else:\n",
    "        return age"
   ]
  },
  {
   "cell_type": "code",
   "execution_count": 60,
   "id": "6a83e7bf-a07a-47fd-838c-c7c2dfb02558",
   "metadata": {},
   "outputs": [
    {
     "name": "stdin",
     "output_type": "stream",
     "text": [
      "나이를 입력하세요 :  190\n"
     ]
    },
    {
     "ename": "AgeException",
     "evalue": "150살 이상?",
     "output_type": "error",
     "traceback": [
      "\u001b[31m---------------------------------------------------------------------------\u001b[39m",
      "\u001b[31mAgeException\u001b[39m                              Traceback (most recent call last)",
      "\u001b[36mCell\u001b[39m\u001b[36m \u001b[39m\u001b[32mIn[60]\u001b[39m\u001b[32m, line 1\u001b[39m\n\u001b[32m----> \u001b[39m\u001b[32m1\u001b[39m input_age()\n",
      "\u001b[36mCell\u001b[39m\u001b[36m \u001b[39m\u001b[32mIn[59]\u001b[39m\u001b[32m, line 11\u001b[39m, in \u001b[36minput_age\u001b[39m\u001b[34m()\u001b[39m\n\u001b[32m      9\u001b[39m     \u001b[38;5;28;01mraise\u001b[39;00m AgeException(\u001b[33m'\u001b[39m\u001b[33m나이는 양수입니다.\u001b[39m\u001b[33m'\u001b[39m)\n\u001b[32m     10\u001b[39m \u001b[38;5;28;01melif\u001b[39;00m age > \u001b[32m150\u001b[39m:\n\u001b[32m---> \u001b[39m\u001b[32m11\u001b[39m     \u001b[38;5;28;01mraise\u001b[39;00m AgeException(\u001b[33m'\u001b[39m\u001b[33m150살 이상?\u001b[39m\u001b[33m'\u001b[39m)\n\u001b[32m     12\u001b[39m \u001b[38;5;28;01melse\u001b[39;00m:\n\u001b[32m     13\u001b[39m     \u001b[38;5;28;01mreturn\u001b[39;00m age\n",
      "\u001b[31mAgeException\u001b[39m: 150살 이상?"
     ]
    }
   ],
   "source": [
    "input_age()"
   ]
  },
  {
   "cell_type": "code",
   "execution_count": 68,
   "id": "5ba1d3e6-3fde-4204-8499-b5c9925024dd",
   "metadata": {},
   "outputs": [
    {
     "name": "stdin",
     "output_type": "stream",
     "text": [
      "나이를 입력하세요 :  9390\n"
     ]
    },
    {
     "name": "stdout",
     "output_type": "stream",
     "text": [
      "150살 이상?\n"
     ]
    }
   ],
   "source": [
    "try:\n",
    "    age = input_age()\n",
    "except AgeException as e:\n",
    "    print(e.args[0])\n",
    "else:\n",
    "    print(f'입력하신 나이는 {age}입니다')"
   ]
  },
  {
   "cell_type": "code",
   "execution_count": null,
   "id": "e27e8136-4298-498e-ac3c-9e85d7f2fb1b",
   "metadata": {},
   "outputs": [],
   "source": []
  }
 ],
 "metadata": {
  "kernelspec": {
   "display_name": "Python 3 (ipykernel)",
   "language": "python",
   "name": "python3"
  },
  "language_info": {
   "codemirror_mode": {
    "name": "ipython",
    "version": 3
   },
   "file_extension": ".py",
   "mimetype": "text/x-python",
   "name": "python",
   "nbconvert_exporter": "python",
   "pygments_lexer": "ipython3",
   "version": "3.12.9"
  }
 },
 "nbformat": 4,
 "nbformat_minor": 5
}
