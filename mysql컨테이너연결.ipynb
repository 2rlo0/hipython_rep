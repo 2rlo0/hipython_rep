{
 "cells": [
  {
   "cell_type": "markdown",
   "id": "2ae38ff9",
   "metadata": {},
   "source": [
    "파이썬 프로그램\n",
    "- my_db database 생성\n",
    "- users table 생성\n",
    "- uesr_id1, id2 데이터 삽입\n",
    "\n",
    "- mysql console에서 확인\n",
    "- workbench에서 확인"
   ]
  },
  {
   "cell_type": "markdown",
   "id": "ec997414",
   "metadata": {},
   "source": [
    "#### MySQL Client 에서 연결하기"
   ]
  },
  {
   "cell_type": "code",
   "execution_count": 19,
   "id": "32371a93",
   "metadata": {},
   "outputs": [
    {
     "name": "stdout",
     "output_type": "stream",
     "text": [
      "✅ my_db 데이터베이스 생성 완료\n"
     ]
    }
   ],
   "source": [
    "import pymysql\n",
    "\n",
    "# DB 서버 연결 (특정 DB 없이 접속)\n",
    "connection = pymysql.connect(\n",
    "    host='192.168.47.131',\n",
    "    port=3307,\n",
    "    user='root',\n",
    "    password='1234'\n",
    ")\n",
    "\n",
    "try:\n",
    "    with connection.cursor() as cursor:\n",
    "        cursor.execute(\"CREATE DATABASE IF NOT EXISTS my_db\")\n",
    "        print(\"✅ my_db 데이터베이스 생성 완료\")\n",
    "    connection.commit()\n",
    "finally:\n",
    "    connection.close()\n"
   ]
  },
  {
   "cell_type": "markdown",
   "id": "8f6ceeb1",
   "metadata": {},
   "source": [
    "#### 데이터 베이스 만들기"
   ]
  },
  {
   "cell_type": "code",
   "execution_count": 20,
   "id": "b10ca372",
   "metadata": {},
   "outputs": [
    {
     "name": "stdout",
     "output_type": "stream",
     "text": [
      "✅ users 테이블 생성 완료\n"
     ]
    }
   ],
   "source": [
    "connection = pymysql.connect(\n",
    "    host='192.168.47.131',\n",
    "    port=3307,\n",
    "    user='root',\n",
    "    password='1234',\n",
    "    database='my_db'\n",
    ")\n",
    "\n",
    "try:\n",
    "    with connection.cursor() as cursor:\n",
    "        cursor.execute('''\n",
    "            CREATE TABLE IF NOT EXISTS users (\n",
    "                id INT AUTO_INCREMENT PRIMARY KEY,\n",
    "                username VARCHAR(50) NOT NULL\n",
    "            )\n",
    "        ''')\n",
    "        print(\"✅ users 테이블 생성 완료\")\n",
    "    connection.commit()\n",
    "finally:\n",
    "    connection.close()\n"
   ]
  },
  {
   "cell_type": "markdown",
   "id": "6ec98710",
   "metadata": {},
   "source": [
    "#### 내용 삽입하기"
   ]
  },
  {
   "cell_type": "code",
   "execution_count": 21,
   "id": "74aabc70",
   "metadata": {},
   "outputs": [
    {
     "name": "stdout",
     "output_type": "stream",
     "text": [
      "✅ 데이터 삽입 완료\n"
     ]
    }
   ],
   "source": [
    "connection = pymysql.connect(\n",
    "    host='192.168.47.131',\n",
    "    port=3307,\n",
    "    user='root',\n",
    "    password='1234',\n",
    "    database='my_db'\n",
    ")\n",
    "\n",
    "try:\n",
    "    with connection.cursor() as cursor:\n",
    "        insert_sql = \"INSERT INTO users (username) VALUES (%s)\"\n",
    "        cursor.execute(insert_sql, (\"id1\",))\n",
    "        cursor.execute(insert_sql, (\"id2\",))\n",
    "        print(\"✅ 데이터 삽입 완료\")\n",
    "    connection.commit()\n",
    "finally:\n",
    "    connection.close()"
   ]
  },
  {
   "cell_type": "code",
   "execution_count": 23,
   "id": "7e5b8bc1",
   "metadata": {},
   "outputs": [],
   "source": [
    "connection = pymysql.connect(\n",
    "    host='192.168.47.131',\n",
    "    port=3307,\n",
    "    user='root',\n",
    "    password='1234',\n",
    "    database='my_db'\n",
    ")"
   ]
  }
 ],
 "metadata": {
  "kernelspec": {
   "display_name": "anal_env",
   "language": "python",
   "name": "python3"
  },
  "language_info": {
   "codemirror_mode": {
    "name": "ipython",
    "version": 3
   },
   "file_extension": ".py",
   "mimetype": "text/x-python",
   "name": "python",
   "nbconvert_exporter": "python",
   "pygments_lexer": "ipython3",
   "version": "3.12.11"
  }
 },
 "nbformat": 4,
 "nbformat_minor": 5
}
